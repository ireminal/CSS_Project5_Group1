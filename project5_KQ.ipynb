{
 "cells": [
  {
   "cell_type": "markdown",
   "metadata": {},
   "source": [
    "## [Computational Social Science] Project 5: Natural Language Processing"
   ]
  },
  {
   "cell_type": "markdown",
   "metadata": {},
   "source": [
    "In this project, you will use natural language processing techniques to explore a dataset containing tweets from members of the 116th United States Congress that met from January 3, 2019 to January 2, 2021. The dataset has also been cleaned to contain information about each legislator. Concretely, you will do the following:\n",
    "\n",
    "* Preprocess the text of legislators' tweets\n",
    "* Conduct Exploratory Data Analysis of the text\n",
    "* Use sentiment analysis to explore differences between legislators' tweets\n",
    "* Featurize text with manual feature engineering, frequency-based, and vector-based techniques\n",
    "* Predict legislators' political parties and whether they are a Senator or Representative\n",
    "\n",
    "You will explore two questions that relate to two central findings in political science and examine how they relate to the text of legislators' tweets. First, political scientists have argued that U.S. politics is currently highly polarized relative to other periods in American history, but also that the polarization is asymmetric. Historically, there were several conservative Democrats (i.e. \"blue dog Democrats\") and liberal Republicans (i.e. \"Rockefeller Republicans\"), as measured by popular measurement tools like [DW-NOMINATE](https://en.wikipedia.org/wiki/NOMINATE_(scaling_method)#:~:text=DW\\%2DNOMINATE\\%20scores\\%20have\\%20been,in\\%20the\\%20liberal\\%2Dconservative\\%20scale.). However, in the last few years, there are few if any examples of any Democrat in Congress being further to the right than any Republican and vice versa. At the same time, scholars have argued that this polarization is mostly a function of the Republican party moving further right than the Democratic party has moved left. **Does this sort of asymmetric polarization show up in how politicians communicate to their constituents through tweets?**\n",
    "\n",
    "Second, the U.S. Congress is a bicameral legislature, and there has long been debate about partisanship in the Senate versus the House. The House of Representatives is apportioned by population and all members serve two year terms. In the Senate, each state receives two Senators and each Senator serves a term of six years. For a variety of reasons (smaller chamber size, more insulation from the voters, rules and norms like the filibuster, etc.), the Senate has been argued to be the \"cooling saucer\" of Congress in that it is more bipartisan and moderate than the House. **Does the theory that the Senate is more moderate have support in Senators' tweets?**\n",
    "\n",
    "**Note**: See the project handout for more details on caveats and the data dictionary."
   ]
  },
  {
   "cell_type": "code",
   "execution_count": 1,
   "metadata": {},
   "outputs": [],
   "source": [
    "# pandas and numpy\n",
    "import pandas as pd\n",
    "import numpy as np\n",
    "\n",
    "# punctuation, stop words and English language model\n",
    "from string import punctuation\n",
    "from spacy.lang.en.stop_words import STOP_WORDS\n",
    "import en_core_web_sm\n",
    "nlp = en_core_web_sm.load()\n",
    "\n",
    "# textblob\n",
    "from textblob import TextBlob\n",
    "\n",
    "# countvectorizer, tfidfvectorizer\n",
    "from sklearn.feature_extraction.text import CountVectorizer, TfidfVectorizer\n",
    "from sklearn.decomposition import LatentDirichletAllocation\n",
    "\n",
    "# gensim\n",
    "import gensim\n",
    "from gensim import models\n",
    "\n",
    "# plotting\n",
    "import matplotlib.pyplot as plt\n",
    "import seaborn as sns\n",
    "%matplotlib inline"
   ]
  },
  {
   "cell_type": "code",
   "execution_count": 2,
   "metadata": {},
   "outputs": [
    {
     "data": {
      "text/html": [
       "<div>\n",
       "<style scoped>\n",
       "    .dataframe tbody tr th:only-of-type {\n",
       "        vertical-align: middle;\n",
       "    }\n",
       "\n",
       "    .dataframe tbody tr th {\n",
       "        vertical-align: top;\n",
       "    }\n",
       "\n",
       "    .dataframe thead th {\n",
       "        text-align: right;\n",
       "    }\n",
       "</style>\n",
       "<table border=\"1\" class=\"dataframe\">\n",
       "  <thead>\n",
       "    <tr style=\"text-align: right;\">\n",
       "      <th></th>\n",
       "      <th>tweet_id</th>\n",
       "      <th>screen_name</th>\n",
       "      <th>datetime</th>\n",
       "      <th>text</th>\n",
       "      <th>name_wikipedia</th>\n",
       "      <th>position</th>\n",
       "      <th>joined_congress_date</th>\n",
       "      <th>birthday</th>\n",
       "      <th>gender</th>\n",
       "      <th>state</th>\n",
       "      <th>district_number</th>\n",
       "      <th>party</th>\n",
       "      <th>trump_2016_state_share</th>\n",
       "      <th>clinton_2016_state_share</th>\n",
       "      <th>obama_2012_state_share</th>\n",
       "      <th>romney_2012_state_share</th>\n",
       "      <th>party_binary</th>\n",
       "    </tr>\n",
       "  </thead>\n",
       "  <tbody>\n",
       "    <tr>\n",
       "      <th>0</th>\n",
       "      <td>1.226990e+18</td>\n",
       "      <td>RepGwenMoore</td>\n",
       "      <td>2020-02-10T17:01:24-05:00</td>\n",
       "      <td>RT @NationalNOW Thank you to our sponsor @RepG...</td>\n",
       "      <td>Gwen Moore</td>\n",
       "      <td>Rep</td>\n",
       "      <td>3-Jan-05</td>\n",
       "      <td>4/18/1951</td>\n",
       "      <td>F</td>\n",
       "      <td>WI</td>\n",
       "      <td>4</td>\n",
       "      <td>Democrat</td>\n",
       "      <td>1,405,284</td>\n",
       "      <td>1,382,536</td>\n",
       "      <td>1,620,985</td>\n",
       "      <td>1,407,966</td>\n",
       "      <td>Democrat</td>\n",
       "    </tr>\n",
       "    <tr>\n",
       "      <th>1</th>\n",
       "      <td>1.196850e+18</td>\n",
       "      <td>RepJuanVargas</td>\n",
       "      <td>2019-11-19T12:48:20-05:00</td>\n",
       "      <td>RT @TheBlackCaucus It is UNFATHOMABLE \\nthat a...</td>\n",
       "      <td>Juan Vargas</td>\n",
       "      <td>Rep</td>\n",
       "      <td>3-Jan-13</td>\n",
       "      <td>3/7/1961</td>\n",
       "      <td>M</td>\n",
       "      <td>CA</td>\n",
       "      <td>51</td>\n",
       "      <td>Democrat</td>\n",
       "      <td>4,483,814</td>\n",
       "      <td>8,753,792</td>\n",
       "      <td>7,854,285</td>\n",
       "      <td>4,839,958</td>\n",
       "      <td>Democrat</td>\n",
       "    </tr>\n",
       "    <tr>\n",
       "      <th>2</th>\n",
       "      <td>1.138260e+18</td>\n",
       "      <td>RepCohen</td>\n",
       "      <td>2019-06-10T21:49:17-04:00</td>\n",
       "      <td>The #MuellerReport isn’t just a smoking gun, i...</td>\n",
       "      <td>Steve Cohen</td>\n",
       "      <td>Rep</td>\n",
       "      <td>3-Jan-07</td>\n",
       "      <td>5/24/1949</td>\n",
       "      <td>M</td>\n",
       "      <td>TN</td>\n",
       "      <td>9</td>\n",
       "      <td>Democrat</td>\n",
       "      <td>1,522,925</td>\n",
       "      <td>870,695</td>\n",
       "      <td>960,709</td>\n",
       "      <td>1,462,330</td>\n",
       "      <td>Democrat</td>\n",
       "    </tr>\n",
       "    <tr>\n",
       "      <th>3</th>\n",
       "      <td>1.247960e+18</td>\n",
       "      <td>RepVeasey</td>\n",
       "      <td>2020-04-08T14:34:39-04:00</td>\n",
       "      <td>I applaud today’s announcement that will secur...</td>\n",
       "      <td>Marc Veasey</td>\n",
       "      <td>Rep</td>\n",
       "      <td>3-Jan-13</td>\n",
       "      <td>1/3/1971</td>\n",
       "      <td>M</td>\n",
       "      <td>TX</td>\n",
       "      <td>33</td>\n",
       "      <td>Democrat</td>\n",
       "      <td>4,685,047</td>\n",
       "      <td>3,877,868</td>\n",
       "      <td>3,308,124</td>\n",
       "      <td>4,569,843</td>\n",
       "      <td>Democrat</td>\n",
       "    </tr>\n",
       "    <tr>\n",
       "      <th>4</th>\n",
       "      <td>1.103420e+18</td>\n",
       "      <td>RepRoybalAllard</td>\n",
       "      <td>2019-03-06T17:36:50-05:00</td>\n",
       "      <td>RT @EndChildPovCA Yes! Thank you @RepBarbaraLe...</td>\n",
       "      <td>Lucille Roybal-Allard</td>\n",
       "      <td>Rep</td>\n",
       "      <td>3-Jan-93</td>\n",
       "      <td>6/12/1941</td>\n",
       "      <td>F</td>\n",
       "      <td>CA</td>\n",
       "      <td>40</td>\n",
       "      <td>Democrat</td>\n",
       "      <td>4,483,814</td>\n",
       "      <td>8,753,792</td>\n",
       "      <td>7,854,285</td>\n",
       "      <td>4,839,958</td>\n",
       "      <td>Democrat</td>\n",
       "    </tr>\n",
       "  </tbody>\n",
       "</table>\n",
       "</div>"
      ],
      "text/plain": [
       "       tweet_id      screen_name                   datetime  \\\n",
       "0  1.226990e+18     RepGwenMoore  2020-02-10T17:01:24-05:00   \n",
       "1  1.196850e+18    RepJuanVargas  2019-11-19T12:48:20-05:00   \n",
       "2  1.138260e+18         RepCohen  2019-06-10T21:49:17-04:00   \n",
       "3  1.247960e+18        RepVeasey  2020-04-08T14:34:39-04:00   \n",
       "4  1.103420e+18  RepRoybalAllard  2019-03-06T17:36:50-05:00   \n",
       "\n",
       "                                                text         name_wikipedia  \\\n",
       "0  RT @NationalNOW Thank you to our sponsor @RepG...             Gwen Moore   \n",
       "1  RT @TheBlackCaucus It is UNFATHOMABLE \\nthat a...            Juan Vargas   \n",
       "2  The #MuellerReport isn’t just a smoking gun, i...            Steve Cohen   \n",
       "3  I applaud today’s announcement that will secur...            Marc Veasey   \n",
       "4  RT @EndChildPovCA Yes! Thank you @RepBarbaraLe...  Lucille Roybal-Allard   \n",
       "\n",
       "  position joined_congress_date   birthday gender state district_number  \\\n",
       "0      Rep             3-Jan-05  4/18/1951      F    WI               4   \n",
       "1      Rep             3-Jan-13   3/7/1961      M    CA              51   \n",
       "2      Rep             3-Jan-07  5/24/1949      M    TN               9   \n",
       "3      Rep             3-Jan-13   1/3/1971      M    TX              33   \n",
       "4      Rep             3-Jan-93  6/12/1941      F    CA              40   \n",
       "\n",
       "      party trump_2016_state_share clinton_2016_state_share  \\\n",
       "0  Democrat              1,405,284                1,382,536   \n",
       "1  Democrat              4,483,814                8,753,792   \n",
       "2  Democrat              1,522,925                  870,695   \n",
       "3  Democrat              4,685,047                3,877,868   \n",
       "4  Democrat              4,483,814                8,753,792   \n",
       "\n",
       "  obama_2012_state_share romney_2012_state_share party_binary  \n",
       "0              1,620,985               1,407,966     Democrat  \n",
       "1              7,854,285               4,839,958     Democrat  \n",
       "2                960,709               1,462,330     Democrat  \n",
       "3              3,308,124               4,569,843     Democrat  \n",
       "4              7,854,285               4,839,958     Democrat  "
      ]
     },
     "execution_count": 2,
     "metadata": {},
     "output_type": "execute_result"
    }
   ],
   "source": [
    "congress_tweets = pd.read_csv(\"data/116th Congressional Tweets and Demographics.csv\")\n",
    "np.random.seed(53)\n",
    "\n",
    "# new column to binarize party, where independents are grouped with democrats\n",
    "congress_tweets['party_binary'] = np.where(congress_tweets['party']==\"Republican\", \"Republican\", \"Democrat\")\n",
    "\n",
    "# sample 1000 tweets from Dem sens, Dem reps, Rep sens, Rep reps\n",
    "congress_tweets = congress_tweets.groupby(['party_binary', 'position'], group_keys=False).apply(lambda x: x.sample(1000))\n",
    "congress_tweets.reset_index(inplace = True, drop = True)\n",
    "congress_tweets.head()"
   ]
  },
  {
   "cell_type": "markdown",
   "metadata": {},
   "source": [
    "## Preprocessing"
   ]
  },
  {
   "cell_type": "markdown",
   "metadata": {},
   "source": [
    "The first step in working with text data is to preprocess it. Make sure you do the following:\n",
    "\n",
    "* Remove punctuation and stop words. The `rem_punc_stop()` function we used in lab is provided to you but you should feel free to edit it as necessary for other steps\n",
    "* Remove tokens that occur frequently in tweets, but may not be helpful for downstream classification. For instance, many tweets contain a flag for retweeting, or share a URL \n",
    "\n",
    "As you search online, you might run into solutions that rely on regular expressions. You are free to use these, but you should also be able to preprocess using the techniques we covered in lab. Specifically, we encourage you to use spaCy's token attributes and string methods to do some of this text preprocessing."
   ]
  },
  {
   "cell_type": "code",
   "execution_count": 3,
   "metadata": {},
   "outputs": [],
   "source": [
    "import re\n",
    "\n",
    "def rem_punc_stop(text):\n",
    "    stop_words = STOP_WORDS\n",
    "    # adding symbols specific to tweets\n",
    "    nlp.Defaults.stop_words |= {\"RT\", '\\n', '\\n\\n' '“', '”', '—', '–', 'QT'}\n",
    "    punc = set(punctuation)\n",
    "    punc.remove('&') # '&' on Twitter is scraped as '&amp'\n",
    "    \n",
    "    fix_text = re.sub(r\"&amp\", \"and\", text) #replace all '&and' with 'and'\n",
    "    \n",
    "    punc_free = \"\".join([ch for ch in fix_text if ch not in punc])\n",
    "    \n",
    "    doc = nlp(punc_free)\n",
    "    \n",
    "    # lemmatization instead of tokenization\n",
    "    spacy_words = [token.lemma_ for token in doc]\n",
    "    \n",
    "    spacy_words = [word for word in spacy_words if not word.startswith('http')]\n",
    "    \n",
    "    no_punc = [word for word in spacy_words if word not in stop_words]\n",
    "    \n",
    "    return no_punc"
   ]
  },
  {
   "cell_type": "markdown",
   "metadata": {},
   "source": [
    "**KQ**: nice job on the preprocessing, removing the boilerplate twitter text and linebreaks would just be picking up noise"
   ]
  },
  {
   "cell_type": "markdown",
   "metadata": {},
   "source": [
    "## Exploratory Data Analysis"
   ]
  },
  {
   "cell_type": "markdown",
   "metadata": {},
   "source": [
    "Use two of the techniques we covered in lab (or other techniques outside of lab!) to explore the text of the tweets. You should construct these visualizations with an eye toward the eventual classification tasks: (1) predicting the legislator's political party based on the text of their tweet, and (2) predicting whether the legislator is a Senator or Representative. As a reminder, in lab we covered word frequencies, word clouds, word/character counts, scattertext, and topic modeling as possible exploration tools. "
   ]
  },
  {
   "cell_type": "code",
   "execution_count": 4,
   "metadata": {},
   "outputs": [
    {
     "data": {
      "text/plain": [
       "0       NationalNOW thank sponsor RepGwenMoore incredi...\n",
       "1       theblackcaucus UNFATHOMABLE Americans prepare ...\n",
       "2       MuellerReport smoking gun ’ smoking cannon unf...\n",
       "3       I applaud today announcement secure critical f...\n",
       "4       endchildpovca yes thank repbarbaralee SpeakerP...\n",
       "                              ...                        \n",
       "3995    grow number Dems Buck Pelosi Federal Worker Pa...\n",
       "3996    MarshaBlackburn Adam Schiff lie partisan agend...\n",
       "3997    I introduce EBRIDGE Act remove red tape come w...\n",
       "3998    today smallbusinesssaturday I encourage Alabam...\n",
       "3999    WVDHHR Free covid19 testing weekend Marshall M...\n",
       "Name: tokens, Length: 4000, dtype: object"
      ]
     },
     "execution_count": 4,
     "metadata": {},
     "output_type": "execute_result"
    }
   ],
   "source": [
    "congress_tweets['tokens_list'] = congress_tweets['text'].map(lambda x: rem_punc_stop(x))\n",
    "congress_tweets['tokens'] = congress_tweets['tokens_list'].map(lambda text: ' '.join(text))\n",
    "congress_tweets['tokens']"
   ]
  },
  {
   "cell_type": "markdown",
   "metadata": {},
   "source": [
    "### EDA 1: n-grams"
   ]
  },
  {
   "cell_type": "code",
   "execution_count": 5,
   "metadata": {},
   "outputs": [
    {
     "name": "stderr",
     "output_type": "stream",
     "text": [
      "C:\\Users\\atarv\\Anaconda3\\lib\\site-packages\\sklearn\\feature_extraction\\text.py:388: UserWarning: Your stop_words may be inconsistent with your preprocessing. Tokenizing the stop words generated tokens ['ll', 'qt', 'rt', 've'] not in stop_words.\n",
      "  warnings.warn('Your stop_words may be inconsistent with '\n"
     ]
    },
    {
     "data": {
      "text/html": [
       "<div>\n",
       "<style scoped>\n",
       "    .dataframe tbody tr th:only-of-type {\n",
       "        vertical-align: middle;\n",
       "    }\n",
       "\n",
       "    .dataframe tbody tr th {\n",
       "        vertical-align: top;\n",
       "    }\n",
       "\n",
       "    .dataframe thead th {\n",
       "        text-align: right;\n",
       "    }\n",
       "</style>\n",
       "<table border=\"1\" class=\"dataframe\">\n",
       "  <thead>\n",
       "    <tr style=\"text-align: right;\">\n",
       "      <th></th>\n",
       "      <th>ngrams</th>\n",
       "      <th>freq</th>\n",
       "    </tr>\n",
       "  </thead>\n",
       "  <tbody>\n",
       "    <tr>\n",
       "      <th>0</th>\n",
       "      <td>health care</td>\n",
       "      <td>117</td>\n",
       "    </tr>\n",
       "    <tr>\n",
       "      <th>1</th>\n",
       "      <td>president trump</td>\n",
       "      <td>101</td>\n",
       "    </tr>\n",
       "    <tr>\n",
       "      <th>2</th>\n",
       "      <td>small business</td>\n",
       "      <td>97</td>\n",
       "    </tr>\n",
       "    <tr>\n",
       "      <th>3</th>\n",
       "      <td>american people</td>\n",
       "      <td>68</td>\n",
       "    </tr>\n",
       "    <tr>\n",
       "      <th>4</th>\n",
       "      <td>united states</td>\n",
       "      <td>60</td>\n",
       "    </tr>\n",
       "  </tbody>\n",
       "</table>\n",
       "</div>"
      ],
      "text/plain": [
       "            ngrams  freq\n",
       "0      health care   117\n",
       "1  president trump   101\n",
       "2   small business    97\n",
       "3  american people    68\n",
       "4    united states    60"
      ]
     },
     "execution_count": 5,
     "metadata": {},
     "output_type": "execute_result"
    }
   ],
   "source": [
    "# Initialize the BOW countervectorizer\n",
    "countvec = CountVectorizer(stop_words = STOP_WORDS, ngram_range=(2,3))\n",
    "ngrams = countvec.fit_transform(congress_tweets['tokens'])\n",
    "\n",
    "dictionary_dataframe = pd.DataFrame(ngrams.todense(), columns = countvec.get_feature_names())\n",
    "\n",
    "df_ngram = pd.DataFrame(dictionary_dataframe.sum().reset_index()).rename(columns={'index': 'ngrams', 0:'freq'})\n",
    "df_ngram = df_ngram.sort_values(by = ['freq'], ascending = False).reset_index(drop = True)\n",
    "df_ngram.head()"
   ]
  },
  {
   "cell_type": "code",
   "execution_count": 6,
   "metadata": {},
   "outputs": [
    {
     "data": {
      "image/png": "[encoded data removed]",
      "text/plain": [
       "<Figure size 432x288 with 1 Axes>"
      ]
     },
     "metadata": {
      "needs_background": "light"
     },
     "output_type": "display_data"
    }
   ],
   "source": [
    "sns.barplot(x=\"ngrams\", y = 'freq', data=df_ngram[0:25])\n",
    "plt.xticks(rotation=90)\n",
    "plt.show()"
   ]
  },
  {
   "cell_type": "markdown",
   "metadata": {},
   "source": [
    "**KQ**: nice job on these. This is really clear and interpretable !"
   ]
  },
  {
   "cell_type": "markdown",
   "metadata": {},
   "source": [
    "Do members of both parties use similar words?"
   ]
  },
  {
   "cell_type": "code",
   "execution_count": 7,
   "metadata": {},
   "outputs": [
    {
     "data": {
      "text/html": [
       "<div>\n",
       "<style scoped>\n",
       "    .dataframe tbody tr th:only-of-type {\n",
       "        vertical-align: middle;\n",
       "    }\n",
       "\n",
       "    .dataframe tbody tr th {\n",
       "        vertical-align: top;\n",
       "    }\n",
       "\n",
       "    .dataframe thead th {\n",
       "        text-align: right;\n",
       "    }\n",
       "</style>\n",
       "<table border=\"1\" class=\"dataframe\">\n",
       "  <thead>\n",
       "    <tr style=\"text-align: right;\">\n",
       "      <th></th>\n",
       "      <th>ngrams</th>\n",
       "      <th>freq</th>\n",
       "    </tr>\n",
       "  </thead>\n",
       "  <tbody>\n",
       "    <tr>\n",
       "      <th>0</th>\n",
       "      <td>health care</td>\n",
       "      <td>77</td>\n",
       "    </tr>\n",
       "    <tr>\n",
       "      <th>1</th>\n",
       "      <td>president trump</td>\n",
       "      <td>67</td>\n",
       "    </tr>\n",
       "    <tr>\n",
       "      <th>2</th>\n",
       "      <td>trump administration</td>\n",
       "      <td>43</td>\n",
       "    </tr>\n",
       "    <tr>\n",
       "      <th>3</th>\n",
       "      <td>small business</td>\n",
       "      <td>42</td>\n",
       "    </tr>\n",
       "    <tr>\n",
       "      <th>4</th>\n",
       "      <td>american people</td>\n",
       "      <td>37</td>\n",
       "    </tr>\n",
       "  </tbody>\n",
       "</table>\n",
       "</div>"
      ],
      "text/plain": [
       "                 ngrams  freq\n",
       "0           health care    77\n",
       "1       president trump    67\n",
       "2  trump administration    43\n",
       "3        small business    42\n",
       "4       american people    37"
      ]
     },
     "execution_count": 7,
     "metadata": {},
     "output_type": "execute_result"
    }
   ],
   "source": [
    "dem = congress_tweets[congress_tweets[\"party_binary\"]==\"Democrat\"].copy()\n",
    "repub = congress_tweets[congress_tweets[\"party_binary\"]==\"Republican\"].copy()\n",
    "\n",
    "ngrams_dem = countvec.fit_transform(dem['tokens'])\n",
    "\n",
    "dictionary_dataframe = pd.DataFrame(ngrams_dem.todense(), columns = countvec.get_feature_names())\n",
    "\n",
    "df_ngram_dem = pd.DataFrame(dictionary_dataframe.sum().reset_index()).rename(columns={'index': 'ngrams', 0:'freq'})\n",
    "df_ngram_dem = df_ngram_dem.sort_values(by = ['freq'], ascending = False).reset_index(drop = True)\n",
    "df_ngram_dem.head()"
   ]
  },
  {
   "cell_type": "code",
   "execution_count": 8,
   "metadata": {},
   "outputs": [
    {
     "data": {
      "image/png": "[encoded data removed]",
      "text/plain": [
       "<Figure size 432x288 with 1 Axes>"
      ]
     },
     "metadata": {
      "needs_background": "light"
     },
     "output_type": "display_data"
    }
   ],
   "source": [
    "sns.barplot(x=\"ngrams\", y = 'freq', data=df_ngram_dem[0:25])\n",
    "plt.xticks(rotation=90)\n",
    "plt.show()"
   ]
  },
  {
   "cell_type": "code",
   "execution_count": 9,
   "metadata": {},
   "outputs": [
    {
     "data": {
      "text/html": [
       "<div>\n",
       "<style scoped>\n",
       "    .dataframe tbody tr th:only-of-type {\n",
       "        vertical-align: middle;\n",
       "    }\n",
       "\n",
       "    .dataframe tbody tr th {\n",
       "        vertical-align: top;\n",
       "    }\n",
       "\n",
       "    .dataframe thead th {\n",
       "        text-align: right;\n",
       "    }\n",
       "</style>\n",
       "<table border=\"1\" class=\"dataframe\">\n",
       "  <thead>\n",
       "    <tr style=\"text-align: right;\">\n",
       "      <th></th>\n",
       "      <th>ngrams</th>\n",
       "      <th>freq</th>\n",
       "    </tr>\n",
       "  </thead>\n",
       "  <tbody>\n",
       "    <tr>\n",
       "      <th>0</th>\n",
       "      <td>small business</td>\n",
       "      <td>55</td>\n",
       "    </tr>\n",
       "    <tr>\n",
       "      <th>1</th>\n",
       "      <td>health care</td>\n",
       "      <td>40</td>\n",
       "    </tr>\n",
       "    <tr>\n",
       "      <th>2</th>\n",
       "      <td>president trump</td>\n",
       "      <td>34</td>\n",
       "    </tr>\n",
       "    <tr>\n",
       "      <th>3</th>\n",
       "      <td>look forward</td>\n",
       "      <td>33</td>\n",
       "    </tr>\n",
       "    <tr>\n",
       "      <th>4</th>\n",
       "      <td>united states</td>\n",
       "      <td>31</td>\n",
       "    </tr>\n",
       "  </tbody>\n",
       "</table>\n",
       "</div>"
      ],
      "text/plain": [
       "            ngrams  freq\n",
       "0   small business    55\n",
       "1      health care    40\n",
       "2  president trump    34\n",
       "3     look forward    33\n",
       "4    united states    31"
      ]
     },
     "execution_count": 9,
     "metadata": {},
     "output_type": "execute_result"
    }
   ],
   "source": [
    "ngrams_rep = countvec.fit_transform(repub['tokens'])\n",
    "\n",
    "dictionary_dataframe = pd.DataFrame(ngrams_rep.todense(), columns = countvec.get_feature_names())\n",
    "\n",
    "df_ngram_rep = pd.DataFrame(dictionary_dataframe.sum().reset_index()).rename(columns={'index': 'ngrams', 0:'freq'})\n",
    "df_ngram_rep = df_ngram_rep.sort_values(by = ['freq'], ascending = False).reset_index(drop = True)\n",
    "df_ngram_rep.head()"
   ]
  },
  {
   "cell_type": "code",
   "execution_count": 10,
   "metadata": {},
   "outputs": [
    {
     "data": {
      "image/png": "[encoded data removed]",
      "text/plain": [
       "<Figure size 432x288 with 1 Axes>"
      ]
     },
     "metadata": {
      "needs_background": "light"
     },
     "output_type": "display_data"
    }
   ],
   "source": [
    "sns.barplot(x=\"ngrams\", y = 'freq', data=df_ngram_rep[0:25])\n",
    "plt.xticks(rotation=90)\n",
    "plt.show()"
   ]
  },
  {
   "cell_type": "markdown",
   "metadata": {},
   "source": [
    "Democrats and Republicans seems to use different kinds of words in their tweets. For example, Democrats are more likely to talk about Trump, whereas Republicans are more likely to tweet at Trump. Additionally, it seems that Democrats talk more about topics such as climate change and the health impact of COVID19, whereas Republicans focus more on the small business owner and the threat of communism.\n",
    "\n",
    "Now to repeat for Senators and Representatives:"
   ]
  },
  {
   "cell_type": "code",
   "execution_count": 11,
   "metadata": {},
   "outputs": [
    {
     "data": {
      "text/html": [
       "<div>\n",
       "<style scoped>\n",
       "    .dataframe tbody tr th:only-of-type {\n",
       "        vertical-align: middle;\n",
       "    }\n",
       "\n",
       "    .dataframe tbody tr th {\n",
       "        vertical-align: top;\n",
       "    }\n",
       "\n",
       "    .dataframe thead th {\n",
       "        text-align: right;\n",
       "    }\n",
       "</style>\n",
       "<table border=\"1\" class=\"dataframe\">\n",
       "  <thead>\n",
       "    <tr style=\"text-align: right;\">\n",
       "      <th></th>\n",
       "      <th>ngrams</th>\n",
       "      <th>freq</th>\n",
       "    </tr>\n",
       "  </thead>\n",
       "  <tbody>\n",
       "    <tr>\n",
       "      <th>0</th>\n",
       "      <td>small business</td>\n",
       "      <td>59</td>\n",
       "    </tr>\n",
       "    <tr>\n",
       "      <th>1</th>\n",
       "      <td>president trump</td>\n",
       "      <td>47</td>\n",
       "    </tr>\n",
       "    <tr>\n",
       "      <th>2</th>\n",
       "      <td>health care</td>\n",
       "      <td>45</td>\n",
       "    </tr>\n",
       "    <tr>\n",
       "      <th>3</th>\n",
       "      <td>american people</td>\n",
       "      <td>41</td>\n",
       "    </tr>\n",
       "    <tr>\n",
       "      <th>4</th>\n",
       "      <td>united states</td>\n",
       "      <td>26</td>\n",
       "    </tr>\n",
       "  </tbody>\n",
       "</table>\n",
       "</div>"
      ],
      "text/plain": [
       "            ngrams  freq\n",
       "0   small business    59\n",
       "1  president trump    47\n",
       "2      health care    45\n",
       "3  american people    41\n",
       "4    united states    26"
      ]
     },
     "execution_count": 11,
     "metadata": {},
     "output_type": "execute_result"
    }
   ],
   "source": [
    "rep = congress_tweets[congress_tweets[\"position\"]==\"Rep\"].copy()\n",
    "sen = congress_tweets[congress_tweets[\"position\"]==\"Sen\"].copy()\n",
    "\n",
    "ngrams_repr = countvec.fit_transform(rep['tokens'])\n",
    "\n",
    "dictionary_dataframe = pd.DataFrame(ngrams_repr.todense(), columns = countvec.get_feature_names())\n",
    "\n",
    "df_ngram_repr = pd.DataFrame(dictionary_dataframe.sum().reset_index()).rename(columns={'index': 'ngrams', 0:'freq'})\n",
    "df_ngram_repr = df_ngram_repr.sort_values(by = ['freq'], ascending = False).reset_index(drop = True)\n",
    "df_ngram_repr.head()"
   ]
  },
  {
   "cell_type": "code",
   "execution_count": 12,
   "metadata": {},
   "outputs": [
    {
     "data": {
      "image/png": "[encoded data removed]",
      "text/plain": [
       "<Figure size 432x288 with 1 Axes>"
      ]
     },
     "metadata": {
      "needs_background": "light"
     },
     "output_type": "display_data"
    }
   ],
   "source": [
    "sns.barplot(x=\"ngrams\", y = 'freq', data=df_ngram_repr[0:25])\n",
    "plt.xticks(rotation=90)\n",
    "plt.show()"
   ]
  },
  {
   "cell_type": "markdown",
   "metadata": {},
   "source": [
    "**KQ**: these plots look good. Don't forget to add titles and some interpretations (i.e., does there appear to be a systematic difference between the bigrams for the different classes)! "
   ]
  },
  {
   "cell_type": "code",
   "execution_count": 13,
   "metadata": {},
   "outputs": [
    {
     "data": {
      "text/html": [
       "<div>\n",
       "<style scoped>\n",
       "    .dataframe tbody tr th:only-of-type {\n",
       "        vertical-align: middle;\n",
       "    }\n",
       "\n",
       "    .dataframe tbody tr th {\n",
       "        vertical-align: top;\n",
       "    }\n",
       "\n",
       "    .dataframe thead th {\n",
       "        text-align: right;\n",
       "    }\n",
       "</style>\n",
       "<table border=\"1\" class=\"dataframe\">\n",
       "  <thead>\n",
       "    <tr style=\"text-align: right;\">\n",
       "      <th></th>\n",
       "      <th>ngrams</th>\n",
       "      <th>freq</th>\n",
       "    </tr>\n",
       "  </thead>\n",
       "  <tbody>\n",
       "    <tr>\n",
       "      <th>0</th>\n",
       "      <td>health care</td>\n",
       "      <td>72</td>\n",
       "    </tr>\n",
       "    <tr>\n",
       "      <th>1</th>\n",
       "      <td>president trump</td>\n",
       "      <td>54</td>\n",
       "    </tr>\n",
       "    <tr>\n",
       "      <th>2</th>\n",
       "      <td>small business</td>\n",
       "      <td>38</td>\n",
       "    </tr>\n",
       "    <tr>\n",
       "      <th>3</th>\n",
       "      <td>united states</td>\n",
       "      <td>34</td>\n",
       "    </tr>\n",
       "    <tr>\n",
       "      <th>4</th>\n",
       "      <td>trump administration</td>\n",
       "      <td>32</td>\n",
       "    </tr>\n",
       "  </tbody>\n",
       "</table>\n",
       "</div>"
      ],
      "text/plain": [
       "                 ngrams  freq\n",
       "0           health care    72\n",
       "1       president trump    54\n",
       "2        small business    38\n",
       "3         united states    34\n",
       "4  trump administration    32"
      ]
     },
     "execution_count": 13,
     "metadata": {},
     "output_type": "execute_result"
    }
   ],
   "source": [
    "ngrams_sen = countvec.fit_transform(sen['tokens'])\n",
    "\n",
    "dictionary_dataframe = pd.DataFrame(ngrams_sen.todense(), columns = countvec.get_feature_names())\n",
    "\n",
    "df_ngram_sen = pd.DataFrame(dictionary_dataframe.sum().reset_index()).rename(columns={'index': 'ngrams', 0:'freq'})\n",
    "df_ngram_sen = df_ngram_sen.sort_values(by = ['freq'], ascending = False).reset_index(drop = True)\n",
    "df_ngram_sen.head()"
   ]
  },
  {
   "cell_type": "code",
   "execution_count": 14,
   "metadata": {},
   "outputs": [
    {
     "data": {
      "image/png": "[encoded data removed]",
      "text/plain": [
       "<Figure size 432x288 with 1 Axes>"
      ]
     },
     "metadata": {
      "needs_background": "light"
     },
     "output_type": "display_data"
    }
   ],
   "source": [
    "sns.barplot(x=\"ngrams\", y = 'freq', data=df_ngram_sen[0:25])\n",
    "plt.xticks(rotation=90)\n",
    "plt.show()"
   ]
  },
  {
   "cell_type": "markdown",
   "metadata": {},
   "source": [
    "Senators and Representatives, however, do not appear to differ as much as Democrats and Republicans in the use of n-grams."
   ]
  },
  {
   "cell_type": "markdown",
   "metadata": {},
   "source": [
    "### EDA 2: Topic modelling\n",
    "\n",
    "Below, the number of topics is set to 15, but I also performed topic modelling with 10 and 20 topics, but found 15 to be more interpretable and more clearly delineated."
   ]
  },
  {
   "cell_type": "code",
   "execution_count": 15,
   "metadata": {},
   "outputs": [
    {
     "name": "stdout",
     "output_type": "stream",
     "text": [
      "\n",
      "Topic #0:\n",
      "king cut art progress minnesota justice luther martin clean schiff memorialday  \n",
      " little place innovation enhance adam cares regulation competition\n",
      "\n",
      "Topic #1:\n",
      "late icymi nra york technology incentivize happy justice contain involve preexist innovation contractor fairness condition firsthand fbi art iii interest\n",
      "\n",
      "Topic #2:\n",
      "I \n",
      "\n",
      "  today   work need    trump help president act people bill covid19 health ' time american support thank\n",
      "\n",
      "Topic #3:\n",
      "enforcement officer essential mental caresact shoot suicide justice unveil succeed vulnerable pleased ☀ reopen peace hoosi place weapon command condition\n",
      "\n",
      "Topic #4:\n",
      "testing test quality affordable task medicare whitehouse condition place strengthen regardless 🚨 january ahead infrastructure iran treasury ohio preexist internship\n",
      "\n",
      "Topic #5:\n",
      "vaccine test spread politic vulnerable interest mitch distribution reject deadly southern firefighter suffer place hate muchneede infrastructure doctrine essential cut\n",
      "\n",
      "Topic #6:\n",
      "de el la ❌ y los deadline en que para condition district rich july por 500 white reopen su god\n",
      "\n",
      "Topic #7:\n",
      "antisemitism situation marshablackburn clinic borrower achieve tech hongkong schiff consumer game separate god season getcovere willing nationaldayofprayer mind renew fire\n",
      "\n",
      "Topic #8:\n",
      "tribal justice interested identify fair 0 counsel undermine statement key sc earn significant tennesseans sexual practice church affordable heroes justiceact\n",
      "\n",
      "Topic #9:\n",
      "finally grid infrastructure armed essential cut services    fl15 terrorism corporation delivery reverse fair harmful snap inspire place certain iran\n",
      "\n",
      "Topic #10:\n",
      "illegal 🚨 senatorleahy yes extreme va05 constitutional judiciarygop condemn alien orange va suicide oath property stock attempt arkansan whitehouse significant\n",
      "\n",
      "Topic #11:\n",
      "barrett coney amy judge justice person argument iowan ginsburg promote mass scotus hesitate bader reveal god ruth badger tv fire\n",
      "\n",
      "Topic #12:\n",
      "spread healthy usairforce cdc affordable legion prodemocracy announcement servant course liberty measure appal slate repeat york mmiw exciting joint alaskan\n",
      "\n",
      "Topic #13:\n",
      "district kansas usmcanow tackle progress chuckgrassley datum canyon grand backlog place imagine solve test    harbor housecommerce clean enhancement fire\n",
      "\n",
      "Topic #14:\n",
      "debris removal alzheimer hurricanemichael walk excite fema reimburse infrastructure white storm compensation deedsnotword church 7 submit lake text age extremism\n",
      "\n"
     ]
    }
   ],
   "source": [
    "X = congress_tweets['tokens']\n",
    "tf = TfidfVectorizer(tokenizer = rem_punc_stop)\n",
    "\n",
    "tfidf_matrix =  tf.fit_transform(X)\n",
    "dense_matrix = tfidf_matrix.todense()\n",
    "\n",
    "lda = LatentDirichletAllocation(n_components=15, max_iter=20, random_state=0)\n",
    "lda = lda.fit(dense_matrix)\n",
    "\n",
    "def print_top_words(model, feature_names, n_top_words):\n",
    "    for topic_idx, topic in enumerate(model.components_):\n",
    "        print(\"\\nTopic #{}:\".format(topic_idx))\n",
    "        print(\" \".join([feature_names[i]\n",
    "                        for i in topic.argsort()[:-n_top_words - 1:-1]]))\n",
    "    print()\n",
    "\n",
    "tf_feature_names = tf.get_feature_names()\n",
    "print_top_words(lda, tf_feature_names, 20)"
   ]
  },
  {
   "cell_type": "markdown",
   "metadata": {},
   "source": [
    "The topic modelling with 15 topics is fairly interpretable, with the following topic possibilities:\n",
    "\n",
    "* 0- Racial justice\n",
    "* 2- COVID19 social issues\n",
    "* 3- Policing\n",
    "* 4- Heath care\n",
    "* 5- COVID19 testing\n",
    "* 6- Spanish language\n",
    "* 11- Selection of Amy Coney Barrett as SCJ\n",
    "* 12- COVID19 spread\n",
    "* 14- Natural disasters"
   ]
  },
  {
   "cell_type": "markdown",
   "metadata": {},
   "source": [
    "### EDA 3: Tweet length"
   ]
  },
  {
   "cell_type": "code",
   "execution_count": 16,
   "metadata": {},
   "outputs": [
    {
     "data": {
      "image/png": "[encoded data removed]",
      "text/plain": [
       "<Figure size 360x360 with 1 Axes>"
      ]
     },
     "metadata": {
      "needs_background": "light"
     },
     "output_type": "display_data"
    }
   ],
   "source": [
    "# length of characters\n",
    "congress_tweets['char_length'] = congress_tweets['text'].apply(len)\n",
    "\n",
    "# number of words\n",
    "congress_tweets['word_count'] = congress_tweets['text'].apply(lambda x: len(str(x).split()))\n",
    "\n",
    "sns.displot(congress_tweets, x=\"char_length\")\n",
    "plt.show()"
   ]
  },
  {
   "cell_type": "code",
   "execution_count": 17,
   "metadata": {},
   "outputs": [
    {
     "data": {
      "image/png": "[encoded data removed]",
      "text/plain": [
       "<Figure size 811.125x360 with 2 Axes>"
      ]
     },
     "metadata": {
      "needs_background": "light"
     },
     "output_type": "display_data"
    }
   ],
   "source": [
    "sns.displot(congress_tweets, x=\"word_count\", hue = \"party_binary\", col = \"party_binary\")\n",
    "plt.show()"
   ]
  },
  {
   "cell_type": "markdown",
   "metadata": {},
   "source": [
    "Republicans have a slight skew towards shorter tweets."
   ]
  },
  {
   "cell_type": "code",
   "execution_count": 18,
   "metadata": {},
   "outputs": [
    {
     "data": {
      "image/png": "[encoded data removed]",
      "text/plain": [
       "<Figure size 774.75x360 with 2 Axes>"
      ]
     },
     "metadata": {
      "needs_background": "light"
     },
     "output_type": "display_data"
    }
   ],
   "source": [
    "sns.displot(congress_tweets, x=\"word_count\", hue = \"position\", col = \"position\")\n",
    "plt.show()"
   ]
  },
  {
   "cell_type": "markdown",
   "metadata": {},
   "source": [
    "The distribution of word length is fairly similar between Representatives and Senators."
   ]
  },
  {
   "cell_type": "markdown",
   "metadata": {},
   "source": [
    "## Sentiment Analysis"
   ]
  },
  {
   "cell_type": "markdown",
   "metadata": {},
   "source": [
    "Next, let's analyze the sentiments contained within the tweets. You may use TextBlob or another library for these tasks. Do the following:\n",
    "\n",
    "* Choose two legislators, one who you think will be more liberal and one who you think will be more conservative, and analyze their sentiment and/or subjectivity scores per tweet. For instance, you might do two scatterplots that plot each legislator's sentiment against their subjectivity, or two density plots for their sentiments. Do the scores match what you thought?\n",
    "* Plot two more visualizations like the ones you chose in the first part, but do them to compare (1) Democrats v. Republicans and (2) Senators v. Representatives \n",
    "\n",
    "`TextBlob` has already been imported in the top cell."
   ]
  },
  {
   "cell_type": "code",
   "execution_count": 19,
   "metadata": {},
   "outputs": [
    {
     "name": "stdout",
     "output_type": "stream",
     "text": [
      "(966, 16) (3529, 16) (4495, 16)\n"
     ]
    }
   ],
   "source": [
    "# Conservative: Ted Yoho\n",
    "# Liberal: Barbara Lee\n",
    "\n",
    "# get full data from each person\n",
    "full_df = pd.read_csv(\"data/116th Congressional Tweets and Demographics.csv\")\n",
    "ted = full_df[full_df[\"name_wikipedia\"]==\"Ted Yoho\"].copy()\n",
    "barbara = full_df[full_df[\"name_wikipedia\"]==\"Barbara Lee\"].copy()\n",
    "sample = ted.append(barbara)\n",
    "print(ted.shape, barbara.shape, sample.shape)"
   ]
  },
  {
   "cell_type": "code",
   "execution_count": 20,
   "metadata": {},
   "outputs": [
    {
     "data": {
      "text/plain": [
       "196599    Xi Jinping threaten rhetoric Taiwan escalation...\n",
       "196684    join HARRISFAULKNER 130pm today discuss US tro...\n",
       "196909    today lawenforcementappreciationday Law enforc...\n",
       "197386    today I introduce proveteran bill wingman supp...\n",
       "197609    today thousand Americans gather March Life ral...\n",
       "                                ...                        \n",
       "157737    update Coin Redesign Act bill help recognize r...\n",
       "157738                   stimulus check \\n\\n survival check\n",
       "157793    new year I hopeful tackle covid19 systemic rac...\n",
       "157838    instead fund endless war fund end hunger suffe...\n",
       "157839    12 year Oscar Grant murder platform Fruitvale ...\n",
       "Name: tokens, Length: 4495, dtype: object"
      ]
     },
     "execution_count": 20,
     "metadata": {},
     "output_type": "execute_result"
    }
   ],
   "source": [
    "# remove stop words and punctuation, lemmatize\n",
    "sample['tokens'] = sample['text'].apply(lambda x: rem_punc_stop(x))\n",
    "sample['tokens'] = sample['tokens'].map(lambda text: ' '.join(text))\n",
    "sample['tokens']"
   ]
  },
  {
   "cell_type": "code",
   "execution_count": 21,
   "metadata": {},
   "outputs": [
    {
     "data": {
      "text/html": [
       "<div>\n",
       "<style scoped>\n",
       "    .dataframe tbody tr th:only-of-type {\n",
       "        vertical-align: middle;\n",
       "    }\n",
       "\n",
       "    .dataframe tbody tr th {\n",
       "        vertical-align: top;\n",
       "    }\n",
       "\n",
       "    .dataframe thead th {\n",
       "        text-align: right;\n",
       "    }\n",
       "</style>\n",
       "<table border=\"1\" class=\"dataframe\">\n",
       "  <thead>\n",
       "    <tr style=\"text-align: right;\">\n",
       "      <th></th>\n",
       "      <th>tweet_id</th>\n",
       "      <th>screen_name</th>\n",
       "      <th>datetime</th>\n",
       "      <th>text</th>\n",
       "      <th>name_wikipedia</th>\n",
       "      <th>position</th>\n",
       "      <th>joined_congress_date</th>\n",
       "      <th>birthday</th>\n",
       "      <th>gender</th>\n",
       "      <th>state</th>\n",
       "      <th>district_number</th>\n",
       "      <th>party</th>\n",
       "      <th>trump_2016_state_share</th>\n",
       "      <th>clinton_2016_state_share</th>\n",
       "      <th>obama_2012_state_share</th>\n",
       "      <th>romney_2012_state_share</th>\n",
       "      <th>tokens</th>\n",
       "      <th>polarity</th>\n",
       "    </tr>\n",
       "  </thead>\n",
       "  <tbody>\n",
       "    <tr>\n",
       "      <th>196599</th>\n",
       "      <td>1.081310e+18</td>\n",
       "      <td>RepTedYoho</td>\n",
       "      <td>2019-01-04T17:00:52-05:00</td>\n",
       "      <td>Xi Jinping’s threatening rhetoric on #Taiwan i...</td>\n",
       "      <td>Ted Yoho</td>\n",
       "      <td>Rep</td>\n",
       "      <td>3-Jan-13</td>\n",
       "      <td>4/13/1955</td>\n",
       "      <td>M</td>\n",
       "      <td>FL</td>\n",
       "      <td>3</td>\n",
       "      <td>Republican</td>\n",
       "      <td>4,617,886</td>\n",
       "      <td>4,504,975</td>\n",
       "      <td>4,237,756</td>\n",
       "      <td>4,163,447</td>\n",
       "      <td>Xi Jinping threaten rhetoric Taiwan escalation...</td>\n",
       "      <td>0.000000</td>\n",
       "    </tr>\n",
       "    <tr>\n",
       "      <th>196684</th>\n",
       "      <td>1.082340e+18</td>\n",
       "      <td>RepTedYoho</td>\n",
       "      <td>2019-01-07T13:14:50-05:00</td>\n",
       "      <td>Will be joining @HARRISFAULKNER at 1:30pm toda...</td>\n",
       "      <td>Ted Yoho</td>\n",
       "      <td>Rep</td>\n",
       "      <td>3-Jan-13</td>\n",
       "      <td>4/13/1955</td>\n",
       "      <td>M</td>\n",
       "      <td>FL</td>\n",
       "      <td>3</td>\n",
       "      <td>Republican</td>\n",
       "      <td>4,617,886</td>\n",
       "      <td>4,504,975</td>\n",
       "      <td>4,237,756</td>\n",
       "      <td>4,163,447</td>\n",
       "      <td>join HARRISFAULKNER 130pm today discuss US tro...</td>\n",
       "      <td>0.500000</td>\n",
       "    </tr>\n",
       "    <tr>\n",
       "      <th>196909</th>\n",
       "      <td>1.083070e+18</td>\n",
       "      <td>RepTedYoho</td>\n",
       "      <td>2019-01-09T13:46:39-05:00</td>\n",
       "      <td>Today is #LawEnforcementAppreciationDay. Law e...</td>\n",
       "      <td>Ted Yoho</td>\n",
       "      <td>Rep</td>\n",
       "      <td>3-Jan-13</td>\n",
       "      <td>4/13/1955</td>\n",
       "      <td>M</td>\n",
       "      <td>FL</td>\n",
       "      <td>3</td>\n",
       "      <td>Republican</td>\n",
       "      <td>4,617,886</td>\n",
       "      <td>4,504,975</td>\n",
       "      <td>4,237,756</td>\n",
       "      <td>4,163,447</td>\n",
       "      <td>today lawenforcementappreciationday Law enforc...</td>\n",
       "      <td>0.066667</td>\n",
       "    </tr>\n",
       "    <tr>\n",
       "      <th>197386</th>\n",
       "      <td>1.085680e+18</td>\n",
       "      <td>RepTedYoho</td>\n",
       "      <td>2019-01-16T18:36:18-05:00</td>\n",
       "      <td>Today I introduced a pro-veteran bill, WINGMAN...</td>\n",
       "      <td>Ted Yoho</td>\n",
       "      <td>Rep</td>\n",
       "      <td>3-Jan-13</td>\n",
       "      <td>4/13/1955</td>\n",
       "      <td>M</td>\n",
       "      <td>FL</td>\n",
       "      <td>3</td>\n",
       "      <td>Republican</td>\n",
       "      <td>4,617,886</td>\n",
       "      <td>4,504,975</td>\n",
       "      <td>4,237,756</td>\n",
       "      <td>4,163,447</td>\n",
       "      <td>today I introduce proveteran bill wingman supp...</td>\n",
       "      <td>0.000000</td>\n",
       "    </tr>\n",
       "    <tr>\n",
       "      <th>197609</th>\n",
       "      <td>1.086390e+18</td>\n",
       "      <td>RepTedYoho</td>\n",
       "      <td>2019-01-18T17:17:50-05:00</td>\n",
       "      <td>Today thousands of Americans gathered for the ...</td>\n",
       "      <td>Ted Yoho</td>\n",
       "      <td>Rep</td>\n",
       "      <td>3-Jan-13</td>\n",
       "      <td>4/13/1955</td>\n",
       "      <td>M</td>\n",
       "      <td>FL</td>\n",
       "      <td>3</td>\n",
       "      <td>Republican</td>\n",
       "      <td>4,617,886</td>\n",
       "      <td>4,504,975</td>\n",
       "      <td>4,237,756</td>\n",
       "      <td>4,163,447</td>\n",
       "      <td>today thousand Americans gather March Life ral...</td>\n",
       "      <td>0.000000</td>\n",
       "    </tr>\n",
       "  </tbody>\n",
       "</table>\n",
       "</div>"
      ],
      "text/plain": [
       "            tweet_id screen_name                   datetime  \\\n",
       "196599  1.081310e+18  RepTedYoho  2019-01-04T17:00:52-05:00   \n",
       "196684  1.082340e+18  RepTedYoho  2019-01-07T13:14:50-05:00   \n",
       "196909  1.083070e+18  RepTedYoho  2019-01-09T13:46:39-05:00   \n",
       "197386  1.085680e+18  RepTedYoho  2019-01-16T18:36:18-05:00   \n",
       "197609  1.086390e+18  RepTedYoho  2019-01-18T17:17:50-05:00   \n",
       "\n",
       "                                                     text name_wikipedia  \\\n",
       "196599  Xi Jinping’s threatening rhetoric on #Taiwan i...       Ted Yoho   \n",
       "196684  Will be joining @HARRISFAULKNER at 1:30pm toda...       Ted Yoho   \n",
       "196909  Today is #LawEnforcementAppreciationDay. Law e...       Ted Yoho   \n",
       "197386  Today I introduced a pro-veteran bill, WINGMAN...       Ted Yoho   \n",
       "197609  Today thousands of Americans gathered for the ...       Ted Yoho   \n",
       "\n",
       "       position joined_congress_date   birthday gender state district_number  \\\n",
       "196599      Rep             3-Jan-13  4/13/1955      M    FL               3   \n",
       "196684      Rep             3-Jan-13  4/13/1955      M    FL               3   \n",
       "196909      Rep             3-Jan-13  4/13/1955      M    FL               3   \n",
       "197386      Rep             3-Jan-13  4/13/1955      M    FL               3   \n",
       "197609      Rep             3-Jan-13  4/13/1955      M    FL               3   \n",
       "\n",
       "             party trump_2016_state_share clinton_2016_state_share  \\\n",
       "196599  Republican              4,617,886                4,504,975   \n",
       "196684  Republican              4,617,886                4,504,975   \n",
       "196909  Republican              4,617,886                4,504,975   \n",
       "197386  Republican              4,617,886                4,504,975   \n",
       "197609  Republican              4,617,886                4,504,975   \n",
       "\n",
       "       obama_2012_state_share romney_2012_state_share  \\\n",
       "196599              4,237,756               4,163,447   \n",
       "196684              4,237,756               4,163,447   \n",
       "196909              4,237,756               4,163,447   \n",
       "197386              4,237,756               4,163,447   \n",
       "197609              4,237,756               4,163,447   \n",
       "\n",
       "                                                   tokens  polarity  \n",
       "196599  Xi Jinping threaten rhetoric Taiwan escalation...  0.000000  \n",
       "196684  join HARRISFAULKNER 130pm today discuss US tro...  0.500000  \n",
       "196909  today lawenforcementappreciationday Law enforc...  0.066667  \n",
       "197386  today I introduce proveteran bill wingman supp...  0.000000  \n",
       "197609  today thousand Americans gather March Life ral...  0.000000  "
      ]
     },
     "execution_count": 21,
     "metadata": {},
     "output_type": "execute_result"
    }
   ],
   "source": [
    "# Calculate polarity for each tweet for both people\n",
    "sample['polarity'] = sample['tokens'].map(lambda text: TextBlob(text).sentiment.polarity)\n",
    "sample.head()"
   ]
  },
  {
   "cell_type": "code",
   "execution_count": 22,
   "metadata": {},
   "outputs": [
    {
     "data": {
      "image/png": "[encoded data removed]",
      "text/plain": [
       "<Figure size 816.5x360 with 2 Axes>"
      ]
     },
     "metadata": {
      "needs_background": "light"
     },
     "output_type": "display_data"
    }
   ],
   "source": [
    "sns.displot(sample, x=\"polarity\", hue = \"name_wikipedia\", col = \"name_wikipedia\")\n",
    "plt.show()"
   ]
  },
  {
   "cell_type": "markdown",
   "metadata": {},
   "source": [
    "It appears that there is a slight positive skew for Ted Yoho, where there is a bit more of an even distribution for Barbara Lee. I think this could be an expected outcome as it appears that a dominant strategy of Republicans is inciting Americana pride and positivity for the future, whereas Democrats tend to talk more about issues negatively impacting the country."
   ]
  },
  {
   "cell_type": "markdown",
   "metadata": {},
   "source": [
    "**KQ**: this makes me wonder how things would change if a democrat were president, as the opposing party might be more critical on twitter"
   ]
  },
  {
   "cell_type": "markdown",
   "metadata": {},
   "source": [
    "### Democrats vs Republicans"
   ]
  },
  {
   "cell_type": "code",
   "execution_count": 23,
   "metadata": {},
   "outputs": [
    {
     "data": {
      "image/png": "[encoded data removed]",
      "text/plain": [
       "<Figure size 811.125x360 with 2 Axes>"
      ]
     },
     "metadata": {
      "needs_background": "light"
     },
     "output_type": "display_data"
    }
   ],
   "source": [
    "# now calculate polarity of each tweet in our sample of 4,000 tweets\n",
    "congress_tweets['polarity'] = congress_tweets['tokens'].map(lambda text: TextBlob(text).sentiment.polarity)\n",
    "sns.displot(congress_tweets, x=\"polarity\", hue = \"party_binary\", col = \"party_binary\")\n",
    "plt.show()"
   ]
  },
  {
   "cell_type": "markdown",
   "metadata": {},
   "source": [
    "### Senators vs Representatives"
   ]
  },
  {
   "cell_type": "code",
   "execution_count": 24,
   "metadata": {},
   "outputs": [
    {
     "data": {
      "image/png": "[encoded data removed]",
      "text/plain": [
       "<Figure size 774.75x360 with 2 Axes>"
      ]
     },
     "metadata": {
      "needs_background": "light"
     },
     "output_type": "display_data"
    }
   ],
   "source": [
    "sns.displot(congress_tweets, x=\"polarity\", hue = \"position\", col = \"position\")\n",
    "plt.show()"
   ]
  },
  {
   "cell_type": "markdown",
   "metadata": {},
   "source": [
    "Polarity does not seem to be a distinguishing characteristic of Democrats' vs Republicans' tweets, or of Senators' vs Representatives' tweets.\n",
    "\n",
    "Below, the method will be repeated with subjectivity scores."
   ]
  },
  {
   "cell_type": "markdown",
   "metadata": {},
   "source": [
    "**KQ**: why might this be? "
   ]
  },
  {
   "cell_type": "code",
   "execution_count": 25,
   "metadata": {},
   "outputs": [
    {
     "data": {
      "image/png": "[encoded data removed]",
      "text/plain": [
       "<Figure size 811.125x360 with 2 Axes>"
      ]
     },
     "metadata": {
      "needs_background": "light"
     },
     "output_type": "display_data"
    }
   ],
   "source": [
    "congress_tweets['subjectivity'] = congress_tweets['tokens'].map(lambda text: TextBlob(text).sentiment.subjectivity)\n",
    "sns.displot(congress_tweets, x=\"subjectivity\", hue = \"party_binary\", col = \"party_binary\")\n",
    "plt.show()"
   ]
  },
  {
   "cell_type": "code",
   "execution_count": 26,
   "metadata": {},
   "outputs": [
    {
     "data": {
      "image/png": "[encoded data removed]",
      "text/plain": [
       "<Figure size 774.75x360 with 2 Axes>"
      ]
     },
     "metadata": {
      "needs_background": "light"
     },
     "output_type": "display_data"
    }
   ],
   "source": [
    "sns.displot(congress_tweets, x=\"subjectivity\", hue = \"position\", col = \"position\")\n",
    "plt.show()"
   ]
  },
  {
   "cell_type": "markdown",
   "metadata": {},
   "source": [
    "Once again, measures of sentiment do not seem particularly distinguishing for either Democrats vs Republicans or Representatives vs Senators."
   ]
  },
  {
   "cell_type": "markdown",
   "metadata": {},
   "source": [
    "## Featurization"
   ]
  },
  {
   "cell_type": "markdown",
   "metadata": {},
   "source": [
    "Before going to classification, explore different featurization techniques. Create three dataframes or arrays to represent your text features, specifically:\n",
    "\n",
    "* Features engineered from your previous analysis. For example, word counts, sentiment scores, topic model etc.\n",
    "* A term frequency-inverse document frequency matrix. \n",
    "* An embedding-based featurization (like a document averaged word2vec)\n",
    "\n",
    "In the next section, you will experiment with each of these featurization techniques to see which one produces the best classifications."
   ]
  },
  {
   "cell_type": "code",
   "execution_count": 27,
   "metadata": {},
   "outputs": [
    {
     "data": {
      "text/plain": [
       "Index(['tweet_id', 'screen_name', 'datetime', 'text', 'name_wikipedia',\n",
       "       'position', 'joined_congress_date', 'birthday', 'gender', 'state',\n",
       "       'district_number', 'party', 'trump_2016_state_share',\n",
       "       'clinton_2016_state_share', 'obama_2012_state_share',\n",
       "       'romney_2012_state_share', 'party_binary', 'tokens_list', 'tokens',\n",
       "       'char_length', 'word_count', 'polarity', 'subjectivity'],\n",
       "      dtype='object')"
      ]
     },
     "execution_count": 27,
     "metadata": {},
     "output_type": "execute_result"
    }
   ],
   "source": [
    "congress_tweets.columns"
   ]
  },
  {
   "cell_type": "markdown",
   "metadata": {},
   "source": [
    "### Engineered Text Features"
   ]
  },
  {
   "cell_type": "code",
   "execution_count": 28,
   "metadata": {},
   "outputs": [
    {
     "data": {
      "text/html": [
       "<div>\n",
       "<style scoped>\n",
       "    .dataframe tbody tr th:only-of-type {\n",
       "        vertical-align: middle;\n",
       "    }\n",
       "\n",
       "    .dataframe tbody tr th {\n",
       "        vertical-align: top;\n",
       "    }\n",
       "\n",
       "    .dataframe thead th {\n",
       "        text-align: right;\n",
       "    }\n",
       "</style>\n",
       "<table border=\"1\" class=\"dataframe\">\n",
       "  <thead>\n",
       "    <tr style=\"text-align: right;\">\n",
       "      <th></th>\n",
       "      <th>char_length</th>\n",
       "      <th>word_count</th>\n",
       "      <th>polarity</th>\n",
       "      <th>subjectivity</th>\n",
       "    </tr>\n",
       "  </thead>\n",
       "  <tbody>\n",
       "    <tr>\n",
       "      <th>0</th>\n",
       "      <td>170</td>\n",
       "      <td>15</td>\n",
       "      <td>0.900000</td>\n",
       "      <td>0.900000</td>\n",
       "    </tr>\n",
       "    <tr>\n",
       "      <th>1</th>\n",
       "      <td>381</td>\n",
       "      <td>37</td>\n",
       "      <td>0.400000</td>\n",
       "      <td>0.800000</td>\n",
       "    </tr>\n",
       "    <tr>\n",
       "      <th>2</th>\n",
       "      <td>461</td>\n",
       "      <td>43</td>\n",
       "      <td>0.000000</td>\n",
       "      <td>0.541667</td>\n",
       "    </tr>\n",
       "    <tr>\n",
       "      <th>3</th>\n",
       "      <td>412</td>\n",
       "      <td>38</td>\n",
       "      <td>0.233333</td>\n",
       "      <td>0.500000</td>\n",
       "    </tr>\n",
       "    <tr>\n",
       "      <th>4</th>\n",
       "      <td>431</td>\n",
       "      <td>35</td>\n",
       "      <td>0.000000</td>\n",
       "      <td>0.000000</td>\n",
       "    </tr>\n",
       "  </tbody>\n",
       "</table>\n",
       "</div>"
      ],
      "text/plain": [
       "   char_length  word_count  polarity  subjectivity\n",
       "0          170          15  0.900000      0.900000\n",
       "1          381          37  0.400000      0.800000\n",
       "2          461          43  0.000000      0.541667\n",
       "3          412          38  0.233333      0.500000\n",
       "4          431          35  0.000000      0.000000"
      ]
     },
     "execution_count": 28,
     "metadata": {},
     "output_type": "execute_result"
    }
   ],
   "source": [
    "# Engineered Features\n",
    "engineered = congress_tweets[['char_length', 'word_count', 'polarity', 'subjectivity']].reset_index(drop = True)\n",
    "engineered.head()"
   ]
  },
  {
   "cell_type": "code",
   "execution_count": 29,
   "metadata": {},
   "outputs": [
    {
     "data": {
      "text/html": [
       "<div>\n",
       "<style scoped>\n",
       "    .dataframe tbody tr th:only-of-type {\n",
       "        vertical-align: middle;\n",
       "    }\n",
       "\n",
       "    .dataframe tbody tr th {\n",
       "        vertical-align: top;\n",
       "    }\n",
       "\n",
       "    .dataframe thead th {\n",
       "        text-align: right;\n",
       "    }\n",
       "</style>\n",
       "<table border=\"1\" class=\"dataframe\">\n",
       "  <thead>\n",
       "    <tr style=\"text-align: right;\">\n",
       "      <th></th>\n",
       "      <th>0</th>\n",
       "      <th>1</th>\n",
       "      <th>2</th>\n",
       "      <th>3</th>\n",
       "      <th>4</th>\n",
       "      <th>5</th>\n",
       "      <th>6</th>\n",
       "      <th>7</th>\n",
       "      <th>8</th>\n",
       "      <th>9</th>\n",
       "      <th>10</th>\n",
       "      <th>11</th>\n",
       "      <th>12</th>\n",
       "      <th>13</th>\n",
       "      <th>14</th>\n",
       "      <th>char_length</th>\n",
       "      <th>word_count</th>\n",
       "      <th>polarity</th>\n",
       "      <th>subjectivity</th>\n",
       "    </tr>\n",
       "  </thead>\n",
       "  <tbody>\n",
       "    <tr>\n",
       "      <th>0</th>\n",
       "      <td>0.017827</td>\n",
       "      <td>0.017827</td>\n",
       "      <td>0.211504</td>\n",
       "      <td>0.017827</td>\n",
       "      <td>0.017827</td>\n",
       "      <td>0.017827</td>\n",
       "      <td>0.017827</td>\n",
       "      <td>0.017827</td>\n",
       "      <td>0.556742</td>\n",
       "      <td>0.017827</td>\n",
       "      <td>0.017827</td>\n",
       "      <td>0.017827</td>\n",
       "      <td>0.017827</td>\n",
       "      <td>0.017827</td>\n",
       "      <td>0.017827</td>\n",
       "      <td>170</td>\n",
       "      <td>15</td>\n",
       "      <td>0.900000</td>\n",
       "      <td>0.900000</td>\n",
       "    </tr>\n",
       "    <tr>\n",
       "      <th>1</th>\n",
       "      <td>0.011987</td>\n",
       "      <td>0.011987</td>\n",
       "      <td>0.635578</td>\n",
       "      <td>0.011987</td>\n",
       "      <td>0.011987</td>\n",
       "      <td>0.011987</td>\n",
       "      <td>0.011987</td>\n",
       "      <td>0.011987</td>\n",
       "      <td>0.208592</td>\n",
       "      <td>0.011987</td>\n",
       "      <td>0.011987</td>\n",
       "      <td>0.011987</td>\n",
       "      <td>0.011987</td>\n",
       "      <td>0.011987</td>\n",
       "      <td>0.011987</td>\n",
       "      <td>381</td>\n",
       "      <td>37</td>\n",
       "      <td>0.400000</td>\n",
       "      <td>0.800000</td>\n",
       "    </tr>\n",
       "    <tr>\n",
       "      <th>2</th>\n",
       "      <td>0.012728</td>\n",
       "      <td>0.012728</td>\n",
       "      <td>0.371611</td>\n",
       "      <td>0.012728</td>\n",
       "      <td>0.012728</td>\n",
       "      <td>0.012728</td>\n",
       "      <td>0.012728</td>\n",
       "      <td>0.012728</td>\n",
       "      <td>0.012728</td>\n",
       "      <td>0.012728</td>\n",
       "      <td>0.012728</td>\n",
       "      <td>0.012728</td>\n",
       "      <td>0.012728</td>\n",
       "      <td>0.462927</td>\n",
       "      <td>0.012728</td>\n",
       "      <td>461</td>\n",
       "      <td>43</td>\n",
       "      <td>0.000000</td>\n",
       "      <td>0.541667</td>\n",
       "    </tr>\n",
       "    <tr>\n",
       "      <th>3</th>\n",
       "      <td>0.012511</td>\n",
       "      <td>0.012511</td>\n",
       "      <td>0.578220</td>\n",
       "      <td>0.259131</td>\n",
       "      <td>0.012512</td>\n",
       "      <td>0.012511</td>\n",
       "      <td>0.012511</td>\n",
       "      <td>0.012512</td>\n",
       "      <td>0.012511</td>\n",
       "      <td>0.012511</td>\n",
       "      <td>0.012511</td>\n",
       "      <td>0.012511</td>\n",
       "      <td>0.012512</td>\n",
       "      <td>0.012511</td>\n",
       "      <td>0.012512</td>\n",
       "      <td>412</td>\n",
       "      <td>38</td>\n",
       "      <td>0.233333</td>\n",
       "      <td>0.500000</td>\n",
       "    </tr>\n",
       "    <tr>\n",
       "      <th>4</th>\n",
       "      <td>0.015136</td>\n",
       "      <td>0.015136</td>\n",
       "      <td>0.249525</td>\n",
       "      <td>0.553701</td>\n",
       "      <td>0.015136</td>\n",
       "      <td>0.015137</td>\n",
       "      <td>0.015136</td>\n",
       "      <td>0.015137</td>\n",
       "      <td>0.015137</td>\n",
       "      <td>0.015137</td>\n",
       "      <td>0.015137</td>\n",
       "      <td>0.015136</td>\n",
       "      <td>0.015136</td>\n",
       "      <td>0.015136</td>\n",
       "      <td>0.015136</td>\n",
       "      <td>431</td>\n",
       "      <td>35</td>\n",
       "      <td>0.000000</td>\n",
       "      <td>0.000000</td>\n",
       "    </tr>\n",
       "  </tbody>\n",
       "</table>\n",
       "</div>"
      ],
      "text/plain": [
       "          0         1         2         3         4         5         6  \\\n",
       "0  0.017827  0.017827  0.211504  0.017827  0.017827  0.017827  0.017827   \n",
       "1  0.011987  0.011987  0.635578  0.011987  0.011987  0.011987  0.011987   \n",
       "2  0.012728  0.012728  0.371611  0.012728  0.012728  0.012728  0.012728   \n",
       "3  0.012511  0.012511  0.578220  0.259131  0.012512  0.012511  0.012511   \n",
       "4  0.015136  0.015136  0.249525  0.553701  0.015136  0.015137  0.015136   \n",
       "\n",
       "          7         8         9        10        11        12        13  \\\n",
       "0  0.017827  0.556742  0.017827  0.017827  0.017827  0.017827  0.017827   \n",
       "1  0.011987  0.208592  0.011987  0.011987  0.011987  0.011987  0.011987   \n",
       "2  0.012728  0.012728  0.012728  0.012728  0.012728  0.012728  0.462927   \n",
       "3  0.012512  0.012511  0.012511  0.012511  0.012511  0.012512  0.012511   \n",
       "4  0.015137  0.015137  0.015137  0.015137  0.015136  0.015136  0.015136   \n",
       "\n",
       "         14  char_length  word_count  polarity  subjectivity  \n",
       "0  0.017827          170          15  0.900000      0.900000  \n",
       "1  0.011987          381          37  0.400000      0.800000  \n",
       "2  0.012728          461          43  0.000000      0.541667  \n",
       "3  0.012512          412          38  0.233333      0.500000  \n",
       "4  0.015136          431          35  0.000000      0.000000  "
      ]
     },
     "execution_count": 29,
     "metadata": {},
     "output_type": "execute_result"
    }
   ],
   "source": [
    "# add in topics\n",
    "topic_dist = lda.transform(tfidf_matrix)\n",
    "topic_dist_df = pd.DataFrame(topic_dist)\n",
    "engineered_with_topics = topic_dist_df.join(engineered)\n",
    "engineered_with_topics.head()"
   ]
  },
  {
   "cell_type": "markdown",
   "metadata": {},
   "source": [
    "### Bag-of-words or Tf-idf"
   ]
  },
  {
   "cell_type": "code",
   "execution_count": 30,
   "metadata": {},
   "outputs": [
    {
     "data": {
      "text/html": [
       "<div>\n",
       "<style scoped>\n",
       "    .dataframe tbody tr th:only-of-type {\n",
       "        vertical-align: middle;\n",
       "    }\n",
       "\n",
       "    .dataframe tbody tr th {\n",
       "        vertical-align: top;\n",
       "    }\n",
       "\n",
       "    .dataframe thead th {\n",
       "        text-align: right;\n",
       "    }\n",
       "</style>\n",
       "<table border=\"1\" class=\"dataframe\">\n",
       "  <thead>\n",
       "    <tr style=\"text-align: right;\">\n",
       "      <th></th>\n",
       "      <th>0</th>\n",
       "      <th>1</th>\n",
       "      <th>2</th>\n",
       "      <th>3</th>\n",
       "      <th>4</th>\n",
       "      <th>5</th>\n",
       "      <th>6</th>\n",
       "      <th>7</th>\n",
       "      <th>8</th>\n",
       "      <th>9</th>\n",
       "      <th>...</th>\n",
       "      <th>13692</th>\n",
       "      <th>13693</th>\n",
       "      <th>13694</th>\n",
       "      <th>13695</th>\n",
       "      <th>13696</th>\n",
       "      <th>13697</th>\n",
       "      <th>13698</th>\n",
       "      <th>13699</th>\n",
       "      <th>13700</th>\n",
       "      <th>13701</th>\n",
       "    </tr>\n",
       "  </thead>\n",
       "  <tbody>\n",
       "    <tr>\n",
       "      <th>0</th>\n",
       "      <td>0.000000</td>\n",
       "      <td>0.0</td>\n",
       "      <td>0.000000</td>\n",
       "      <td>0.0</td>\n",
       "      <td>0.0</td>\n",
       "      <td>0.0</td>\n",
       "      <td>0.0</td>\n",
       "      <td>0.0</td>\n",
       "      <td>0.0</td>\n",
       "      <td>0.0</td>\n",
       "      <td>...</td>\n",
       "      <td>0.0</td>\n",
       "      <td>0.0</td>\n",
       "      <td>0.0</td>\n",
       "      <td>0.0</td>\n",
       "      <td>0.0</td>\n",
       "      <td>0.0</td>\n",
       "      <td>0.0</td>\n",
       "      <td>0.0</td>\n",
       "      <td>0.0</td>\n",
       "      <td>0.0</td>\n",
       "    </tr>\n",
       "    <tr>\n",
       "      <th>1</th>\n",
       "      <td>0.148774</td>\n",
       "      <td>0.0</td>\n",
       "      <td>0.000000</td>\n",
       "      <td>0.0</td>\n",
       "      <td>0.0</td>\n",
       "      <td>0.0</td>\n",
       "      <td>0.0</td>\n",
       "      <td>0.0</td>\n",
       "      <td>0.0</td>\n",
       "      <td>0.0</td>\n",
       "      <td>...</td>\n",
       "      <td>0.0</td>\n",
       "      <td>0.0</td>\n",
       "      <td>0.0</td>\n",
       "      <td>0.0</td>\n",
       "      <td>0.0</td>\n",
       "      <td>0.0</td>\n",
       "      <td>0.0</td>\n",
       "      <td>0.0</td>\n",
       "      <td>0.0</td>\n",
       "      <td>0.0</td>\n",
       "    </tr>\n",
       "    <tr>\n",
       "      <th>2</th>\n",
       "      <td>0.000000</td>\n",
       "      <td>0.0</td>\n",
       "      <td>0.000000</td>\n",
       "      <td>0.0</td>\n",
       "      <td>0.0</td>\n",
       "      <td>0.0</td>\n",
       "      <td>0.0</td>\n",
       "      <td>0.0</td>\n",
       "      <td>0.0</td>\n",
       "      <td>0.0</td>\n",
       "      <td>...</td>\n",
       "      <td>0.0</td>\n",
       "      <td>0.0</td>\n",
       "      <td>0.0</td>\n",
       "      <td>0.0</td>\n",
       "      <td>0.0</td>\n",
       "      <td>0.0</td>\n",
       "      <td>0.0</td>\n",
       "      <td>0.0</td>\n",
       "      <td>0.0</td>\n",
       "      <td>0.0</td>\n",
       "    </tr>\n",
       "    <tr>\n",
       "      <th>3</th>\n",
       "      <td>0.000000</td>\n",
       "      <td>0.0</td>\n",
       "      <td>0.089463</td>\n",
       "      <td>0.0</td>\n",
       "      <td>0.0</td>\n",
       "      <td>0.0</td>\n",
       "      <td>0.0</td>\n",
       "      <td>0.0</td>\n",
       "      <td>0.0</td>\n",
       "      <td>0.0</td>\n",
       "      <td>...</td>\n",
       "      <td>0.0</td>\n",
       "      <td>0.0</td>\n",
       "      <td>0.0</td>\n",
       "      <td>0.0</td>\n",
       "      <td>0.0</td>\n",
       "      <td>0.0</td>\n",
       "      <td>0.0</td>\n",
       "      <td>0.0</td>\n",
       "      <td>0.0</td>\n",
       "      <td>0.0</td>\n",
       "    </tr>\n",
       "    <tr>\n",
       "      <th>4</th>\n",
       "      <td>0.000000</td>\n",
       "      <td>0.0</td>\n",
       "      <td>0.000000</td>\n",
       "      <td>0.0</td>\n",
       "      <td>0.0</td>\n",
       "      <td>0.0</td>\n",
       "      <td>0.0</td>\n",
       "      <td>0.0</td>\n",
       "      <td>0.0</td>\n",
       "      <td>0.0</td>\n",
       "      <td>...</td>\n",
       "      <td>0.0</td>\n",
       "      <td>0.0</td>\n",
       "      <td>0.0</td>\n",
       "      <td>0.0</td>\n",
       "      <td>0.0</td>\n",
       "      <td>0.0</td>\n",
       "      <td>0.0</td>\n",
       "      <td>0.0</td>\n",
       "      <td>0.0</td>\n",
       "      <td>0.0</td>\n",
       "    </tr>\n",
       "  </tbody>\n",
       "</table>\n",
       "<p>5 rows × 13702 columns</p>\n",
       "</div>"
      ],
      "text/plain": [
       "      0      1         2      3      4      5      6      7      8      9      \\\n",
       "0  0.000000    0.0  0.000000    0.0    0.0    0.0    0.0    0.0    0.0    0.0   \n",
       "1  0.148774    0.0  0.000000    0.0    0.0    0.0    0.0    0.0    0.0    0.0   \n",
       "2  0.000000    0.0  0.000000    0.0    0.0    0.0    0.0    0.0    0.0    0.0   \n",
       "3  0.000000    0.0  0.089463    0.0    0.0    0.0    0.0    0.0    0.0    0.0   \n",
       "4  0.000000    0.0  0.000000    0.0    0.0    0.0    0.0    0.0    0.0    0.0   \n",
       "\n",
       "   ...  13692  13693  13694  13695  13696  13697  13698  13699  13700  13701  \n",
       "0  ...    0.0    0.0    0.0    0.0    0.0    0.0    0.0    0.0    0.0    0.0  \n",
       "1  ...    0.0    0.0    0.0    0.0    0.0    0.0    0.0    0.0    0.0    0.0  \n",
       "2  ...    0.0    0.0    0.0    0.0    0.0    0.0    0.0    0.0    0.0    0.0  \n",
       "3  ...    0.0    0.0    0.0    0.0    0.0    0.0    0.0    0.0    0.0    0.0  \n",
       "4  ...    0.0    0.0    0.0    0.0    0.0    0.0    0.0    0.0    0.0    0.0  \n",
       "\n",
       "[5 rows x 13702 columns]"
      ]
     },
     "execution_count": 30,
     "metadata": {},
     "output_type": "execute_result"
    }
   ],
   "source": [
    "# Frequency Based featurization\n",
    "tfidf_df = pd.DataFrame(dense_matrix)\n",
    "tfidf_df.head()"
   ]
  },
  {
   "cell_type": "markdown",
   "metadata": {
    "tags": []
   },
   "source": [
    "### Word Embedding"
   ]
  },
  {
   "cell_type": "code",
   "execution_count": 31,
   "metadata": {},
   "outputs": [
    {
     "name": "stdout",
     "output_type": "stream",
     "text": [
      "Number of vectors: 2727\n"
     ]
    }
   ],
   "source": [
    "model = gensim.models.Word2Vec(congress_tweets['tokens_list'], vector_size=100, window=3, \n",
    "                               min_count=5, sg=0, alpha=0.025, epochs=5, batch_words=10000)\n",
    "words = list(model.wv.index_to_key)\n",
    "print(\"Number of vectors:\", len(words))"
   ]
  },
  {
   "cell_type": "code",
   "execution_count": 32,
   "metadata": {},
   "outputs": [],
   "source": [
    "# Function to average word embeddings for a document; use examples from lab to apply this function. You can use also other techniques such as PCA and doc2vec instead.\n",
    "def document_vector(word2vec_model, doc):\n",
    "    doc = [word for word in doc if word in model.wv.index_to_key]\n",
    "    return np.mean(word2vec_model.wv.__getitem__(doc), axis=0)"
   ]
  },
  {
   "cell_type": "code",
   "execution_count": 33,
   "metadata": {},
   "outputs": [
    {
     "data": {
      "text/plain": [
       "(4000, 100)"
      ]
     },
     "execution_count": 33,
     "metadata": {},
     "output_type": "execute_result"
    }
   ],
   "source": [
    "empty_list_embeddings_means = []\n",
    "for tweet in congress_tweets['tokens_list']: # append the vector for each document\n",
    "    doc = [word for word in tweet if word in model.wv.index_to_key]\n",
    "    \n",
    "    # skip over tweets with no vectors (maybe just emojis?)\n",
    "    if len(doc) != 0:\n",
    "        empty_list_embeddings_means.append(document_vector(model, tweet))\n",
    "    # tag empty tweets with nan to be fixed later\n",
    "    else:\n",
    "        empty_list_embeddings_means.append(np.empty((100,)))\n",
    "doc_average_embeddings = np.array(empty_list_embeddings_means) # list to array\n",
    "\n",
    "doc_average_embeddings.shape"
   ]
  },
  {
   "cell_type": "code",
   "execution_count": 34,
   "metadata": {},
   "outputs": [
    {
     "name": "stdout",
     "output_type": "stream",
     "text": [
      "(4000, 100)\n"
     ]
    },
    {
     "data": {
      "text/html": [
       "<div>\n",
       "<style scoped>\n",
       "    .dataframe tbody tr th:only-of-type {\n",
       "        vertical-align: middle;\n",
       "    }\n",
       "\n",
       "    .dataframe tbody tr th {\n",
       "        vertical-align: top;\n",
       "    }\n",
       "\n",
       "    .dataframe thead th {\n",
       "        text-align: right;\n",
       "    }\n",
       "</style>\n",
       "<table border=\"1\" class=\"dataframe\">\n",
       "  <thead>\n",
       "    <tr style=\"text-align: right;\">\n",
       "      <th></th>\n",
       "      <th>0</th>\n",
       "      <th>1</th>\n",
       "      <th>2</th>\n",
       "      <th>3</th>\n",
       "      <th>4</th>\n",
       "      <th>5</th>\n",
       "      <th>6</th>\n",
       "      <th>7</th>\n",
       "      <th>8</th>\n",
       "      <th>9</th>\n",
       "      <th>...</th>\n",
       "      <th>90</th>\n",
       "      <th>91</th>\n",
       "      <th>92</th>\n",
       "      <th>93</th>\n",
       "      <th>94</th>\n",
       "      <th>95</th>\n",
       "      <th>96</th>\n",
       "      <th>97</th>\n",
       "      <th>98</th>\n",
       "      <th>99</th>\n",
       "    </tr>\n",
       "  </thead>\n",
       "  <tbody>\n",
       "    <tr>\n",
       "      <th>0</th>\n",
       "      <td>-0.201864</td>\n",
       "      <td>0.212335</td>\n",
       "      <td>0.034427</td>\n",
       "      <td>0.055971</td>\n",
       "      <td>0.007781</td>\n",
       "      <td>-0.424803</td>\n",
       "      <td>0.092682</td>\n",
       "      <td>0.528746</td>\n",
       "      <td>-0.119848</td>\n",
       "      <td>-0.178623</td>\n",
       "      <td>...</td>\n",
       "      <td>0.407705</td>\n",
       "      <td>0.185867</td>\n",
       "      <td>0.025228</td>\n",
       "      <td>0.139872</td>\n",
       "      <td>0.478561</td>\n",
       "      <td>0.301166</td>\n",
       "      <td>0.136828</td>\n",
       "      <td>-0.298438</td>\n",
       "      <td>0.053767</td>\n",
       "      <td>0.012892</td>\n",
       "    </tr>\n",
       "    <tr>\n",
       "      <th>1</th>\n",
       "      <td>-0.200199</td>\n",
       "      <td>0.206200</td>\n",
       "      <td>0.029944</td>\n",
       "      <td>0.052720</td>\n",
       "      <td>0.002217</td>\n",
       "      <td>-0.414836</td>\n",
       "      <td>0.091039</td>\n",
       "      <td>0.521040</td>\n",
       "      <td>-0.115118</td>\n",
       "      <td>-0.175861</td>\n",
       "      <td>...</td>\n",
       "      <td>0.400436</td>\n",
       "      <td>0.193567</td>\n",
       "      <td>0.023252</td>\n",
       "      <td>0.135813</td>\n",
       "      <td>0.478182</td>\n",
       "      <td>0.301609</td>\n",
       "      <td>0.135101</td>\n",
       "      <td>-0.300762</td>\n",
       "      <td>0.055999</td>\n",
       "      <td>0.007112</td>\n",
       "    </tr>\n",
       "    <tr>\n",
       "      <th>2</th>\n",
       "      <td>-0.156357</td>\n",
       "      <td>0.154672</td>\n",
       "      <td>0.023684</td>\n",
       "      <td>0.042993</td>\n",
       "      <td>0.002979</td>\n",
       "      <td>-0.320341</td>\n",
       "      <td>0.068405</td>\n",
       "      <td>0.404825</td>\n",
       "      <td>-0.091422</td>\n",
       "      <td>-0.135894</td>\n",
       "      <td>...</td>\n",
       "      <td>0.310197</td>\n",
       "      <td>0.146471</td>\n",
       "      <td>0.020643</td>\n",
       "      <td>0.105806</td>\n",
       "      <td>0.369334</td>\n",
       "      <td>0.230374</td>\n",
       "      <td>0.104806</td>\n",
       "      <td>-0.231441</td>\n",
       "      <td>0.046234</td>\n",
       "      <td>0.008425</td>\n",
       "    </tr>\n",
       "    <tr>\n",
       "      <th>3</th>\n",
       "      <td>-0.247376</td>\n",
       "      <td>0.257352</td>\n",
       "      <td>0.038041</td>\n",
       "      <td>0.067018</td>\n",
       "      <td>0.002985</td>\n",
       "      <td>-0.516300</td>\n",
       "      <td>0.113788</td>\n",
       "      <td>0.650381</td>\n",
       "      <td>-0.150051</td>\n",
       "      <td>-0.223026</td>\n",
       "      <td>...</td>\n",
       "      <td>0.502062</td>\n",
       "      <td>0.238452</td>\n",
       "      <td>0.025027</td>\n",
       "      <td>0.169030</td>\n",
       "      <td>0.596222</td>\n",
       "      <td>0.371365</td>\n",
       "      <td>0.168625</td>\n",
       "      <td>-0.376850</td>\n",
       "      <td>0.072042</td>\n",
       "      <td>0.012612</td>\n",
       "    </tr>\n",
       "    <tr>\n",
       "      <th>4</th>\n",
       "      <td>-0.229738</td>\n",
       "      <td>0.236331</td>\n",
       "      <td>0.032267</td>\n",
       "      <td>0.062683</td>\n",
       "      <td>0.006035</td>\n",
       "      <td>-0.474956</td>\n",
       "      <td>0.105162</td>\n",
       "      <td>0.591215</td>\n",
       "      <td>-0.131468</td>\n",
       "      <td>-0.198776</td>\n",
       "      <td>...</td>\n",
       "      <td>0.455174</td>\n",
       "      <td>0.213190</td>\n",
       "      <td>0.027440</td>\n",
       "      <td>0.156992</td>\n",
       "      <td>0.541168</td>\n",
       "      <td>0.334144</td>\n",
       "      <td>0.154481</td>\n",
       "      <td>-0.337722</td>\n",
       "      <td>0.063093</td>\n",
       "      <td>0.014793</td>\n",
       "    </tr>\n",
       "  </tbody>\n",
       "</table>\n",
       "<p>5 rows × 100 columns</p>\n",
       "</div>"
      ],
      "text/plain": [
       "         0         1         2         3         4         5         6   \\\n",
       "0 -0.201864  0.212335  0.034427  0.055971  0.007781 -0.424803  0.092682   \n",
       "1 -0.200199  0.206200  0.029944  0.052720  0.002217 -0.414836  0.091039   \n",
       "2 -0.156357  0.154672  0.023684  0.042993  0.002979 -0.320341  0.068405   \n",
       "3 -0.247376  0.257352  0.038041  0.067018  0.002985 -0.516300  0.113788   \n",
       "4 -0.229738  0.236331  0.032267  0.062683  0.006035 -0.474956  0.105162   \n",
       "\n",
       "         7         8         9   ...        90        91        92        93  \\\n",
       "0  0.528746 -0.119848 -0.178623  ...  0.407705  0.185867  0.025228  0.139872   \n",
       "1  0.521040 -0.115118 -0.175861  ...  0.400436  0.193567  0.023252  0.135813   \n",
       "2  0.404825 -0.091422 -0.135894  ...  0.310197  0.146471  0.020643  0.105806   \n",
       "3  0.650381 -0.150051 -0.223026  ...  0.502062  0.238452  0.025027  0.169030   \n",
       "4  0.591215 -0.131468 -0.198776  ...  0.455174  0.213190  0.027440  0.156992   \n",
       "\n",
       "         94        95        96        97        98        99  \n",
       "0  0.478561  0.301166  0.136828 -0.298438  0.053767  0.012892  \n",
       "1  0.478182  0.301609  0.135101 -0.300762  0.055999  0.007112  \n",
       "2  0.369334  0.230374  0.104806 -0.231441  0.046234  0.008425  \n",
       "3  0.596222  0.371365  0.168625 -0.376850  0.072042  0.012612  \n",
       "4  0.541168  0.334144  0.154481 -0.337722  0.063093  0.014793  \n",
       "\n",
       "[5 rows x 100 columns]"
      ]
     },
     "execution_count": 34,
     "metadata": {},
     "output_type": "execute_result"
    }
   ],
   "source": [
    "# embedding based featurization\n",
    "# NOTE: tweets with no vectors are represented with nan, to be dropped later but order preserved\n",
    "doc_avg_emb_df = pd.DataFrame(doc_average_embeddings)\n",
    "print(doc_avg_emb_df.shape)\n",
    "doc_avg_emb_df.head()"
   ]
  },
  {
   "cell_type": "markdown",
   "metadata": {},
   "source": [
    "## Classification"
   ]
  },
  {
   "cell_type": "markdown",
   "metadata": {},
   "source": [
    "Either use cross-validation or partition your data with training/validation/test sets for this section. Do the following:\n",
    "\n",
    "* Choose a supervised learning algorithm such as logistic regression, random forest etc. \n",
    "* Train six models. For each of the three dataframes you created in the featurization part, train one model to predict whether the author of the tweet is a Democrat or Republican, and a second model to predict whether the author is a Senator or Representative.\n",
    "* Report the accuracy and other relevant metrics for each of these six models.\n",
    "* Choose the featurization technique associated with your best model. Combine those text features with non-text features. Train two more models: (1) A supervised learning algorithm that uses just the non-text features and (2) a supervised learning algorithm that combines text and non-text features. Report accuracy and other relevant metrics. \n",
    "\n",
    "If time permits, you are encouraged to use hyperparameter tuning or AutoML techniques like TPOT, but are not explicitly required to do so."
   ]
  },
  {
   "cell_type": "markdown",
   "metadata": {},
   "source": [
    "### Train Six Models with Just Text"
   ]
  },
  {
   "cell_type": "code",
   "execution_count": 35,
   "metadata": {},
   "outputs": [],
   "source": [
    "# convert strings to floats\n",
    "congress_tweets['clinton_2016_state_share'] = congress_tweets['clinton_2016_state_share'].map(lambda x: float(x.replace(',', '')))\n",
    "congress_tweets['trump_2016_state_share'] = congress_tweets['trump_2016_state_share'].map(lambda x: float(x.replace(',', '')))\n",
    "congress_tweets['obama_2012_state_share'] = congress_tweets['obama_2012_state_share'].map(lambda x: float(x.replace(',', '')))\n",
    "congress_tweets['romney_2012_state_share'] = congress_tweets['romney_2012_state_share'].map(lambda x: float(x.replace(',', '')))"
   ]
  },
  {
   "cell_type": "code",
   "execution_count": 36,
   "metadata": {
    "tags": []
   },
   "outputs": [],
   "source": [
    "# calculate state's share Dem and Repub for 2016 and 2012\n",
    "congress_tweets['dem_votes_2016'] = congress_tweets.apply(lambda x: x['clinton_2016_state_share']/(x['clinton_2016_state_share'] + x['trump_2016_state_share']), axis = 1)\n",
    "congress_tweets['rep_votes_2016'] = congress_tweets.apply(lambda x: x['trump_2016_state_share']/(x['clinton_2016_state_share'] + x['trump_2016_state_share']), axis = 1)\n",
    "congress_tweets['dem_votes_2012'] = congress_tweets.apply(lambda x: x['obama_2012_state_share']/(x['obama_2012_state_share'] + x['romney_2012_state_share']), axis = 1)\n",
    "congress_tweets['rep_votes_2012'] = congress_tweets.apply(lambda x: x['romney_2012_state_share']/(x['obama_2012_state_share'] + x['romney_2012_state_share']), axis = 1)              "
   ]
  },
  {
   "cell_type": "code",
   "execution_count": 37,
   "metadata": {},
   "outputs": [
    {
     "data": {
      "text/plain": [
       "Index(['tweet_id', 'screen_name', 'datetime', 'text', 'name_wikipedia',\n",
       "       'position', 'joined_congress_date', 'birthday', 'gender', 'state',\n",
       "       'district_number', 'party', 'trump_2016_state_share',\n",
       "       'clinton_2016_state_share', 'obama_2012_state_share',\n",
       "       'romney_2012_state_share', 'party_binary', 'tokens_list', 'tokens',\n",
       "       'char_length', 'word_count', 'polarity', 'subjectivity',\n",
       "       'dem_votes_2016', 'rep_votes_2016', 'dem_votes_2012', 'rep_votes_2012'],\n",
       "      dtype='object')"
      ]
     },
     "execution_count": 37,
     "metadata": {},
     "output_type": "execute_result"
    }
   ],
   "source": [
    "congress_tweets.columns"
   ]
  },
  {
   "cell_type": "code",
   "execution_count": 38,
   "metadata": {},
   "outputs": [],
   "source": [
    "from sklearn.preprocessing import LabelBinarizer\n",
    "\n",
    "# Target\n",
    "lb_style = LabelBinarizer()\n",
    "y_party = congress_tweets['party_binary_01'] = lb_style.fit_transform(congress_tweets[\"party_binary\"])\n",
    "y_pos = congress_tweets['position_binary'] = lb_style.fit_transform(congress_tweets[\"position\"])\n",
    "\n",
    "# Features\n",
    "nontext = congress_tweets.drop(['party_binary_01', 'party_binary', 'party',\n",
    "                         'position_binary', 'position', 'tokens_list', 'tokens',\n",
    "       'char_length', 'word_count', 'polarity', 'subjectivity', 'text',\n",
    "                               'trump_2016_state_share', 'clinton_2016_state_share',\n",
    "                               'obama_2012_state_share', 'romney_2012_state_share', 'tweet_id', 'datetime', 'screen_name'], axis = 1)"
   ]
  },
  {
   "cell_type": "markdown",
   "metadata": {},
   "source": [
    "### Engineered features - party predictions"
   ]
  },
  {
   "cell_type": "code",
   "execution_count": 39,
   "metadata": {},
   "outputs": [],
   "source": [
    "from sklearn.model_selection import train_test_split\n",
    "# for party lines\n",
    "X_train_efpart, X_test_efpart, y_train_efpart, y_test_efpart = train_test_split(engineered_with_topics, y_party, train_size = .80, test_size=0.20,\n",
    "                                                   stratify=y_party)\n",
    "\n",
    "X_train_efpart, X_validate_efpart, y_train_efpart, y_validate_efpart = train_test_split(X_train_efpart, y_train_efpart, train_size = .75, test_size = .25, \n",
    "                                                           stratify = y_train_efpart)"
   ]
  },
  {
   "cell_type": "code",
   "execution_count": 40,
   "metadata": {},
   "outputs": [],
   "source": [
    "from sklearn.linear_model import LogisticRegression\n",
    "# create a model\n",
    "logit_reg = LogisticRegression(max_iter = 1000)\n",
    "\n",
    "# fit the model\n",
    "logit_model = logit_reg.fit(X_train_efpart, y_train_efpart.ravel())"
   ]
  },
  {
   "cell_type": "code",
   "execution_count": 41,
   "metadata": {},
   "outputs": [
    {
     "name": "stdout",
     "output_type": "stream",
     "text": [
      "{'C': 0.1, 'fit_intercept': 'True', 'penalty': 'l1', 'solver': 'liblinear'}\n",
      "Validation Accuracy 0.555\n"
     ]
    }
   ],
   "source": [
    "import warnings\n",
    "from sklearn.exceptions import DataConversionWarning\n",
    "warnings.filterwarnings(action='ignore')\n",
    "from sklearn.metrics import accuracy_score\n",
    "from sklearn.model_selection import GridSearchCV\n",
    "\n",
    "param_grid = {'penalty': ['l1', 'l2', 'elasticnet'],\n",
    "             'C': np.arange(.1, 1, .1),\n",
    "               'fit_intercept': ['True', 'False'],\n",
    "             'solver': ['liblinear', 'saga']}\n",
    "\n",
    "logit_grid = GridSearchCV(logit_model, param_grid, cv=3)\n",
    "logit_grid.fit(X_train_efpart, y_train_efpart)\n",
    "\n",
    "best_logit_pred = logit_grid.best_estimator_.predict(X_validate_efpart)\n",
    "\n",
    "print(logit_grid.best_params_)\n",
    "print('Validation Accuracy', accuracy_score(best_logit_pred, y_validate_efpart))"
   ]
  },
  {
   "cell_type": "code",
   "execution_count": 42,
   "metadata": {},
   "outputs": [],
   "source": [
    "logit_model = logit_grid.best_estimator_.fit(X_train_efpart, y_train_efpart.ravel())\n",
    "y_pred = logit_model.predict(X_validate_efpart)"
   ]
  },
  {
   "cell_type": "code",
   "execution_count": 43,
   "metadata": {},
   "outputs": [
    {
     "data": {
      "image/png": "[encoded data removed]",
      "text/plain": [
       "<Figure size 720x504 with 2 Axes>"
      ]
     },
     "metadata": {
      "needs_background": "light"
     },
     "output_type": "display_data"
    }
   ],
   "source": [
    "from sklearn.metrics import confusion_matrix\n",
    "cf_matrix = confusion_matrix(y_validate_efpart, y_pred, normalize = \"true\")\n",
    "\n",
    "df_cm = pd.DataFrame(cf_matrix, range(2),\n",
    "                  range(2))\n",
    "\n",
    "df_cm = df_cm.rename(index=str, columns={0: \"Democrat\", 1: \"Republican\"})\n",
    "df_cm.index = [\"Democrat\", \"Republican\"]\n",
    "plt.figure(figsize = (10,7))\n",
    "sns.set(font_scale=1.4)#for label size\n",
    "sns.heatmap(df_cm, \n",
    "           annot=True,\n",
    "           annot_kws={\"size\": 16},\n",
    "           fmt='g')\n",
    "\n",
    "plt.title(\"Confusion Matrix\")\n",
    "plt.xlabel(\"Predicted Label\")\n",
    "plt.ylabel(\"True Label\")\n",
    "plt.show()"
   ]
  },
  {
   "cell_type": "markdown",
   "metadata": {},
   "source": [
    "### Engineered features - position predictions"
   ]
  },
  {
   "cell_type": "code",
   "execution_count": 44,
   "metadata": {},
   "outputs": [],
   "source": [
    "# for position\n",
    "X_train_efpos, X_test_efpos, y_train_efpos, y_test_efpos = train_test_split(engineered_with_topics, y_pos, train_size = .80, test_size=0.20,\n",
    "                                                   stratify=y_pos)\n",
    "\n",
    "X_train_efpos, X_validate_efpos, y_train_efpos, y_validate_efpos = train_test_split(X_train_efpos, y_train_efpos, train_size = .75, test_size = .25, \n",
    "                                                           stratify = y_train_efpos)"
   ]
  },
  {
   "cell_type": "code",
   "execution_count": 45,
   "metadata": {},
   "outputs": [],
   "source": [
    "# create a model\n",
    "logit_reg = LogisticRegression()\n",
    "\n",
    "# fit the model\n",
    "logit_model = logit_reg.fit(X_train_efpos, y_train_efpos.ravel())"
   ]
  },
  {
   "cell_type": "code",
   "execution_count": 46,
   "metadata": {},
   "outputs": [
    {
     "name": "stdout",
     "output_type": "stream",
     "text": [
      "{'C': 0.1, 'fit_intercept': 'True', 'penalty': 'l1', 'solver': 'liblinear'}\n",
      "Validation Accuracy 0.5025\n"
     ]
    }
   ],
   "source": [
    "param_grid = {'penalty': ['l1', 'l2', 'elasticnet'],\n",
    "             'C': np.arange(.1, 1, .1),\n",
    "               'fit_intercept': ['True', 'False'],\n",
    "             'solver': ['liblinear', 'saga']}\n",
    "\n",
    "logit_grid = GridSearchCV(logit_model, param_grid, cv=3)\n",
    "logit_grid.fit(X_train_efpos, y_train_efpos)\n",
    "\n",
    "best_logit_pred = logit_grid.best_estimator_.predict(X_validate_efpos)\n",
    "\n",
    "print(logit_grid.best_params_)\n",
    "print('Validation Accuracy', accuracy_score(best_logit_pred, y_validate_efpos))"
   ]
  },
  {
   "cell_type": "code",
   "execution_count": 47,
   "metadata": {},
   "outputs": [],
   "source": [
    "logit_grid.best_estimator_.fit(X_train_efpos, y_train_efpos.ravel())\n",
    "y_pred = logit_model.predict(X_validate_efpos)"
   ]
  },
  {
   "cell_type": "code",
   "execution_count": 48,
   "metadata": {},
   "outputs": [
    {
     "data": {
      "image/png": "[encoded data removed]",
      "text/plain": [
       "<Figure size 720x504 with 2 Axes>"
      ]
     },
     "metadata": {},
     "output_type": "display_data"
    }
   ],
   "source": [
    "cf_matrix = confusion_matrix(y_validate_efpos, y_pred, normalize = \"true\")\n",
    "\n",
    "df_cm = pd.DataFrame(cf_matrix, range(2),\n",
    "                  range(2))\n",
    "\n",
    "df_cm = df_cm.rename(index=str, columns={0: \"Representative\", 1: \"Senator\"})\n",
    "df_cm.index = [\"Representative\", \"Senator\"]\n",
    "plt.figure(figsize = (10,7))\n",
    "sns.set(font_scale=1.4)#for label size\n",
    "sns.heatmap(df_cm, \n",
    "           annot=True,\n",
    "           annot_kws={\"size\": 16},\n",
    "           fmt='g')\n",
    "\n",
    "plt.title(\"Confusion Matrix\")\n",
    "plt.xlabel(\"Predicted Label\")\n",
    "plt.ylabel(\"True Label\")\n",
    "plt.show()"
   ]
  },
  {
   "cell_type": "markdown",
   "metadata": {},
   "source": [
    "For engineered features, it is easier to predict party than position. Perhaps this indicates that within this featurization method, there is more polarization across party lines, whereas senators and representatives are not as different from one another. This seems to make sense as word count seemed to distinguish across party lines, where Democrats' tweets were generally longer, but neither word count nor sentiment scores seemed to do well at distinguishing between Representatives and Senators."
   ]
  },
  {
   "cell_type": "markdown",
   "metadata": {},
   "source": [
    "**KQ**: nice writeup here "
   ]
  },
  {
   "cell_type": "markdown",
   "metadata": {},
   "source": [
    "### tf-idf - party predictions"
   ]
  },
  {
   "cell_type": "code",
   "execution_count": 49,
   "metadata": {},
   "outputs": [],
   "source": [
    "# for party\n",
    "X_train_tfpart, X_test_tfpart, y_train_tfpart, y_test_tfpart = train_test_split(tfidf_df, y_party, train_size = .80, test_size=0.20,\n",
    "                                                   stratify=y_party)\n",
    "\n",
    "X_train_tfpart, X_validate_tfpart, y_train_tfpart, y_validate_tfpart = train_test_split(X_train_tfpart, y_train_tfpart, train_size = .75, test_size = .25, \n",
    "                                                           stratify = y_train_tfpart)"
   ]
  },
  {
   "cell_type": "code",
   "execution_count": 50,
   "metadata": {},
   "outputs": [],
   "source": [
    "# create a model\n",
    "logit_reg = LogisticRegression()\n",
    "\n",
    "# fit the model\n",
    "logit_model = logit_reg.fit(X_train_tfpart, y_train_tfpart.ravel())"
   ]
  },
  {
   "cell_type": "code",
   "execution_count": 51,
   "metadata": {},
   "outputs": [
    {
     "name": "stdout",
     "output_type": "stream",
     "text": [
      "{'C': 0.9, 'fit_intercept': 'True', 'penalty': 'l2', 'solver': 'liblinear'}\n",
      "Validation Accuracy 0.715\n"
     ]
    }
   ],
   "source": [
    "param_grid = {'penalty': ['l1', 'l2', 'elasticnet'],\n",
    "             'C': np.arange(.1, 1, .1),\n",
    "               'fit_intercept': ['True', 'False'],\n",
    "             'solver': ['liblinear', 'saga']}\n",
    "\n",
    "logit_grid = GridSearchCV(logit_model, param_grid, cv=3)\n",
    "logit_grid.fit(X_train_tfpart, y_train_tfpart)\n",
    "\n",
    "best_logit_pred = logit_grid.best_estimator_.predict(X_validate_tfpart)\n",
    "\n",
    "print(logit_grid.best_params_)\n",
    "print('Validation Accuracy', accuracy_score(best_logit_pred, y_validate_tfpart))"
   ]
  },
  {
   "cell_type": "code",
   "execution_count": 52,
   "metadata": {},
   "outputs": [],
   "source": [
    "logit_grid.best_estimator_.fit(X_train_tfpart, y_train_tfpart.ravel())\n",
    "y_pred = logit_model.predict(X_validate_tfpart)"
   ]
  },
  {
   "cell_type": "code",
   "execution_count": 53,
   "metadata": {},
   "outputs": [
    {
     "data": {
      "image/png": "[encoded data removed]",
      "text/plain": [
       "<Figure size 720x504 with 2 Axes>"
      ]
     },
     "metadata": {},
     "output_type": "display_data"
    }
   ],
   "source": [
    "cf_matrix = confusion_matrix(y_validate_tfpart, y_pred, normalize = \"true\")\n",
    "\n",
    "df_cm = pd.DataFrame(cf_matrix, range(2),\n",
    "                  range(2))\n",
    "\n",
    "df_cm = df_cm.rename(index=str, columns={0: \"Democrat\", 1: \"Republican\"})\n",
    "df_cm.index = [\"Democrat\", \"Republican\"]\n",
    "plt.figure(figsize = (10,7))\n",
    "sns.set(font_scale=1.4)#for label size\n",
    "sns.heatmap(df_cm, \n",
    "           annot=True,\n",
    "           annot_kws={\"size\": 16},\n",
    "           fmt='g')\n",
    "\n",
    "plt.title(\"Confusion Matrix\")\n",
    "plt.xlabel(\"Predicted Label\")\n",
    "plt.ylabel(\"True Label\")\n",
    "plt.show()"
   ]
  },
  {
   "cell_type": "markdown",
   "metadata": {},
   "source": [
    "**KQ**: don't forget to add titles to the confusion matrices! You can tell which classes based on the axes but it's a bit more difficult to tell which feature sets you're using. Really nice job overall"
   ]
  },
  {
   "cell_type": "markdown",
   "metadata": {},
   "source": [
    "### tf-idf - position predictions"
   ]
  },
  {
   "cell_type": "code",
   "execution_count": 54,
   "metadata": {},
   "outputs": [],
   "source": [
    "# for position\n",
    "X_train_tfpos, X_test_tfpos, y_train_tfpos, y_test_tfpos = train_test_split(tfidf_df, y_pos, train_size = .80, test_size=0.20,\n",
    "                                                   stratify=y_pos)\n",
    "\n",
    "X_train_tfpos, X_validate_tfpos, y_train_tfpos, y_validate_tfpos = train_test_split(X_train_tfpos, y_train_tfpos, train_size = .75, test_size = .25, \n",
    "                                                           stratify = y_train_tfpos)"
   ]
  },
  {
   "cell_type": "code",
   "execution_count": 55,
   "metadata": {},
   "outputs": [],
   "source": [
    "# create a model\n",
    "logit_reg = LogisticRegression()\n",
    "\n",
    "# fit the model\n",
    "logit_model = logit_reg.fit(X_train_tfpos, y_train_tfpos.ravel())"
   ]
  },
  {
   "cell_type": "code",
   "execution_count": 56,
   "metadata": {},
   "outputs": [
    {
     "name": "stdout",
     "output_type": "stream",
     "text": [
      "{'C': 0.2, 'fit_intercept': 'True', 'penalty': 'l2', 'solver': 'liblinear'}\n",
      "Validation Accuracy 0.62875\n"
     ]
    }
   ],
   "source": [
    "param_grid = {'penalty': ['l1', 'l2', 'elasticnet'],\n",
    "             'C': np.arange(.1, 1, .1),\n",
    "               'fit_intercept': ['True', 'False'],\n",
    "             'solver': ['liblinear', 'saga']}\n",
    "\n",
    "logit_grid = GridSearchCV(logit_model, param_grid, cv=3)\n",
    "logit_grid.fit(X_train_tfpos, y_train_tfpos)\n",
    "\n",
    "best_logit_pred = logit_grid.best_estimator_.predict(X_validate_tfpos)\n",
    "\n",
    "print(logit_grid.best_params_)\n",
    "print('Validation Accuracy', accuracy_score(best_logit_pred, y_validate_tfpos))"
   ]
  },
  {
   "cell_type": "code",
   "execution_count": 57,
   "metadata": {},
   "outputs": [],
   "source": [
    "logit_grid.best_estimator_.fit(X_train_tfpos, y_train_tfpos.ravel())\n",
    "y_pred = logit_model.predict(X_validate_tfpos)"
   ]
  },
  {
   "cell_type": "code",
   "execution_count": 58,
   "metadata": {},
   "outputs": [
    {
     "data": {
      "image/png": "[encoded data removed]",
      "text/plain": [
       "<Figure size 720x504 with 2 Axes>"
      ]
     },
     "metadata": {},
     "output_type": "display_data"
    }
   ],
   "source": [
    "cf_matrix = confusion_matrix(y_validate_tfpos, y_pred, normalize = \"true\")\n",
    "\n",
    "df_cm = pd.DataFrame(cf_matrix, range(2),\n",
    "                  range(2))\n",
    "\n",
    "df_cm = df_cm.rename(index=str, columns={0: \"Representative\", 1: \"Senator\"})\n",
    "df_cm.index = [\"Representative\", \"Senator\"]\n",
    "plt.figure(figsize = (10,7))\n",
    "sns.set(font_scale=1.4)#for label size\n",
    "sns.heatmap(df_cm, \n",
    "           annot=True,\n",
    "           annot_kws={\"size\": 16},\n",
    "           fmt='g')\n",
    "\n",
    "plt.title(\"Confusion Matrix\")\n",
    "plt.xlabel(\"Predicted Label\")\n",
    "plt.ylabel(\"True Label\")\n",
    "plt.show()"
   ]
  },
  {
   "cell_type": "markdown",
   "metadata": {},
   "source": [
    "Token frequency inverse document frequency matrices provide the most distinguishing information for both party and position. However, the predictive accuracy for Democrats vs Republicans is still higher than that of Senators vs Representatives. Though this may provide evidence that Senators are more moderate than Representatives (and thus show differences in the words they use), they are not as easily separated as legislators on either side of party lines. Given the exploratory data analysis above, it is logical that tf-idf featurization gives such high predictive accuracy. In the visualizations of n-grams above, there were clear differences in word choice between Democrats and Republicans, and to a lesser extent, between Representatives and Senators."
   ]
  },
  {
   "cell_type": "markdown",
   "metadata": {},
   "source": [
    "**KQ**: excellent job here. Your models are doing quite well and you provide a thoughtful analysis of why these differences might emerge based on EDA"
   ]
  },
  {
   "cell_type": "markdown",
   "metadata": {},
   "source": [
    "### Word embeddings - party predictions"
   ]
  },
  {
   "cell_type": "code",
   "execution_count": 59,
   "metadata": {},
   "outputs": [
    {
     "data": {
      "text/plain": [
       "(4000, 102)"
      ]
     },
     "execution_count": 59,
     "metadata": {},
     "output_type": "execute_result"
    }
   ],
   "source": [
    "# account for nan rows\n",
    "emb_y = doc_avg_emb_df.copy()\n",
    "emb_y['y_pos'] = y_pos\n",
    "emb_y['y_party'] = y_party\n",
    "emb_y.shape"
   ]
  },
  {
   "cell_type": "code",
   "execution_count": 60,
   "metadata": {},
   "outputs": [
    {
     "name": "stdout",
     "output_type": "stream",
     "text": [
      "(3990, 102)\n"
     ]
    },
    {
     "data": {
      "text/html": [
       "<div>\n",
       "<style scoped>\n",
       "    .dataframe tbody tr th:only-of-type {\n",
       "        vertical-align: middle;\n",
       "    }\n",
       "\n",
       "    .dataframe tbody tr th {\n",
       "        vertical-align: top;\n",
       "    }\n",
       "\n",
       "    .dataframe thead th {\n",
       "        text-align: right;\n",
       "    }\n",
       "</style>\n",
       "<table border=\"1\" class=\"dataframe\">\n",
       "  <thead>\n",
       "    <tr style=\"text-align: right;\">\n",
       "      <th></th>\n",
       "      <th>0</th>\n",
       "      <th>1</th>\n",
       "      <th>2</th>\n",
       "      <th>3</th>\n",
       "      <th>4</th>\n",
       "      <th>5</th>\n",
       "      <th>6</th>\n",
       "      <th>7</th>\n",
       "      <th>8</th>\n",
       "      <th>9</th>\n",
       "      <th>...</th>\n",
       "      <th>92</th>\n",
       "      <th>93</th>\n",
       "      <th>94</th>\n",
       "      <th>95</th>\n",
       "      <th>96</th>\n",
       "      <th>97</th>\n",
       "      <th>98</th>\n",
       "      <th>99</th>\n",
       "      <th>y_pos</th>\n",
       "      <th>y_party</th>\n",
       "    </tr>\n",
       "  </thead>\n",
       "  <tbody>\n",
       "    <tr>\n",
       "      <th>0</th>\n",
       "      <td>-0.201864</td>\n",
       "      <td>0.212335</td>\n",
       "      <td>0.034427</td>\n",
       "      <td>0.055971</td>\n",
       "      <td>0.007781</td>\n",
       "      <td>-0.424803</td>\n",
       "      <td>0.092682</td>\n",
       "      <td>0.528746</td>\n",
       "      <td>-0.119848</td>\n",
       "      <td>-0.178623</td>\n",
       "      <td>...</td>\n",
       "      <td>0.025228</td>\n",
       "      <td>0.139872</td>\n",
       "      <td>0.478561</td>\n",
       "      <td>0.301166</td>\n",
       "      <td>0.136828</td>\n",
       "      <td>-0.298438</td>\n",
       "      <td>0.053767</td>\n",
       "      <td>0.012892</td>\n",
       "      <td>0</td>\n",
       "      <td>0</td>\n",
       "    </tr>\n",
       "    <tr>\n",
       "      <th>1</th>\n",
       "      <td>-0.200199</td>\n",
       "      <td>0.206200</td>\n",
       "      <td>0.029944</td>\n",
       "      <td>0.052720</td>\n",
       "      <td>0.002217</td>\n",
       "      <td>-0.414836</td>\n",
       "      <td>0.091039</td>\n",
       "      <td>0.521040</td>\n",
       "      <td>-0.115118</td>\n",
       "      <td>-0.175861</td>\n",
       "      <td>...</td>\n",
       "      <td>0.023252</td>\n",
       "      <td>0.135813</td>\n",
       "      <td>0.478182</td>\n",
       "      <td>0.301609</td>\n",
       "      <td>0.135101</td>\n",
       "      <td>-0.300762</td>\n",
       "      <td>0.055999</td>\n",
       "      <td>0.007112</td>\n",
       "      <td>0</td>\n",
       "      <td>0</td>\n",
       "    </tr>\n",
       "    <tr>\n",
       "      <th>2</th>\n",
       "      <td>-0.156357</td>\n",
       "      <td>0.154672</td>\n",
       "      <td>0.023684</td>\n",
       "      <td>0.042993</td>\n",
       "      <td>0.002979</td>\n",
       "      <td>-0.320341</td>\n",
       "      <td>0.068405</td>\n",
       "      <td>0.404825</td>\n",
       "      <td>-0.091422</td>\n",
       "      <td>-0.135894</td>\n",
       "      <td>...</td>\n",
       "      <td>0.020643</td>\n",
       "      <td>0.105806</td>\n",
       "      <td>0.369334</td>\n",
       "      <td>0.230374</td>\n",
       "      <td>0.104806</td>\n",
       "      <td>-0.231441</td>\n",
       "      <td>0.046234</td>\n",
       "      <td>0.008425</td>\n",
       "      <td>0</td>\n",
       "      <td>0</td>\n",
       "    </tr>\n",
       "    <tr>\n",
       "      <th>3</th>\n",
       "      <td>-0.247376</td>\n",
       "      <td>0.257352</td>\n",
       "      <td>0.038041</td>\n",
       "      <td>0.067018</td>\n",
       "      <td>0.002985</td>\n",
       "      <td>-0.516300</td>\n",
       "      <td>0.113788</td>\n",
       "      <td>0.650381</td>\n",
       "      <td>-0.150051</td>\n",
       "      <td>-0.223026</td>\n",
       "      <td>...</td>\n",
       "      <td>0.025027</td>\n",
       "      <td>0.169030</td>\n",
       "      <td>0.596222</td>\n",
       "      <td>0.371365</td>\n",
       "      <td>0.168625</td>\n",
       "      <td>-0.376850</td>\n",
       "      <td>0.072042</td>\n",
       "      <td>0.012612</td>\n",
       "      <td>0</td>\n",
       "      <td>0</td>\n",
       "    </tr>\n",
       "    <tr>\n",
       "      <th>4</th>\n",
       "      <td>-0.229738</td>\n",
       "      <td>0.236331</td>\n",
       "      <td>0.032267</td>\n",
       "      <td>0.062683</td>\n",
       "      <td>0.006035</td>\n",
       "      <td>-0.474956</td>\n",
       "      <td>0.105162</td>\n",
       "      <td>0.591215</td>\n",
       "      <td>-0.131468</td>\n",
       "      <td>-0.198776</td>\n",
       "      <td>...</td>\n",
       "      <td>0.027440</td>\n",
       "      <td>0.156992</td>\n",
       "      <td>0.541168</td>\n",
       "      <td>0.334144</td>\n",
       "      <td>0.154481</td>\n",
       "      <td>-0.337722</td>\n",
       "      <td>0.063093</td>\n",
       "      <td>0.014793</td>\n",
       "      <td>0</td>\n",
       "      <td>0</td>\n",
       "    </tr>\n",
       "  </tbody>\n",
       "</table>\n",
       "<p>5 rows × 102 columns</p>\n",
       "</div>"
      ],
      "text/plain": [
       "          0         1         2         3         4         5         6  \\\n",
       "0 -0.201864  0.212335  0.034427  0.055971  0.007781 -0.424803  0.092682   \n",
       "1 -0.200199  0.206200  0.029944  0.052720  0.002217 -0.414836  0.091039   \n",
       "2 -0.156357  0.154672  0.023684  0.042993  0.002979 -0.320341  0.068405   \n",
       "3 -0.247376  0.257352  0.038041  0.067018  0.002985 -0.516300  0.113788   \n",
       "4 -0.229738  0.236331  0.032267  0.062683  0.006035 -0.474956  0.105162   \n",
       "\n",
       "          7         8         9  ...        92        93        94        95  \\\n",
       "0  0.528746 -0.119848 -0.178623  ...  0.025228  0.139872  0.478561  0.301166   \n",
       "1  0.521040 -0.115118 -0.175861  ...  0.023252  0.135813  0.478182  0.301609   \n",
       "2  0.404825 -0.091422 -0.135894  ...  0.020643  0.105806  0.369334  0.230374   \n",
       "3  0.650381 -0.150051 -0.223026  ...  0.025027  0.169030  0.596222  0.371365   \n",
       "4  0.591215 -0.131468 -0.198776  ...  0.027440  0.156992  0.541168  0.334144   \n",
       "\n",
       "         96        97        98        99  y_pos  y_party  \n",
       "0  0.136828 -0.298438  0.053767  0.012892      0        0  \n",
       "1  0.135101 -0.300762  0.055999  0.007112      0        0  \n",
       "2  0.104806 -0.231441  0.046234  0.008425      0        0  \n",
       "3  0.168625 -0.376850  0.072042  0.012612      0        0  \n",
       "4  0.154481 -0.337722  0.063093  0.014793      0        0  \n",
       "\n",
       "[5 rows x 102 columns]"
      ]
     },
     "execution_count": 60,
     "metadata": {},
     "output_type": "execute_result"
    }
   ],
   "source": [
    "# drop rows from both x and y that have nan in x\n",
    "emb_y.dropna(axis = 0, inplace = True)\n",
    "emb_y.reset_index(inplace = True, drop = True)\n",
    "print(emb_y.shape)\n",
    "emb_y.head()"
   ]
  },
  {
   "cell_type": "code",
   "execution_count": 61,
   "metadata": {},
   "outputs": [],
   "source": [
    "# Targets\n",
    "y_partyemb = emb_y['y_party']\n",
    "y_posemb = emb_y['y_pos']\n",
    "\n",
    "# Features\n",
    "doc_avg_emb_df_nonan = emb_y.drop(['y_party', 'y_pos'], axis = 1)"
   ]
  },
  {
   "cell_type": "code",
   "execution_count": 62,
   "metadata": {},
   "outputs": [],
   "source": [
    "# for party\n",
    "X_train_embpart, X_test_embpart, y_train_embpart, y_test_embpart = train_test_split(doc_avg_emb_df_nonan, y_partyemb, train_size = .80, test_size=0.20,\n",
    "                                                   stratify=y_partyemb)\n",
    "\n",
    "X_train_embpart, X_validate_embpart, y_train_embpart, y_validate_embpart = train_test_split(X_train_embpart, y_train_embpart, train_size = .75, test_size = .25, \n",
    "                                                           stratify = y_train_embpart)"
   ]
  },
  {
   "cell_type": "code",
   "execution_count": 63,
   "metadata": {},
   "outputs": [],
   "source": [
    "# create a model\n",
    "logit_reg = LogisticRegression()\n",
    "\n",
    "# fit the model\n",
    "logit_model = logit_reg.fit(X_train_embpart, y_train_embpart.ravel())"
   ]
  },
  {
   "cell_type": "code",
   "execution_count": 64,
   "metadata": {},
   "outputs": [
    {
     "name": "stdout",
     "output_type": "stream",
     "text": [
      "{'C': 0.6, 'fit_intercept': 'True', 'penalty': 'l2', 'solver': 'liblinear'}\n",
      "Validation Accuracy 0.543859649122807\n"
     ]
    }
   ],
   "source": [
    "# removed some hyperparameter options to reduce runtime\n",
    "param_grid = {'penalty': ['l1', 'l2'],\n",
    "             'C': np.arange(.1, 1, .1),\n",
    "               'fit_intercept': ['True', 'False'],\n",
    "             'solver': ['liblinear']}\n",
    "\n",
    "logit_grid = GridSearchCV(logit_model, param_grid, cv=3)\n",
    "logit_grid.fit(X_train_embpart, y_train_embpart)\n",
    "\n",
    "best_logit_pred = logit_grid.best_estimator_.predict(X_validate_embpart)\n",
    "\n",
    "print(logit_grid.best_params_)\n",
    "print('Validation Accuracy', accuracy_score(best_logit_pred, y_validate_embpart))"
   ]
  },
  {
   "cell_type": "code",
   "execution_count": 65,
   "metadata": {},
   "outputs": [],
   "source": [
    "logit_grid.best_estimator_.fit(X_train_embpart, y_train_embpart.ravel())\n",
    "y_pred = logit_model.predict(X_validate_embpart)"
   ]
  },
  {
   "cell_type": "code",
   "execution_count": 66,
   "metadata": {},
   "outputs": [
    {
     "data": {
      "image/png": "[encoded data removed]",
      "text/plain": [
       "<Figure size 720x504 with 2 Axes>"
      ]
     },
     "metadata": {},
     "output_type": "display_data"
    }
   ],
   "source": [
    "cf_matrix = confusion_matrix(y_validate_embpart, y_pred, normalize = \"true\")\n",
    "\n",
    "df_cm = pd.DataFrame(cf_matrix, range(2),\n",
    "                  range(2))\n",
    "\n",
    "df_cm = df_cm.rename(index=str, columns={0: \"Democrat\", 1: \"Republican\"})\n",
    "df_cm.index = [\"Democrat\", \"Republican\"]\n",
    "plt.figure(figsize = (10,7))\n",
    "sns.set(font_scale=1.4)#for label size\n",
    "sns.heatmap(df_cm, \n",
    "           annot=True,\n",
    "           annot_kws={\"size\": 16},\n",
    "           fmt='g')\n",
    "\n",
    "plt.title(\"Confusion Matrix\")\n",
    "plt.xlabel(\"Predicted Label\")\n",
    "plt.ylabel(\"True Label\")\n",
    "plt.show()"
   ]
  },
  {
   "cell_type": "markdown",
   "metadata": {},
   "source": [
    "### Word embeddings - position predictions"
   ]
  },
  {
   "cell_type": "code",
   "execution_count": 67,
   "metadata": {},
   "outputs": [],
   "source": [
    "# for party\n",
    "X_train_embpos, X_test_embpos, y_train_embpos, y_test_embpos = train_test_split(doc_avg_emb_df_nonan, y_posemb, train_size = .80, test_size=0.20,\n",
    "                                                   stratify=y_posemb)\n",
    "\n",
    "X_train_embpos, X_validate_embpos, y_train_embpos, y_validate_embpos = train_test_split(X_train_embpos, y_train_embpos, train_size = .75, test_size = .25, \n",
    "                                                           stratify = y_train_embpos)"
   ]
  },
  {
   "cell_type": "code",
   "execution_count": 68,
   "metadata": {},
   "outputs": [],
   "source": [
    "# create a model\n",
    "logit_reg = LogisticRegression()\n",
    "\n",
    "# fit the model\n",
    "logit_model = logit_reg.fit(X_train_embpos, y_train_embpos.ravel())"
   ]
  },
  {
   "cell_type": "code",
   "execution_count": 69,
   "metadata": {},
   "outputs": [
    {
     "name": "stdout",
     "output_type": "stream",
     "text": [
      "{'C': 0.8, 'fit_intercept': 'True', 'penalty': 'l2', 'solver': 'liblinear'}\n",
      "Validation Accuracy 0.5213032581453634\n"
     ]
    }
   ],
   "source": [
    "# removed some hyperparameter options to reduce runtime\n",
    "param_grid = {'penalty': ['l1', 'l2'],\n",
    "             'C': np.arange(.1, 1, .1),\n",
    "               'fit_intercept': ['True', 'False'],\n",
    "             'solver': ['liblinear']}\n",
    "\n",
    "logit_grid = GridSearchCV(logit_model, param_grid, cv=3)\n",
    "logit_grid.fit(X_train_embpos, y_train_embpos)\n",
    "\n",
    "best_logit_pred = logit_grid.best_estimator_.predict(X_validate_embpos)\n",
    "\n",
    "print(logit_grid.best_params_)\n",
    "print('Validation Accuracy', accuracy_score(best_logit_pred, y_validate_embpos))"
   ]
  },
  {
   "cell_type": "code",
   "execution_count": 70,
   "metadata": {},
   "outputs": [],
   "source": [
    "logit_grid.best_estimator_.fit(X_train_embpos, y_train_embpos.ravel())\n",
    "y_pred = logit_model.predict(X_validate_embpos)"
   ]
  },
  {
   "cell_type": "code",
   "execution_count": 71,
   "metadata": {},
   "outputs": [
    {
     "data": {
      "image/png": "[encoded data removed]",
      "text/plain": [
       "<Figure size 720x504 with 2 Axes>"
      ]
     },
     "metadata": {},
     "output_type": "display_data"
    }
   ],
   "source": [
    "cf_matrix = confusion_matrix(y_validate_embpos, y_pred, normalize = \"true\")\n",
    "\n",
    "df_cm = pd.DataFrame(cf_matrix, range(2),\n",
    "                  range(2))\n",
    "\n",
    "df_cm = df_cm.rename(index=str, columns={0: \"Representative\", 1: \"Senator\"})\n",
    "df_cm.index = [\"Representative\", \"Senator\"]\n",
    "plt.figure(figsize = (10,7))\n",
    "sns.set(font_scale=1.4)#for label size\n",
    "sns.heatmap(df_cm, \n",
    "           annot=True,\n",
    "           annot_kws={\"size\": 16},\n",
    "           fmt='g')\n",
    "\n",
    "plt.title(\"Confusion Matrix\")\n",
    "plt.xlabel(\"Predicted Label\")\n",
    "plt.ylabel(\"True Label\")\n",
    "plt.show()"
   ]
  },
  {
   "cell_type": "markdown",
   "metadata": {},
   "source": [
    "It is possible that word embeddings remove too much distinguishing information as the embeddings are made up of vectors of length 100. It is still more difficult to predict position than party, and Democrats and Representatives are easier to predict (higher true positives) than Republicans and Senators. Based on the data above, the best featurization technique is term frequency inverse document frequency."
   ]
  },
  {
   "cell_type": "markdown",
   "metadata": {},
   "source": [
    "### Two Combined Models with tf-idf"
   ]
  },
  {
   "cell_type": "code",
   "execution_count": 72,
   "metadata": {},
   "outputs": [
    {
     "data": {
      "text/plain": [
       "Index(['name_wikipedia', 'joined_congress_date', 'birthday', 'gender', 'state',\n",
       "       'district_number', 'dem_votes_2016', 'rep_votes_2016', 'dem_votes_2012',\n",
       "       'rep_votes_2012'],\n",
       "      dtype='object')"
      ]
     },
     "execution_count": 72,
     "metadata": {},
     "output_type": "execute_result"
    }
   ],
   "source": [
    "nontext.columns"
   ]
  },
  {
   "cell_type": "code",
   "execution_count": 73,
   "metadata": {},
   "outputs": [
    {
     "data": {
      "text/plain": [
       "Index(['name_wikipedia', 'gender', 'state', 'dem_votes_2016', 'rep_votes_2016',\n",
       "       'dem_votes_2012', 'rep_votes_2012'],\n",
       "      dtype='object')"
      ]
     },
     "execution_count": 73,
     "metadata": {},
     "output_type": "execute_result"
    }
   ],
   "source": [
    "nontext.drop(['joined_congress_date', 'district_number', 'joined_congress_date', 'birthday'], axis = 1, inplace = True)\n",
    "nontext.columns"
   ]
  },
  {
   "cell_type": "code",
   "execution_count": 74,
   "metadata": {},
   "outputs": [
    {
     "data": {
      "text/html": [
       "<div>\n",
       "<style scoped>\n",
       "    .dataframe tbody tr th:only-of-type {\n",
       "        vertical-align: middle;\n",
       "    }\n",
       "\n",
       "    .dataframe tbody tr th {\n",
       "        vertical-align: top;\n",
       "    }\n",
       "\n",
       "    .dataframe thead th {\n",
       "        text-align: right;\n",
       "    }\n",
       "</style>\n",
       "<table border=\"1\" class=\"dataframe\">\n",
       "  <thead>\n",
       "    <tr style=\"text-align: right;\">\n",
       "      <th></th>\n",
       "      <th>dem_votes_2016</th>\n",
       "      <th>rep_votes_2016</th>\n",
       "      <th>dem_votes_2012</th>\n",
       "      <th>rep_votes_2012</th>\n",
       "      <th>name_wikipedia_Abby Finkenauer</th>\n",
       "      <th>name_wikipedia_Abigail Spanberger</th>\n",
       "      <th>name_wikipedia_Adam Schiff</th>\n",
       "      <th>name_wikipedia_Adam Smith</th>\n",
       "      <th>name_wikipedia_Adrian Smith</th>\n",
       "      <th>name_wikipedia_Adriano Espaillat</th>\n",
       "      <th>...</th>\n",
       "      <th>state_SD</th>\n",
       "      <th>state_TN</th>\n",
       "      <th>state_TX</th>\n",
       "      <th>state_UT</th>\n",
       "      <th>state_VA</th>\n",
       "      <th>state_VT</th>\n",
       "      <th>state_WA</th>\n",
       "      <th>state_WI</th>\n",
       "      <th>state_WV</th>\n",
       "      <th>state_WY</th>\n",
       "    </tr>\n",
       "  </thead>\n",
       "  <tbody>\n",
       "    <tr>\n",
       "      <th>0</th>\n",
       "      <td>0.495920</td>\n",
       "      <td>0.504080</td>\n",
       "      <td>0.535164</td>\n",
       "      <td>0.464836</td>\n",
       "      <td>0</td>\n",
       "      <td>0</td>\n",
       "      <td>0</td>\n",
       "      <td>0</td>\n",
       "      <td>0</td>\n",
       "      <td>0</td>\n",
       "      <td>...</td>\n",
       "      <td>0</td>\n",
       "      <td>0</td>\n",
       "      <td>0</td>\n",
       "      <td>0</td>\n",
       "      <td>0</td>\n",
       "      <td>0</td>\n",
       "      <td>0</td>\n",
       "      <td>1</td>\n",
       "      <td>0</td>\n",
       "      <td>0</td>\n",
       "    </tr>\n",
       "    <tr>\n",
       "      <th>1</th>\n",
       "      <td>0.661282</td>\n",
       "      <td>0.338718</td>\n",
       "      <td>0.618728</td>\n",
       "      <td>0.381272</td>\n",
       "      <td>0</td>\n",
       "      <td>0</td>\n",
       "      <td>0</td>\n",
       "      <td>0</td>\n",
       "      <td>0</td>\n",
       "      <td>0</td>\n",
       "      <td>...</td>\n",
       "      <td>0</td>\n",
       "      <td>0</td>\n",
       "      <td>0</td>\n",
       "      <td>0</td>\n",
       "      <td>0</td>\n",
       "      <td>0</td>\n",
       "      <td>0</td>\n",
       "      <td>0</td>\n",
       "      <td>0</td>\n",
       "      <td>0</td>\n",
       "    </tr>\n",
       "    <tr>\n",
       "      <th>2</th>\n",
       "      <td>0.363757</td>\n",
       "      <td>0.636243</td>\n",
       "      <td>0.396489</td>\n",
       "      <td>0.603511</td>\n",
       "      <td>0</td>\n",
       "      <td>0</td>\n",
       "      <td>0</td>\n",
       "      <td>0</td>\n",
       "      <td>0</td>\n",
       "      <td>0</td>\n",
       "      <td>...</td>\n",
       "      <td>0</td>\n",
       "      <td>1</td>\n",
       "      <td>0</td>\n",
       "      <td>0</td>\n",
       "      <td>0</td>\n",
       "      <td>0</td>\n",
       "      <td>0</td>\n",
       "      <td>0</td>\n",
       "      <td>0</td>\n",
       "      <td>0</td>\n",
       "    </tr>\n",
       "    <tr>\n",
       "      <th>3</th>\n",
       "      <td>0.452868</td>\n",
       "      <td>0.547132</td>\n",
       "      <td>0.419921</td>\n",
       "      <td>0.580079</td>\n",
       "      <td>0</td>\n",
       "      <td>0</td>\n",
       "      <td>0</td>\n",
       "      <td>0</td>\n",
       "      <td>0</td>\n",
       "      <td>0</td>\n",
       "      <td>...</td>\n",
       "      <td>0</td>\n",
       "      <td>0</td>\n",
       "      <td>1</td>\n",
       "      <td>0</td>\n",
       "      <td>0</td>\n",
       "      <td>0</td>\n",
       "      <td>0</td>\n",
       "      <td>0</td>\n",
       "      <td>0</td>\n",
       "      <td>0</td>\n",
       "    </tr>\n",
       "    <tr>\n",
       "      <th>4</th>\n",
       "      <td>0.661282</td>\n",
       "      <td>0.338718</td>\n",
       "      <td>0.618728</td>\n",
       "      <td>0.381272</td>\n",
       "      <td>0</td>\n",
       "      <td>0</td>\n",
       "      <td>0</td>\n",
       "      <td>0</td>\n",
       "      <td>0</td>\n",
       "      <td>0</td>\n",
       "      <td>...</td>\n",
       "      <td>0</td>\n",
       "      <td>0</td>\n",
       "      <td>0</td>\n",
       "      <td>0</td>\n",
       "      <td>0</td>\n",
       "      <td>0</td>\n",
       "      <td>0</td>\n",
       "      <td>0</td>\n",
       "      <td>0</td>\n",
       "      <td>0</td>\n",
       "    </tr>\n",
       "  </tbody>\n",
       "</table>\n",
       "<p>5 rows × 485 columns</p>\n",
       "</div>"
      ],
      "text/plain": [
       "   dem_votes_2016  rep_votes_2016  dem_votes_2012  rep_votes_2012  \\\n",
       "0        0.495920        0.504080        0.535164        0.464836   \n",
       "1        0.661282        0.338718        0.618728        0.381272   \n",
       "2        0.363757        0.636243        0.396489        0.603511   \n",
       "3        0.452868        0.547132        0.419921        0.580079   \n",
       "4        0.661282        0.338718        0.618728        0.381272   \n",
       "\n",
       "   name_wikipedia_Abby Finkenauer  name_wikipedia_Abigail Spanberger  \\\n",
       "0                               0                                  0   \n",
       "1                               0                                  0   \n",
       "2                               0                                  0   \n",
       "3                               0                                  0   \n",
       "4                               0                                  0   \n",
       "\n",
       "   name_wikipedia_Adam Schiff  name_wikipedia_Adam Smith  \\\n",
       "0                           0                          0   \n",
       "1                           0                          0   \n",
       "2                           0                          0   \n",
       "3                           0                          0   \n",
       "4                           0                          0   \n",
       "\n",
       "   name_wikipedia_Adrian Smith  name_wikipedia_Adriano Espaillat  ...  \\\n",
       "0                            0                                 0  ...   \n",
       "1                            0                                 0  ...   \n",
       "2                            0                                 0  ...   \n",
       "3                            0                                 0  ...   \n",
       "4                            0                                 0  ...   \n",
       "\n",
       "   state_SD  state_TN  state_TX  state_UT  state_VA  state_VT  state_WA  \\\n",
       "0         0         0         0         0         0         0         0   \n",
       "1         0         0         0         0         0         0         0   \n",
       "2         0         1         0         0         0         0         0   \n",
       "3         0         0         1         0         0         0         0   \n",
       "4         0         0         0         0         0         0         0   \n",
       "\n",
       "   state_WI  state_WV  state_WY  \n",
       "0         1         0         0  \n",
       "1         0         0         0  \n",
       "2         0         0         0  \n",
       "3         0         0         0  \n",
       "4         0         0         0  \n",
       "\n",
       "[5 rows x 485 columns]"
      ]
     },
     "execution_count": 74,
     "metadata": {},
     "output_type": "execute_result"
    }
   ],
   "source": [
    "nontext_dummies = pd.get_dummies(nontext)\n",
    "nontext_dummies.head()"
   ]
  },
  {
   "cell_type": "code",
   "execution_count": 75,
   "metadata": {},
   "outputs": [
    {
     "data": {
      "text/html": [
       "<div>\n",
       "<style scoped>\n",
       "    .dataframe tbody tr th:only-of-type {\n",
       "        vertical-align: middle;\n",
       "    }\n",
       "\n",
       "    .dataframe tbody tr th {\n",
       "        vertical-align: top;\n",
       "    }\n",
       "\n",
       "    .dataframe thead th {\n",
       "        text-align: right;\n",
       "    }\n",
       "</style>\n",
       "<table border=\"1\" class=\"dataframe\">\n",
       "  <thead>\n",
       "    <tr style=\"text-align: right;\">\n",
       "      <th></th>\n",
       "      <th>dem_votes_2016</th>\n",
       "      <th>rep_votes_2016</th>\n",
       "      <th>dem_votes_2012</th>\n",
       "      <th>rep_votes_2012</th>\n",
       "      <th>name_wikipedia_Abby Finkenauer</th>\n",
       "      <th>name_wikipedia_Abigail Spanberger</th>\n",
       "      <th>name_wikipedia_Adam Schiff</th>\n",
       "      <th>name_wikipedia_Adam Smith</th>\n",
       "      <th>name_wikipedia_Adrian Smith</th>\n",
       "      <th>name_wikipedia_Adriano Espaillat</th>\n",
       "      <th>...</th>\n",
       "      <th>13692</th>\n",
       "      <th>13693</th>\n",
       "      <th>13694</th>\n",
       "      <th>13695</th>\n",
       "      <th>13696</th>\n",
       "      <th>13697</th>\n",
       "      <th>13698</th>\n",
       "      <th>13699</th>\n",
       "      <th>13700</th>\n",
       "      <th>13701</th>\n",
       "    </tr>\n",
       "  </thead>\n",
       "  <tbody>\n",
       "    <tr>\n",
       "      <th>0</th>\n",
       "      <td>0.495920</td>\n",
       "      <td>0.504080</td>\n",
       "      <td>0.535164</td>\n",
       "      <td>0.464836</td>\n",
       "      <td>0</td>\n",
       "      <td>0</td>\n",
       "      <td>0</td>\n",
       "      <td>0</td>\n",
       "      <td>0</td>\n",
       "      <td>0</td>\n",
       "      <td>...</td>\n",
       "      <td>0.0</td>\n",
       "      <td>0.0</td>\n",
       "      <td>0.0</td>\n",
       "      <td>0.0</td>\n",
       "      <td>0.0</td>\n",
       "      <td>0.0</td>\n",
       "      <td>0.0</td>\n",
       "      <td>0.0</td>\n",
       "      <td>0.0</td>\n",
       "      <td>0.0</td>\n",
       "    </tr>\n",
       "    <tr>\n",
       "      <th>1</th>\n",
       "      <td>0.661282</td>\n",
       "      <td>0.338718</td>\n",
       "      <td>0.618728</td>\n",
       "      <td>0.381272</td>\n",
       "      <td>0</td>\n",
       "      <td>0</td>\n",
       "      <td>0</td>\n",
       "      <td>0</td>\n",
       "      <td>0</td>\n",
       "      <td>0</td>\n",
       "      <td>...</td>\n",
       "      <td>0.0</td>\n",
       "      <td>0.0</td>\n",
       "      <td>0.0</td>\n",
       "      <td>0.0</td>\n",
       "      <td>0.0</td>\n",
       "      <td>0.0</td>\n",
       "      <td>0.0</td>\n",
       "      <td>0.0</td>\n",
       "      <td>0.0</td>\n",
       "      <td>0.0</td>\n",
       "    </tr>\n",
       "    <tr>\n",
       "      <th>2</th>\n",
       "      <td>0.363757</td>\n",
       "      <td>0.636243</td>\n",
       "      <td>0.396489</td>\n",
       "      <td>0.603511</td>\n",
       "      <td>0</td>\n",
       "      <td>0</td>\n",
       "      <td>0</td>\n",
       "      <td>0</td>\n",
       "      <td>0</td>\n",
       "      <td>0</td>\n",
       "      <td>...</td>\n",
       "      <td>0.0</td>\n",
       "      <td>0.0</td>\n",
       "      <td>0.0</td>\n",
       "      <td>0.0</td>\n",
       "      <td>0.0</td>\n",
       "      <td>0.0</td>\n",
       "      <td>0.0</td>\n",
       "      <td>0.0</td>\n",
       "      <td>0.0</td>\n",
       "      <td>0.0</td>\n",
       "    </tr>\n",
       "    <tr>\n",
       "      <th>3</th>\n",
       "      <td>0.452868</td>\n",
       "      <td>0.547132</td>\n",
       "      <td>0.419921</td>\n",
       "      <td>0.580079</td>\n",
       "      <td>0</td>\n",
       "      <td>0</td>\n",
       "      <td>0</td>\n",
       "      <td>0</td>\n",
       "      <td>0</td>\n",
       "      <td>0</td>\n",
       "      <td>...</td>\n",
       "      <td>0.0</td>\n",
       "      <td>0.0</td>\n",
       "      <td>0.0</td>\n",
       "      <td>0.0</td>\n",
       "      <td>0.0</td>\n",
       "      <td>0.0</td>\n",
       "      <td>0.0</td>\n",
       "      <td>0.0</td>\n",
       "      <td>0.0</td>\n",
       "      <td>0.0</td>\n",
       "    </tr>\n",
       "    <tr>\n",
       "      <th>4</th>\n",
       "      <td>0.661282</td>\n",
       "      <td>0.338718</td>\n",
       "      <td>0.618728</td>\n",
       "      <td>0.381272</td>\n",
       "      <td>0</td>\n",
       "      <td>0</td>\n",
       "      <td>0</td>\n",
       "      <td>0</td>\n",
       "      <td>0</td>\n",
       "      <td>0</td>\n",
       "      <td>...</td>\n",
       "      <td>0.0</td>\n",
       "      <td>0.0</td>\n",
       "      <td>0.0</td>\n",
       "      <td>0.0</td>\n",
       "      <td>0.0</td>\n",
       "      <td>0.0</td>\n",
       "      <td>0.0</td>\n",
       "      <td>0.0</td>\n",
       "      <td>0.0</td>\n",
       "      <td>0.0</td>\n",
       "    </tr>\n",
       "  </tbody>\n",
       "</table>\n",
       "<p>5 rows × 14187 columns</p>\n",
       "</div>"
      ],
      "text/plain": [
       "   dem_votes_2016  rep_votes_2016  dem_votes_2012  rep_votes_2012  \\\n",
       "0        0.495920        0.504080        0.535164        0.464836   \n",
       "1        0.661282        0.338718        0.618728        0.381272   \n",
       "2        0.363757        0.636243        0.396489        0.603511   \n",
       "3        0.452868        0.547132        0.419921        0.580079   \n",
       "4        0.661282        0.338718        0.618728        0.381272   \n",
       "\n",
       "   name_wikipedia_Abby Finkenauer  name_wikipedia_Abigail Spanberger  \\\n",
       "0                               0                                  0   \n",
       "1                               0                                  0   \n",
       "2                               0                                  0   \n",
       "3                               0                                  0   \n",
       "4                               0                                  0   \n",
       "\n",
       "   name_wikipedia_Adam Schiff  name_wikipedia_Adam Smith  \\\n",
       "0                           0                          0   \n",
       "1                           0                          0   \n",
       "2                           0                          0   \n",
       "3                           0                          0   \n",
       "4                           0                          0   \n",
       "\n",
       "   name_wikipedia_Adrian Smith  name_wikipedia_Adriano Espaillat  ...  13692  \\\n",
       "0                            0                                 0  ...    0.0   \n",
       "1                            0                                 0  ...    0.0   \n",
       "2                            0                                 0  ...    0.0   \n",
       "3                            0                                 0  ...    0.0   \n",
       "4                            0                                 0  ...    0.0   \n",
       "\n",
       "   13693  13694  13695  13696  13697  13698  13699  13700  13701  \n",
       "0    0.0    0.0    0.0    0.0    0.0    0.0    0.0    0.0    0.0  \n",
       "1    0.0    0.0    0.0    0.0    0.0    0.0    0.0    0.0    0.0  \n",
       "2    0.0    0.0    0.0    0.0    0.0    0.0    0.0    0.0    0.0  \n",
       "3    0.0    0.0    0.0    0.0    0.0    0.0    0.0    0.0    0.0  \n",
       "4    0.0    0.0    0.0    0.0    0.0    0.0    0.0    0.0    0.0  \n",
       "\n",
       "[5 rows x 14187 columns]"
      ]
     },
     "execution_count": 75,
     "metadata": {},
     "output_type": "execute_result"
    }
   ],
   "source": [
    "combined_x = nontext_dummies.join(tfidf_df)\n",
    "combined_x.head()"
   ]
  },
  {
   "cell_type": "markdown",
   "metadata": {},
   "source": [
    "### Party predictions"
   ]
  },
  {
   "cell_type": "code",
   "execution_count": 76,
   "metadata": {},
   "outputs": [],
   "source": [
    "# for party\n",
    "X_train_ntpart, X_test_ntpart, y_train_ntpart, y_test_ntpart = train_test_split(combined_x, y_party, train_size = .80, test_size=0.20,\n",
    "                                                   stratify=y_party)\n",
    "\n",
    "X_train_ntpart, X_validate_ntpart, y_train_ntpart, y_validate_ntpart = train_test_split(X_train_ntpart, y_train_ntpart, train_size = .75, test_size = .25, \n",
    "                                                           stratify = y_train_ntpart)"
   ]
  },
  {
   "cell_type": "code",
   "execution_count": 77,
   "metadata": {},
   "outputs": [],
   "source": [
    "# create a model\n",
    "logit_reg = LogisticRegression()\n",
    "\n",
    "# fit the model\n",
    "logit_model = logit_reg.fit(X_train_ntpart, y_train_ntpart.ravel())"
   ]
  },
  {
   "cell_type": "code",
   "execution_count": 78,
   "metadata": {},
   "outputs": [
    {
     "name": "stdout",
     "output_type": "stream",
     "text": [
      "{'C': 0.9, 'fit_intercept': 'True', 'penalty': 'l2', 'solver': 'liblinear'}\n",
      "Validation Accuracy 0.95625\n"
     ]
    }
   ],
   "source": [
    "param_grid = {'penalty': ['l1', 'l2', 'elasticnet'],\n",
    "             'C': np.arange(.1, 1, .1),\n",
    "               'fit_intercept': ['True', 'False'],\n",
    "             'solver': ['liblinear', 'saga']}\n",
    "\n",
    "logit_grid = GridSearchCV(logit_model, param_grid, cv=3)\n",
    "logit_grid.fit(X_train_ntpart, y_train_ntpart)\n",
    "\n",
    "best_logit_pred = logit_grid.best_estimator_.predict(X_validate_ntpart)\n",
    "\n",
    "print(logit_grid.best_params_)\n",
    "print('Validation Accuracy', accuracy_score(best_logit_pred, y_validate_ntpart))"
   ]
  },
  {
   "cell_type": "code",
   "execution_count": 79,
   "metadata": {},
   "outputs": [],
   "source": [
    "logit_grid.best_estimator_.fit(X_train_ntpart, y_train_ntpart.ravel())\n",
    "y_pred = logit_model.predict(X_validate_ntpart)"
   ]
  },
  {
   "cell_type": "code",
   "execution_count": 80,
   "metadata": {},
   "outputs": [
    {
     "data": {
      "image/png": "[encoded data removed]",
      "text/plain": [
       "<Figure size 720x504 with 2 Axes>"
      ]
     },
     "metadata": {},
     "output_type": "display_data"
    }
   ],
   "source": [
    "cf_matrix = confusion_matrix(y_validate_ntpart, y_pred, normalize = \"true\")\n",
    "\n",
    "df_cm = pd.DataFrame(cf_matrix, range(2),\n",
    "                  range(2))\n",
    "\n",
    "df_cm = df_cm.rename(index=str, columns={0: \"Democrat\", 1: \"Republican\"})\n",
    "df_cm.index = [\"Democrat\", \"Republican\"]\n",
    "plt.figure(figsize = (10,7))\n",
    "sns.set(font_scale=1.4)#for label size\n",
    "sns.heatmap(df_cm, \n",
    "           annot=True,\n",
    "           annot_kws={\"size\": 16},\n",
    "           fmt='g')\n",
    "\n",
    "plt.title(\"Confusion Matrix\")\n",
    "plt.xlabel(\"Predicted Label\")\n",
    "plt.ylabel(\"True Label\")\n",
    "plt.show()"
   ]
  },
  {
   "cell_type": "markdown",
   "metadata": {},
   "source": [
    "The predictive accuracy drastically increases with the addition of non-text features."
   ]
  },
  {
   "cell_type": "markdown",
   "metadata": {},
   "source": [
    "### Position predictions"
   ]
  },
  {
   "cell_type": "code",
   "execution_count": 81,
   "metadata": {},
   "outputs": [],
   "source": [
    "# for position\n",
    "X_train_ntpos, X_test_ntpos, y_train_ntpos, y_test_ntpos = train_test_split(combined_x, y_pos, train_size = .80, test_size=0.20,\n",
    "                                                   stratify=y_pos)\n",
    "\n",
    "X_train_ntpos, X_validate_ntpos, y_train_ntpos, y_validate_ntpos = train_test_split(X_train_ntpos, y_train_ntpos, train_size = .75, test_size = .25, \n",
    "                                                           stratify = y_train_ntpos)"
   ]
  },
  {
   "cell_type": "code",
   "execution_count": 82,
   "metadata": {},
   "outputs": [],
   "source": [
    "# create a model\n",
    "logit_reg = LogisticRegression()\n",
    "\n",
    "# fit the model\n",
    "logit_model = logit_reg.fit(X_train_ntpos, y_train_ntpos.ravel())"
   ]
  },
  {
   "cell_type": "code",
   "execution_count": 83,
   "metadata": {},
   "outputs": [
    {
     "name": "stdout",
     "output_type": "stream",
     "text": [
      "{'C': 0.8, 'fit_intercept': 'True', 'penalty': 'l1', 'solver': 'liblinear'}\n",
      "Validation Accuracy 0.99375\n"
     ]
    }
   ],
   "source": [
    "param_grid = {'penalty': ['l1', 'l2', 'elasticnet'],\n",
    "             'C': np.arange(.1, 1, .1),\n",
    "               'fit_intercept': ['True', 'False'],\n",
    "             'solver': ['liblinear', 'saga']}\n",
    "\n",
    "logit_grid = GridSearchCV(logit_model, param_grid, cv=3)\n",
    "logit_grid.fit(X_train_ntpos, y_train_ntpos)\n",
    "\n",
    "best_logit_pred = logit_grid.best_estimator_.predict(X_validate_ntpos)\n",
    "\n",
    "print(logit_grid.best_params_)\n",
    "print('Validation Accuracy', accuracy_score(best_logit_pred, y_validate_ntpos))"
   ]
  },
  {
   "cell_type": "code",
   "execution_count": 84,
   "metadata": {},
   "outputs": [],
   "source": [
    "logit_grid.best_estimator_.fit(X_train_ntpos, y_train_ntpos.ravel())\n",
    "y_pred = logit_model.predict(X_validate_ntpos)"
   ]
  },
  {
   "cell_type": "code",
   "execution_count": 85,
   "metadata": {},
   "outputs": [
    {
     "data": {
      "image/png": "[encoded data removed]",
      "text/plain": [
       "<Figure size 720x504 with 2 Axes>"
      ]
     },
     "metadata": {},
     "output_type": "display_data"
    }
   ],
   "source": [
    "cf_matrix = confusion_matrix(y_validate_ntpos, y_pred, normalize = \"true\")\n",
    "\n",
    "df_cm = pd.DataFrame(cf_matrix, range(2),\n",
    "                  range(2))\n",
    "\n",
    "df_cm = df_cm.rename(index=str, columns={0: \"Representative\", 1: \"Senator\"})\n",
    "df_cm.index = [\"Representative\", \"Senator\"]\n",
    "plt.figure(figsize = (10,7))\n",
    "sns.set(font_scale=1.4)#for label size\n",
    "sns.heatmap(df_cm, \n",
    "           annot=True,\n",
    "           annot_kws={\"size\": 16},\n",
    "           fmt='g')\n",
    "\n",
    "plt.title(\"Confusion Matrix\")\n",
    "plt.xlabel(\"Predicted Label\")\n",
    "plt.ylabel(\"True Label\")\n",
    "plt.show()"
   ]
  },
  {
   "cell_type": "markdown",
   "metadata": {},
   "source": [
    "**KQ**: really excellent job, Annie! Your models crushed it because you went above and beyond with the hyperparameter tuning and sorting out the class imbalance. This is by far the best example of classification i've seen yet. Very well done!!"
   ]
  },
  {
   "cell_type": "markdown",
   "metadata": {},
   "source": [
    "The predictive accuracy for both models is extremely high. This is probably because both models were trained on balanced data (equal number of tweets for Democrat Representative, Democrat Senator, Republican Representative, Republican Senator), robust data (4,000 tweets), and used a combination of text and non-text data. The text portion of the data included token frequency inverse document frequency featurization. In EDA, word choice seemed highly distinguishable, making tf-idf a highly effective featurization method. The non-text data incorporated gender, state, and the proportions of Democrat and Republican votes from the state in 2012 and 2016, which obviously added a great deal of distinguishing information to the models. Interestingly, the predictive accuracy is now higher for position than for party."
   ]
  },
  {
   "cell_type": "markdown",
   "metadata": {},
   "source": [
    "## Discussion Questions"
   ]
  },
  {
   "cell_type": "markdown",
   "metadata": {},
   "source": [
    "1- Why do standard preprocessing techniques need to be further customized to a particular corpus?"
   ]
  },
  {
   "cell_type": "markdown",
   "metadata": {},
   "source": [
    "It is important to pay attention to features of the corpus during preprocessing, because particular corpora may have unique features that are important to highlight or regulate. For example, twitter data has a lot of superfluous information that is better to remove, for instance `RT`, `QT` `@`. However, for certain applications, you may want to keep punctuation such as quotes, to show quoted material in the tweet. "
   ]
  },
  {
   "cell_type": "markdown",
   "metadata": {},
   "source": [
    "2- Did you find evidence for the idea that Democrats and Republicans have different sentiments in their tweets? What about Senators and Representatives?"
   ]
  },
  {
   "cell_type": "markdown",
   "metadata": {},
   "source": [
    "During exploratory data analysis, sentiment analysis did not seem to be a good metric of differences between Senators and Representatives. However, Republicans seemed to have a slight positive skew on polarity, whereas Democrats seemed to have a slight negative skew. These observations may be reinforced in the fact that the logistic regression model with engineered features (which included sentiment scores) gave better predictive accuracy when distinguishing across parties than across positions. However, the engineered features data also included word count, which seemed to be a better predictor for party (longer tweets from Democrats) than for position, so it is unclear whether the predictive accuracy of the model is more due to word count or sentiment."
   ]
  },
  {
   "cell_type": "markdown",
   "metadata": {},
   "source": [
    "3- Why is validating your exploratory and unsupervised learning approaches with a supervised learning algorithm valuable?"
   ]
  },
  {
   "cell_type": "markdown",
   "metadata": {},
   "source": [
    "It is far easier to see a pattern from data than to show that a pattern within a subset of data is also present in a separate subset of data. In other words, using labeled data with a supervised learning algorithm (especially with test and training sets) is a way to reduce overfitting of patterns to data. Differences that may appear large in visualization methods may not actually bear out statistically."
   ]
  },
  {
   "cell_type": "markdown",
   "metadata": {},
   "source": [
    "4- Did text only, non-text only, or text and non-text features together perform the best? What is the intuition behind combining text and non-text features in a supervised learning algorithm?"
   ]
  },
  {
   "cell_type": "markdown",
   "metadata": {},
   "source": [
    "The combination of text and non-text features yielded the highest predictive accuracy scores. In a way, non-text features provide the context for text features, thereby giving the fullest picture of the data. For this data set in particular, the non-text features were extremely helpful as they provided relative percentage of Democrat and Republican voters in 2012 and 2016 for the legislators' states. This information provide to be extremely helpful in predicting the party of the legislator, as the legislator will most likely belong to the party that is most representative of their constituents. However, this information does not seem like it would be particularly useful when predicting what position the legislator holds in Congress. Gender also does not seem like it would be a good predictor, as roughly 25% of both the Senate and the House is female. "
   ]
  },
  {
   "cell_type": "markdown",
   "metadata": {},
   "source": [
    "**KQ**: awesome job Annie! "
   ]
  },
  {
   "cell_type": "code",
   "execution_count": null,
   "metadata": {},
   "outputs": [],
   "source": []
  }
 ],
 "metadata": {
  "kernelspec": {
   "display_name": "Python 3",
   "language": "python",
   "name": "python3"
  },
  "language_info": {
   "codemirror_mode": {
    "name": "ipython",
    "version": 3
   },
   "file_extension": ".py",
   "mimetype": "text/x-python",
   "name": "python",
   "nbconvert_exporter": "python",
   "pygments_lexer": "ipython3",
   "version": "3.8.11"
  }
 },
 "nbformat": 4,
 "nbformat_minor": 4
}
