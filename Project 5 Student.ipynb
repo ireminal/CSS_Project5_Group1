{
 "cells": [
  {
   "cell_type": "markdown",
   "metadata": {},
   "source": [
    "## [Computational Social Science] Project 5: Natural Language Processing"
   ]
  },
  {
   "cell_type": "markdown",
   "metadata": {},
   "source": [
    "In this project, you will use natural language processing techniques to explore a dataset containing tweets from members of the 116th United States Congress that met from January 3, 2019 to January 2, 2021. The dataset has also been cleaned to contain information about each legislator. Concretely, you will do the following:\n",
    "\n",
    "* Preprocess the text of legislators' tweets\n",
    "* Conduct Exploratory Data Analysis of the text\n",
    "* Use sentiment analysis to explore differences between legislators' tweets\n",
    "* Featurize text with manual feature engineering, frequency-based, and vector-based techniques\n",
    "* Predict legislators' political parties and whether they are a Senator or Representative\n",
    "\n",
    "You will explore two questions that relate to two central findings in political science and examine how they relate to the text of legislators' tweets. First, political scientists have argued that U.S. politics is currently highly polarized relative to other periods in American history, but also that the polarization is asymmetric. Historically, there were several conservative Democrats (i.e. \"blue dog Democrats\") and liberal Republicans (i.e. \"Rockefeller Republicans\"), as measured by popular measurement tools like [DW-NOMINATE](https://en.wikipedia.org/wiki/NOMINATE_(scaling_method)#:~:text=DW\\%2DNOMINATE\\%20scores\\%20have\\%20been,in\\%20the\\%20liberal\\%2Dconservative\\%20scale.). However, in the last few years, there are few if any examples of any Democrat in Congress being further to the right than any Republican and vice versa. At the same time, scholars have argued that this polarization is mostly a function of the Republican party moving further right than the Democratic party has moved left. **Does this sort of asymmetric polarization show up in how politicians communicate to their constituents through tweets?**\n",
    "\n",
    "Second, the U.S. Congress is a bicameral legislature, and there has long been debate about partisanship in the Senate versus the House. The House of Representatives is apportioned by population and all members serve two year terms. In the Senate, each state receives two Senators and each Senator serves a term of six years. For a variety of reasons (smaller chamber size, more insulation from the voters, rules and norms like the filibuster, etc.), the Senate has been argued to be the \"cooling saucer\" of Congress in that it is more bipartisan and moderate than the House. **Does the theory that the Senate is more moderate have support in Senators' tweets?**\n",
    "\n",
    "**Note**: See the project handout for more details on caveats and the data dictionary."
   ]
  },
  {
   "cell_type": "code",
   "execution_count": 5,
   "metadata": {},
   "outputs": [],
   "source": [
    "# pandas and numpy\n",
    "import pandas as pd\n",
    "import numpy as numpy\n",
    "\n",
    "# punctuation, stop words and English language model\n",
    "from string import punctuation\n",
    "from spacy.lang.en.stop_words import STOP_WORDS\n",
    "import en_core_web_sm\n",
    "nlp = en_core_web_sm.load()\n",
    "\n",
    "# textblob\n",
    "from textblob import TextBlob\n",
    "\n",
    "# countvectorizer, tfidfvectorizer\n",
    "from sklearn.feature_extraction.text import CountVectorizer, TfidfVectorizer\n",
    "\n",
    "# sklearn for prediction\n",
    "from sklearn.preprocessing import StandardScaler\n",
    "from sklearn.decomposition import PCA\n",
    "from sklearn import utils\n",
    "from sklearn.linear_model import LogisticRegression\n",
    "from sklearn.model_selection import train_test_split\n",
    "from sklearn.metrics import confusion_matrix\n",
    "from sklearn.preprocessing import LabelBinarizer\n",
    "from sklearn.manifold import TSNE\n",
    "\n",
    "import multiprocessing\n",
    "from tqdm import tqdm\n",
    "\n",
    "# gensim\n",
    "import gensim\n",
    "from gensim import models\n",
    "from gensim.models.doc2vec import Doc2Vec, TaggedDocument\n",
    "\n",
    "# plotting\n",
    "import matplotlib.pyplot as plt\n",
    "import seaborn as sns\n",
    "%matplotlib inline\n",
    "\n",
    "# EDA\n",
    "import re\n",
    "from sklearn.decomposition import LatentDirichletAllocation\n",
    "from wordcloud import WordCloud, STOPWORDS, ImageColorGenerator\n",
    "import scattertext as st"
   ]
  },
  {
   "cell_type": "code",
   "execution_count": 6,
   "metadata": {},
   "outputs": [
    {
     "data": {
      "text/html": [
       "<div>\n",
       "<style scoped>\n",
       "    .dataframe tbody tr th:only-of-type {\n",
       "        vertical-align: middle;\n",
       "    }\n",
       "\n",
       "    .dataframe tbody tr th {\n",
       "        vertical-align: top;\n",
       "    }\n",
       "\n",
       "    .dataframe thead th {\n",
       "        text-align: right;\n",
       "    }\n",
       "</style>\n",
       "<table border=\"1\" class=\"dataframe\">\n",
       "  <thead>\n",
       "    <tr style=\"text-align: right;\">\n",
       "      <th></th>\n",
       "      <th>tweet_id</th>\n",
       "      <th>screen_name</th>\n",
       "      <th>datetime</th>\n",
       "      <th>text</th>\n",
       "      <th>name_wikipedia</th>\n",
       "      <th>position</th>\n",
       "      <th>joined_congress_date</th>\n",
       "      <th>birthday</th>\n",
       "      <th>gender</th>\n",
       "      <th>state</th>\n",
       "      <th>district_number</th>\n",
       "      <th>party</th>\n",
       "      <th>trump_2016_state_share</th>\n",
       "      <th>clinton_2016_state_share</th>\n",
       "      <th>obama_2012_state_share</th>\n",
       "      <th>romney_2012_state_share</th>\n",
       "    </tr>\n",
       "  </thead>\n",
       "  <tbody>\n",
       "    <tr>\n",
       "      <th>0</th>\n",
       "      <td>1.174780e+18</td>\n",
       "      <td>RepValDemings</td>\n",
       "      <td>2019-09-19T16:10:19-04:00</td>\n",
       "      <td>Thank you for testifying today Mr. Blake. http...</td>\n",
       "      <td>Val Demings</td>\n",
       "      <td>Rep</td>\n",
       "      <td>3-Jan-17</td>\n",
       "      <td>3/12/1957</td>\n",
       "      <td>F</td>\n",
       "      <td>FL</td>\n",
       "      <td>10</td>\n",
       "      <td>Democrat</td>\n",
       "      <td>4,617,886</td>\n",
       "      <td>4,504,975</td>\n",
       "      <td>4,237,756</td>\n",
       "      <td>4,163,447</td>\n",
       "    </tr>\n",
       "    <tr>\n",
       "      <th>1</th>\n",
       "      <td>1.139590e+18</td>\n",
       "      <td>RepHankJohnson</td>\n",
       "      <td>2019-06-14T14:05:48-04:00</td>\n",
       "      <td>My Twitter Town Hall on healthcare has begun a...</td>\n",
       "      <td>Hank Johnson</td>\n",
       "      <td>Rep</td>\n",
       "      <td>3-Jan-07</td>\n",
       "      <td>10/2/1954</td>\n",
       "      <td>M</td>\n",
       "      <td>GA</td>\n",
       "      <td>4</td>\n",
       "      <td>Democrat</td>\n",
       "      <td>2,089,104</td>\n",
       "      <td>1,877,963</td>\n",
       "      <td>1,773,827</td>\n",
       "      <td>2,078,688</td>\n",
       "    </tr>\n",
       "    <tr>\n",
       "      <th>2</th>\n",
       "      <td>1.217600e+18</td>\n",
       "      <td>RepFrenchHill</td>\n",
       "      <td>2020-01-15T19:02:21-05:00</td>\n",
       "      <td>Scipio Jones‘ fight for civil rights and equal...</td>\n",
       "      <td>French Hill</td>\n",
       "      <td>Rep</td>\n",
       "      <td>3-Jan-15</td>\n",
       "      <td>12/5/1956</td>\n",
       "      <td>M</td>\n",
       "      <td>AR</td>\n",
       "      <td>2</td>\n",
       "      <td>Republican</td>\n",
       "      <td>684,872</td>\n",
       "      <td>380,494</td>\n",
       "      <td>394,409</td>\n",
       "      <td>647,744</td>\n",
       "    </tr>\n",
       "    <tr>\n",
       "      <th>3</th>\n",
       "      <td>1.120440e+18</td>\n",
       "      <td>RepTedDeutch</td>\n",
       "      <td>2019-04-22T17:49:57-04:00</td>\n",
       "      <td>There is no better time to #ActOnClimate than ...</td>\n",
       "      <td>Ted Deutch</td>\n",
       "      <td>Rep</td>\n",
       "      <td>13-Apr-10</td>\n",
       "      <td>5/7/1966</td>\n",
       "      <td>M</td>\n",
       "      <td>FL</td>\n",
       "      <td>22</td>\n",
       "      <td>Democrat</td>\n",
       "      <td>4,617,886</td>\n",
       "      <td>4,504,975</td>\n",
       "      <td>4,237,756</td>\n",
       "      <td>4,163,447</td>\n",
       "    </tr>\n",
       "    <tr>\n",
       "      <th>4</th>\n",
       "      <td>1.167160e+18</td>\n",
       "      <td>RepLaMalfa</td>\n",
       "      <td>2019-08-29T15:43:43-04:00</td>\n",
       "      <td>I understand the VA often has problems recruit...</td>\n",
       "      <td>Doug LaMalfa</td>\n",
       "      <td>Rep</td>\n",
       "      <td>3-Jan-13</td>\n",
       "      <td>7/2/1960</td>\n",
       "      <td>M</td>\n",
       "      <td>CA</td>\n",
       "      <td>1</td>\n",
       "      <td>Republican</td>\n",
       "      <td>4,483,814</td>\n",
       "      <td>8,753,792</td>\n",
       "      <td>7,854,285</td>\n",
       "      <td>4,839,958</td>\n",
       "    </tr>\n",
       "  </tbody>\n",
       "</table>\n",
       "</div>"
      ],
      "text/plain": [
       "       tweet_id     screen_name                   datetime  \\\n",
       "0  1.174780e+18   RepValDemings  2019-09-19T16:10:19-04:00   \n",
       "1  1.139590e+18  RepHankJohnson  2019-06-14T14:05:48-04:00   \n",
       "2  1.217600e+18   RepFrenchHill  2020-01-15T19:02:21-05:00   \n",
       "3  1.120440e+18    RepTedDeutch  2019-04-22T17:49:57-04:00   \n",
       "4  1.167160e+18      RepLaMalfa  2019-08-29T15:43:43-04:00   \n",
       "\n",
       "                                                text name_wikipedia position  \\\n",
       "0  Thank you for testifying today Mr. Blake. http...    Val Demings      Rep   \n",
       "1  My Twitter Town Hall on healthcare has begun a...   Hank Johnson      Rep   \n",
       "2  Scipio Jones‘ fight for civil rights and equal...    French Hill      Rep   \n",
       "3  There is no better time to #ActOnClimate than ...     Ted Deutch      Rep   \n",
       "4  I understand the VA often has problems recruit...   Doug LaMalfa      Rep   \n",
       "\n",
       "  joined_congress_date   birthday gender state district_number       party  \\\n",
       "0             3-Jan-17  3/12/1957      F    FL              10    Democrat   \n",
       "1             3-Jan-07  10/2/1954      M    GA               4    Democrat   \n",
       "2             3-Jan-15  12/5/1956      M    AR               2  Republican   \n",
       "3            13-Apr-10   5/7/1966      M    FL              22    Democrat   \n",
       "4             3-Jan-13   7/2/1960      M    CA               1  Republican   \n",
       "\n",
       "  trump_2016_state_share clinton_2016_state_share obama_2012_state_share  \\\n",
       "0              4,617,886                4,504,975              4,237,756   \n",
       "1              2,089,104                1,877,963              1,773,827   \n",
       "2                684,872                  380,494                394,409   \n",
       "3              4,617,886                4,504,975              4,237,756   \n",
       "4              4,483,814                8,753,792              7,854,285   \n",
       "\n",
       "  romney_2012_state_share  \n",
       "0               4,163,447  \n",
       "1               2,078,688  \n",
       "2                 647,744  \n",
       "3               4,163,447  \n",
       "4               4,839,958  "
      ]
     },
     "execution_count": 6,
     "metadata": {},
     "output_type": "execute_result"
    }
   ],
   "source": [
    "congress_tweets = pd.read_csv(\"116th Congressional Tweets and Demographics.csv\")\n",
    "# fill in this line of code with a sufficient number of tweets, depending on your computational resources\n",
    "congress_tweets = congress_tweets.sample(n=10000, random_state=1).reset_index(drop=True)\n",
    "congress_tweets.head()"
   ]
  },
  {
   "cell_type": "markdown",
   "metadata": {},
   "source": [
    "## Preprocessing"
   ]
  },
  {
   "cell_type": "markdown",
   "metadata": {},
   "source": [
    "The first step in working with text data is to preprocess it. Make sure you do the following:\n",
    "\n",
    "* Remove punctuation and stop words. The `rem_punc_stop()` function we used in lab is provided to you but you should feel free to edit it as necessary for other steps\n",
    "* Remove tokens that occur frequently in tweets, but may not be helpful for downstream classification. For instance, many tweets contain a flag for retweeting, or share a URL \n",
    "\n",
    "As you search online, you might run into solutions that rely on regular expressions. You are free to use these, but you should also be able to preprocess using the techniques we covered in lab. Specifically, we encourage you to use spaCy's token attributes and string methods to do some of this text preprocessing."
   ]
  },
  {
   "cell_type": "code",
   "execution_count": 7,
   "metadata": {},
   "outputs": [
    {
     "data": {
      "text/html": [
       "<div>\n",
       "<style scoped>\n",
       "    .dataframe tbody tr th:only-of-type {\n",
       "        vertical-align: middle;\n",
       "    }\n",
       "\n",
       "    .dataframe tbody tr th {\n",
       "        vertical-align: top;\n",
       "    }\n",
       "\n",
       "    .dataframe thead th {\n",
       "        text-align: right;\n",
       "    }\n",
       "</style>\n",
       "<table border=\"1\" class=\"dataframe\">\n",
       "  <thead>\n",
       "    <tr style=\"text-align: right;\">\n",
       "      <th></th>\n",
       "      <th>index</th>\n",
       "      <th>tweet_id</th>\n",
       "      <th>screen_name</th>\n",
       "      <th>datetime</th>\n",
       "      <th>text</th>\n",
       "      <th>name_wikipedia</th>\n",
       "      <th>position</th>\n",
       "      <th>joined_congress_date</th>\n",
       "      <th>birthday</th>\n",
       "      <th>gender</th>\n",
       "      <th>state</th>\n",
       "      <th>district_number</th>\n",
       "      <th>party</th>\n",
       "      <th>trump_2016_state_share</th>\n",
       "      <th>clinton_2016_state_share</th>\n",
       "      <th>obama_2012_state_share</th>\n",
       "      <th>romney_2012_state_share</th>\n",
       "      <th>text_original</th>\n",
       "    </tr>\n",
       "  </thead>\n",
       "  <tbody>\n",
       "    <tr>\n",
       "      <th>0</th>\n",
       "      <td>0</td>\n",
       "      <td>1.174780e+18</td>\n",
       "      <td>RepValDemings</td>\n",
       "      <td>2019-09-19T16:10:19-04:00</td>\n",
       "      <td>Thank you for testifying today Mr. Blake. http...</td>\n",
       "      <td>Val Demings</td>\n",
       "      <td>Rep</td>\n",
       "      <td>3-Jan-17</td>\n",
       "      <td>3/12/1957</td>\n",
       "      <td>F</td>\n",
       "      <td>FL</td>\n",
       "      <td>10</td>\n",
       "      <td>Democrat</td>\n",
       "      <td>4,617,886</td>\n",
       "      <td>4,504,975</td>\n",
       "      <td>4,237,756</td>\n",
       "      <td>4,163,447</td>\n",
       "      <td>Thank you for testifying today Mr. Blake. http...</td>\n",
       "    </tr>\n",
       "    <tr>\n",
       "      <th>1</th>\n",
       "      <td>1</td>\n",
       "      <td>1.139590e+18</td>\n",
       "      <td>RepHankJohnson</td>\n",
       "      <td>2019-06-14T14:05:48-04:00</td>\n",
       "      <td>My Twitter Town Hall on healthcare has begun a...</td>\n",
       "      <td>Hank Johnson</td>\n",
       "      <td>Rep</td>\n",
       "      <td>3-Jan-07</td>\n",
       "      <td>10/2/1954</td>\n",
       "      <td>M</td>\n",
       "      <td>GA</td>\n",
       "      <td>4</td>\n",
       "      <td>Democrat</td>\n",
       "      <td>2,089,104</td>\n",
       "      <td>1,877,963</td>\n",
       "      <td>1,773,827</td>\n",
       "      <td>2,078,688</td>\n",
       "      <td>My Twitter Town Hall on healthcare has begun a...</td>\n",
       "    </tr>\n",
       "    <tr>\n",
       "      <th>2</th>\n",
       "      <td>2</td>\n",
       "      <td>1.217600e+18</td>\n",
       "      <td>RepFrenchHill</td>\n",
       "      <td>2020-01-15T19:02:21-05:00</td>\n",
       "      <td>Scipio Jones‘ fight for civil rights and equal...</td>\n",
       "      <td>French Hill</td>\n",
       "      <td>Rep</td>\n",
       "      <td>3-Jan-15</td>\n",
       "      <td>12/5/1956</td>\n",
       "      <td>M</td>\n",
       "      <td>AR</td>\n",
       "      <td>2</td>\n",
       "      <td>Republican</td>\n",
       "      <td>684,872</td>\n",
       "      <td>380,494</td>\n",
       "      <td>394,409</td>\n",
       "      <td>647,744</td>\n",
       "      <td>Scipio Jones‘ fight for civil rights and equal...</td>\n",
       "    </tr>\n",
       "    <tr>\n",
       "      <th>3</th>\n",
       "      <td>3</td>\n",
       "      <td>1.120440e+18</td>\n",
       "      <td>RepTedDeutch</td>\n",
       "      <td>2019-04-22T17:49:57-04:00</td>\n",
       "      <td>There is no better time to #ActOnClimate than ...</td>\n",
       "      <td>Ted Deutch</td>\n",
       "      <td>Rep</td>\n",
       "      <td>13-Apr-10</td>\n",
       "      <td>5/7/1966</td>\n",
       "      <td>M</td>\n",
       "      <td>FL</td>\n",
       "      <td>22</td>\n",
       "      <td>Democrat</td>\n",
       "      <td>4,617,886</td>\n",
       "      <td>4,504,975</td>\n",
       "      <td>4,237,756</td>\n",
       "      <td>4,163,447</td>\n",
       "      <td>There is no better time to #ActOnClimate than ...</td>\n",
       "    </tr>\n",
       "    <tr>\n",
       "      <th>4</th>\n",
       "      <td>4</td>\n",
       "      <td>1.167160e+18</td>\n",
       "      <td>RepLaMalfa</td>\n",
       "      <td>2019-08-29T15:43:43-04:00</td>\n",
       "      <td>I understand the VA often has problems recruit...</td>\n",
       "      <td>Doug LaMalfa</td>\n",
       "      <td>Rep</td>\n",
       "      <td>3-Jan-13</td>\n",
       "      <td>7/2/1960</td>\n",
       "      <td>M</td>\n",
       "      <td>CA</td>\n",
       "      <td>1</td>\n",
       "      <td>Republican</td>\n",
       "      <td>4,483,814</td>\n",
       "      <td>8,753,792</td>\n",
       "      <td>7,854,285</td>\n",
       "      <td>4,839,958</td>\n",
       "      <td>I understand the VA often has problems recruit...</td>\n",
       "    </tr>\n",
       "  </tbody>\n",
       "</table>\n",
       "</div>"
      ],
      "text/plain": [
       "   index      tweet_id     screen_name                   datetime  \\\n",
       "0      0  1.174780e+18   RepValDemings  2019-09-19T16:10:19-04:00   \n",
       "1      1  1.139590e+18  RepHankJohnson  2019-06-14T14:05:48-04:00   \n",
       "2      2  1.217600e+18   RepFrenchHill  2020-01-15T19:02:21-05:00   \n",
       "3      3  1.120440e+18    RepTedDeutch  2019-04-22T17:49:57-04:00   \n",
       "4      4  1.167160e+18      RepLaMalfa  2019-08-29T15:43:43-04:00   \n",
       "\n",
       "                                                text name_wikipedia position  \\\n",
       "0  Thank you for testifying today Mr. Blake. http...    Val Demings      Rep   \n",
       "1  My Twitter Town Hall on healthcare has begun a...   Hank Johnson      Rep   \n",
       "2  Scipio Jones‘ fight for civil rights and equal...    French Hill      Rep   \n",
       "3  There is no better time to #ActOnClimate than ...     Ted Deutch      Rep   \n",
       "4  I understand the VA often has problems recruit...   Doug LaMalfa      Rep   \n",
       "\n",
       "  joined_congress_date   birthday gender state district_number       party  \\\n",
       "0             3-Jan-17  3/12/1957      F    FL              10    Democrat   \n",
       "1             3-Jan-07  10/2/1954      M    GA               4    Democrat   \n",
       "2             3-Jan-15  12/5/1956      M    AR               2  Republican   \n",
       "3            13-Apr-10   5/7/1966      M    FL              22    Democrat   \n",
       "4             3-Jan-13   7/2/1960      M    CA               1  Republican   \n",
       "\n",
       "  trump_2016_state_share clinton_2016_state_share obama_2012_state_share  \\\n",
       "0              4,617,886                4,504,975              4,237,756   \n",
       "1              2,089,104                1,877,963              1,773,827   \n",
       "2                684,872                  380,494                394,409   \n",
       "3              4,617,886                4,504,975              4,237,756   \n",
       "4              4,483,814                8,753,792              7,854,285   \n",
       "\n",
       "  romney_2012_state_share                                      text_original  \n",
       "0               4,163,447  Thank you for testifying today Mr. Blake. http...  \n",
       "1               2,078,688  My Twitter Town Hall on healthcare has begun a...  \n",
       "2                 647,744  Scipio Jones‘ fight for civil rights and equal...  \n",
       "3               4,163,447  There is no better time to #ActOnClimate than ...  \n",
       "4               4,839,958  I understand the VA often has problems recruit...  "
      ]
     },
     "execution_count": 7,
     "metadata": {},
     "output_type": "execute_result"
    }
   ],
   "source": [
    "#remove missing values/reset index\n",
    "congress_tweets = congress_tweets.dropna(subset = ['text']).reset_index()\n",
    "congress_tweets['text_original'] = congress_tweets['text']\n",
    "congress_tweets.head()"
   ]
  },
  {
   "cell_type": "code",
   "execution_count": 17,
   "metadata": {},
   "outputs": [],
   "source": [
    "def rem_punc_stop(text):\n",
    "    stop_words = STOP_WORDS\n",
    "    nlp.Defaults.stop_words.add(\"rt\")\n",
    "    nlp.Defaults.stop_words.add(\"qt\")\n",
    "    nlp.Defaults.stop_words.add(\"amp\")\n",
    "    nlp.Defaults.stop_words.add(\"RT\")\n",
    "    nlp.Defaults.stop_words.add(\"QT\")\n",
    "    \n",
    "    punc = set(punctuation)\n",
    "    \n",
    "    punc_free = \"\".join([ch for ch in text if ch not in punc])\n",
    "    \n",
    "    doc = nlp(punc_free)\n",
    "            \n",
    "    spacy_words = [token.text for token in doc]\n",
    "    \n",
    "    spacy_words = [word for word in spacy_words if not word.startswith('http')]\n",
    "    \n",
    "    no_punc = [word for word in spacy_words if word not in stop_words]\n",
    "    \n",
    "    return no_punc"
   ]
  },
  {
   "cell_type": "code",
   "execution_count": 9,
   "metadata": {},
   "outputs": [],
   "source": [
    "#deal with URLS\n",
    "def remove_urls(text):\n",
    "    url_pattern = re.compile(r'https?://\\S+|www\\.\\S+'\"\")\n",
    "    return url_pattern.sub(r'', text)\n",
    "\n",
    "congress_tweets['text'] = congress_tweets['text'].apply(remove_urls)"
   ]
  },
  {
   "cell_type": "code",
   "execution_count": 10,
   "metadata": {},
   "outputs": [],
   "source": [
    "#deal with emojis\n",
    "def remove_emoji(text):\n",
    "    emoji_pattern = re.compile(\"[\"\n",
    "                           u\"\\U0001F600-\\U0001F64F\"  # emoticons\n",
    "                           u\"\\U0001F300-\\U0001F5FF\"  # symbols & pictographs\n",
    "                           u\"\\U0001F680-\\U0001F6FF\"  # transport & map symbols\n",
    "                           u\"\\U0001F1E0-\\U0001F1FF\"  # flags (iOS)\n",
    "                           u\"\\U00002702-\\U000027B0\"\n",
    "                           u\"\\U000024C2-\\U0001F251\"\n",
    "                            u\"\\u200d\"\n",
    "                           \"]+\", flags=re.UNICODE)\n",
    "    return emoji_pattern.sub(r'', text)\n",
    "\n",
    "congress_tweets['text'] = congress_tweets['text'].apply(remove_emoji)"
   ]
  },
  {
   "cell_type": "code",
   "execution_count": 11,
   "metadata": {},
   "outputs": [],
   "source": [
    "def remove_letters(text):\n",
    "\n",
    "    shortword = re.compile(r'\\W*\\b\\w{1,1}\\b')\n",
    "    return shortword.sub('', text)\n",
    "\n",
    "congress_tweets['text'] = congress_tweets['text'].apply(remove_letters)"
   ]
  },
  {
   "cell_type": "code",
   "execution_count": 18,
   "metadata": {},
   "outputs": [
    {
     "data": {
      "text/plain": [
       "0       [Thank, testifying, today, Mr, Blake,  , JRBla...\n",
       "1       [My, Twitter, Town, Hall, healthcare, begun, a...\n",
       "2       [Scipio, Jones, ‘, fight, civil, rights, equal...\n",
       "3       [There, better, time, ActOnClimate, EarthDay, ...\n",
       "4       [ , understand, VA, problems, recruiting, qual...\n",
       "                              ...                        \n",
       "9995    [Republicans, spent, weeks, funds, dried, aski...\n",
       "9996    [TheBlackCaucus, To, forever, Black, Panther, ...\n",
       "9997    [Our, Bahamian, brothers, sisters, dire, need,...\n",
       "9998    [Heartbreaking, realDonaldTrump, cruel, polici...\n",
       "9999    [CoinDesk, RepDarrenSoto, RepDavid, Schweikert...\n",
       "Name: tokens, Length: 10000, dtype: object"
      ]
     },
     "execution_count": 18,
     "metadata": {},
     "output_type": "execute_result"
    }
   ],
   "source": [
    "#tokenization\n",
    "congress_tweets['tokens'] = congress_tweets['text'].map(lambda x: rem_punc_stop(x))\n",
    "#the line of code below disrupts some EDA, so not running it yet and leaving the tokens without merging\n",
    "#congress_tweets['tokens'] = congress_tweets['tokens'].map(lambda text: ' '.join(text))\n",
    "congress_tweets['tokens']"
   ]
  },
  {
   "cell_type": "code",
   "execution_count": 13,
   "metadata": {},
   "outputs": [],
   "source": [
    "#Change Independent Senators who caucus with Democrats to party==Democrat\n",
    "congress_tweets.loc[congress_tweets.party == \"Independent\", \"party\"] = \"Democrat\""
   ]
  },
  {
   "cell_type": "code",
   "execution_count": 14,
   "metadata": {},
   "outputs": [],
   "source": [
    "# Run this line to save your pre-processed data so that you don't have to keep re-running it every time you work on the notebook\n",
    "#congress_tweets.to_csv('congress_tweets_preprocessed.csv')"
   ]
  },
  {
   "cell_type": "code",
   "execution_count": null,
   "metadata": {},
   "outputs": [],
   "source": [
    "# Run this line to read back in your saved pre-processed data rather than re-running the lines above\n",
    "#congress_tweets = pd.read_csv('congress_tweets_preprocessed.csv')"
   ]
  },
  {
   "cell_type": "markdown",
   "metadata": {},
   "source": [
    "## Exploratory Data Analysis"
   ]
  },
  {
   "cell_type": "markdown",
   "metadata": {},
   "source": [
    "Use two of the techniques we covered in lab (or other techniques outside of lab!) to explore the text of the tweets. You should construct these visualizations with an eye toward the eventual classification tasks: (1) predicting the legislator's political party based on the text of their tweet, and (2) predicting whether the legislator is a Senator or Representative. As a reminder, in lab we covered word frequencies, word clouds, word/character counts, scattertext, and topic modeling as possible exploration tools. "
   ]
  },
  {
   "cell_type": "markdown",
   "metadata": {},
   "source": [
    "### EDA 1: Topic Modeling"
   ]
  },
  {
   "cell_type": "code",
   "execution_count": null,
   "metadata": {},
   "outputs": [],
   "source": [
    "X = congress_tweets['text']\n",
    "tf = TfidfVectorizer(tokenizer = rem_punc_stop)\n",
    "\n",
    "tfidf_matrix =  tf.fit_transform(X)\n",
    "dense_matrix = tfidf_matrix.todense()"
   ]
  },
  {
   "cell_type": "code",
   "execution_count": null,
   "metadata": {},
   "outputs": [],
   "source": [
    "lda = LatentDirichletAllocation(n_components=5, max_iter=20, random_state=0)\n",
    "lda = lda.fit(dense_matrix)"
   ]
  },
  {
   "cell_type": "code",
   "execution_count": null,
   "metadata": {},
   "outputs": [],
   "source": [
    "lda2 = LatentDirichletAllocation(n_components=10, max_iter=20, random_state=0)\n",
    "lda2 = lda2.fit(dense_matrix)"
   ]
  },
  {
   "cell_type": "code",
   "execution_count": null,
   "metadata": {},
   "outputs": [],
   "source": [
    "def print_top_words(model, feature_names, n_top_words):\n",
    "    for topic_idx, topic in enumerate(model.components_):\n",
    "        print(\"\\nTopic #{}:\".format(topic_idx))\n",
    "        print(\" \".join([feature_names[i]\n",
    "                        for i in topic.argsort()[:-n_top_words - 1:-1]]))\n",
    "    print()"
   ]
  },
  {
   "cell_type": "code",
   "execution_count": null,
   "metadata": {},
   "outputs": [],
   "source": [
    "tf_feature_names = tf.get_feature_names()\n",
    "print_top_words(lda, tf_feature_names, 20)"
   ]
  },
  {
   "cell_type": "code",
   "execution_count": null,
   "metadata": {},
   "outputs": [],
   "source": [
    "tf_feature_names = tf.get_feature_names()\n",
    "print_top_words(lda2, tf_feature_names, 20)"
   ]
  },
  {
   "cell_type": "markdown",
   "metadata": {},
   "source": [
    "#### Neither of the topic groups seem intuitively distinguishing between parties or positions within congress; now let's see if the distribution of the topics vary across party/position groups."
   ]
  },
  {
   "cell_type": "code",
   "execution_count": null,
   "metadata": {},
   "outputs": [],
   "source": [
    "topic_dist = lda.transform(tfidf_matrix)\n",
    "topic_dist"
   ]
  },
  {
   "cell_type": "code",
   "execution_count": null,
   "metadata": {},
   "outputs": [],
   "source": [
    "topic_dist_df = pd.DataFrame(topic_dist)\n",
    "df_w_topics = topic_dist_df.join(congress_tweets)\n",
    "df_w_topics.head()"
   ]
  },
  {
   "cell_type": "code",
   "execution_count": null,
   "metadata": {},
   "outputs": [],
   "source": [
    "grouped = df_w_topics.groupby('position')\n",
    "for i in range(0, 5):\n",
    "    print(grouped[i].mean().sort_values(ascending=False))"
   ]
  },
  {
   "cell_type": "markdown",
   "metadata": {},
   "source": [
    "#### There doesn't seem any difference between positions indicated by these 5 topics."
   ]
  },
  {
   "cell_type": "code",
   "execution_count": null,
   "metadata": {},
   "outputs": [],
   "source": [
    "topic_dist2 = lda2.transform(tfidf_matrix)\n",
    "topic_dist2"
   ]
  },
  {
   "cell_type": "code",
   "execution_count": null,
   "metadata": {},
   "outputs": [],
   "source": [
    "topic_dist_df2 = pd.DataFrame(topic_dist2)\n",
    "df_w_topics2 = topic_dist_df2.join(congress_tweets)\n",
    "df_w_topics2.head()"
   ]
  },
  {
   "cell_type": "code",
   "execution_count": null,
   "metadata": {},
   "outputs": [],
   "source": [
    "grouped = df_w_topics2.groupby('position')\n",
    "for i in range(0, 10):\n",
    "    print(grouped[i].mean().sort_values(ascending=False))"
   ]
  },
  {
   "cell_type": "markdown",
   "metadata": {},
   "source": [
    "#### There doesn't seem any difference between positions indicated by the 10 topics, either. Now let's see if the topics are helpful in distinguishing between parties."
   ]
  },
  {
   "cell_type": "code",
   "execution_count": null,
   "metadata": {},
   "outputs": [],
   "source": [
    "grouped = df_w_topics.groupby('party')\n",
    "for i in range(0, 5):\n",
    "    print(grouped[i].mean().sort_values(ascending=False))"
   ]
  },
  {
   "cell_type": "code",
   "execution_count": null,
   "metadata": {},
   "outputs": [],
   "source": [
    "grouped = df_w_topics2.groupby('party')\n",
    "for i in range(0, 10):\n",
    "    print(grouped[i].mean().sort_values(ascending=False))"
   ]
  },
  {
   "cell_type": "markdown",
   "metadata": {},
   "source": [
    "#### Topic modeling overall doesn't seem helpful for the classification task of tweets into positions or parties in congress, as topics don't seem different across these groups.\n",
    "\n",
    "#### Below, we try other ways to explore the data."
   ]
  },
  {
   "cell_type": "markdown",
   "metadata": {},
   "source": [
    "### EDA 2"
   ]
  },
  {
   "cell_type": "markdown",
   "metadata": {},
   "source": [
    "### Word Clouds"
   ]
  },
  {
   "cell_type": "code",
   "execution_count": null,
   "metadata": {},
   "outputs": [],
   "source": [
    "# Generic wordcloud\n",
    "\n",
    "text = ' '.join(congress_tweets['tokens'].map(lambda text: ' '.join(text)))\n",
    "wordcloud = WordCloud().generate(text)\n",
    "plt.imshow(wordcloud, interpolation = 'bilinear')\n",
    "plt.axis('off')\n",
    "plt.show()"
   ]
  },
  {
   "cell_type": "code",
   "execution_count": null,
   "metadata": {},
   "outputs": [],
   "source": [
    "rep = congress_tweets[congress_tweets['party']=='Republican']\n",
    "dem = congress_tweets[congress_tweets['party']=='Democrat']\n",
    "r_text = ' '.join(rep['tokens'].map(lambda text: ' '.join(text)))\n",
    "d_text = ' '.join(dem['tokens'].map(lambda text: ' '.join(text)))"
   ]
  },
  {
   "cell_type": "code",
   "execution_count": null,
   "metadata": {},
   "outputs": [],
   "source": [
    "# Republican wordcloud\n",
    "\n",
    "wordcloud = WordCloud().generate(r_text)\n",
    "plt.imshow(wordcloud, interpolation = 'bilinear')\n",
    "plt.axis('off')\n",
    "plt.show()"
   ]
  },
  {
   "cell_type": "code",
   "execution_count": null,
   "metadata": {},
   "outputs": [],
   "source": [
    "# Democrat wordcloud\n",
    "\n",
    "wordcloud = WordCloud().generate(d_text)\n",
    "plt.imshow(wordcloud, interpolation = 'bilinear')\n",
    "plt.axis('off')\n",
    "plt.show()"
   ]
  },
  {
   "cell_type": "markdown",
   "metadata": {},
   "source": [
    "### Word/Character Counts"
   ]
  },
  {
   "cell_type": "code",
   "execution_count": null,
   "metadata": {},
   "outputs": [],
   "source": [
    "congress_tweets['tweet_len'] = congress_tweets['text_original'].apply(len)\n",
    "congress_tweets['word_count'] = congress_tweets['text_original'].apply(lambda x: len(str(x).split()))\n",
    "#congress_tweets['text'] = congress_tweets['text'].map(lambda text: ' '.join(text))\n",
    "#congress_tweets['polarity'] = congress_tweets['text'].map(lambda text: TextBlob(text).sentiment.polarity)\n",
    "#congress_tweets['subjectivity'] = congress_tweets['text'].map(lambda text: TextBlob(text).sentiment.subjectivi"
   ]
  },
  {
   "cell_type": "code",
   "execution_count": null,
   "metadata": {},
   "outputs": [],
   "source": [
    "sns.displot(congress_tweets, x=\"word_count\", hue = \"party\", col = \"party\")\n",
    "plt.show()"
   ]
  },
  {
   "cell_type": "code",
   "execution_count": null,
   "metadata": {},
   "outputs": [],
   "source": [
    "sns.displot(congress_tweets, x =\"tweet_len\", hue = \"party\", col = \"party\")\n",
    "plt.show()"
   ]
  },
  {
   "cell_type": "markdown",
   "metadata": {},
   "source": [
    "## Sentiment Analysis"
   ]
  },
  {
   "cell_type": "markdown",
   "metadata": {},
   "source": [
    "Next, let's analyze the sentiments contained within the tweets. You may use TextBlob or another library for these tasks. Do the following:\n",
    "\n",
    "* Choose two legislators, one who you think will be more liberal and one who you think will be more conservative, and analyze their sentiment and/or subjectivity scores per tweet. For instance, you might do two scatterplots that plot each legislator's sentiment against their subjectivity, or two density plots for their sentiments. Do the scores match what you thought?\n",
    "* Plot two more visualizations like the ones you chose in the first part, but do them to compare (1) Democrats v. Republicans and (2) Senators v. Representatives \n",
    "\n",
    "`TextBlob` has already been imported in the top cell."
   ]
  },
  {
   "cell_type": "code",
   "execution_count": null,
   "metadata": {},
   "outputs": [],
   "source": []
  },
  {
   "cell_type": "markdown",
   "metadata": {},
   "source": [
    "## Featurization"
   ]
  },
  {
   "cell_type": "markdown",
   "metadata": {},
   "source": [
    "Before going to classification, explore different featurization techniques. Create three dataframes or arrays to represent your text features, specifically:\n",
    "\n",
    "* Features engineered from your previous analysis. For example, word counts, sentiment scores, topic model etc.\n",
    "* A term frequency-inverse document frequency matrix. \n",
    "* An embedding-based featurization (like a document averaged word2vec)\n",
    "\n",
    "In the next section, you will experiment with each of these featurization techniques to see which one produces the best classifications."
   ]
  },
  {
   "cell_type": "code",
   "execution_count": null,
   "metadata": {},
   "outputs": [],
   "source": []
  },
  {
   "cell_type": "markdown",
   "metadata": {},
   "source": [
    "### Engineered Text Features"
   ]
  },
  {
   "cell_type": "code",
   "execution_count": null,
   "metadata": {},
   "outputs": [],
   "source": [
    "# Engineered Features\n",
    "..."
   ]
  },
  {
   "cell_type": "markdown",
   "metadata": {},
   "source": [
    "### Bag-of-words or Tf-idf"
   ]
  },
  {
   "cell_type": "markdown",
   "metadata": {},
   "source": [
    "NOTE: This section outputs two numpy matrices: bow_matrix and tfidf_matrix. The instructions above say we need to create three dataframes. I am not sure exactly what should go in each dataframe."
   ]
  },
  {
   "cell_type": "code",
   "execution_count": null,
   "metadata": {},
   "outputs": [],
   "source": [
    "# BOW\n",
    "bow_vector = CountVectorizer(tokenizer = rem_punc_stop, ngram_range=(1,1))\n",
    "bow_matrix = bow_vector.fit_transform(congress_tweets['text'])\n",
    "bow_matrix = bow_matrix.todense()"
   ]
  },
  {
   "cell_type": "code",
   "execution_count": null,
   "metadata": {},
   "outputs": [],
   "source": [
    "bow_matrix"
   ]
  },
  {
   "cell_type": "code",
   "execution_count": null,
   "metadata": {},
   "outputs": [],
   "source": [
    "bow_feature_names = bow_vector.get_feature_names()\n",
    "bow_feature_names[0:10]"
   ]
  },
  {
   "cell_type": "code",
   "execution_count": null,
   "metadata": {},
   "outputs": [],
   "source": [
    "type(bow_matrix)"
   ]
  },
  {
   "cell_type": "code",
   "execution_count": null,
   "metadata": {},
   "outputs": [],
   "source": [
    "bow_matrix.shape"
   ]
  },
  {
   "cell_type": "code",
   "execution_count": null,
   "metadata": {
    "scrolled": true
   },
   "outputs": [],
   "source": [
    "# This may be redundant with the tfidf part of the ETA section\n",
    "\n",
    "tfidf_vector = TfidfVectorizer(tokenizer = rem_punc_stop)\n",
    "tfidf_matrix = tfidf_vector.fit_transform(congress_tweets['text'])\n",
    "tfidf_matrix = tfidf_matrix.todense()\n",
    "tfidf_matrix"
   ]
  },
  {
   "cell_type": "code",
   "execution_count": null,
   "metadata": {},
   "outputs": [],
   "source": [
    "type(tfidf_matrix)"
   ]
  },
  {
   "cell_type": "code",
   "execution_count": null,
   "metadata": {},
   "outputs": [],
   "source": [
    "tfidf_matrix.shape"
   ]
  },
  {
   "cell_type": "code",
   "execution_count": null,
   "metadata": {},
   "outputs": [],
   "source": [
    "tfidf_feature_names = tfidf_vector.get_feature_names()\n",
    "tfidf_feature_names"
   ]
  },
  {
   "cell_type": "markdown",
   "metadata": {},
   "source": [
    "### Word Embedding"
   ]
  },
  {
   "cell_type": "code",
   "execution_count": 19,
   "metadata": {},
   "outputs": [],
   "source": [
    "model = gensim.models.Word2Vec(congress_tweets['tokens'], vector_size=100, window=5, \n",
    "                               min_count=5, sg=0, alpha=0.025, epochs=5, batch_words=10000)"
   ]
  },
  {
   "cell_type": "code",
   "execution_count": 20,
   "metadata": {},
   "outputs": [
    {
     "name": "stdout",
     "output_type": "stream",
     "text": [
      "[' ', '\\n\\n', 'The', 'We', 'Trump', 'This', 'It', 'today', 'House', 'people', 'need', 'President', 'COVID19', 'work', 'help', 'American', 'Act', 'time', 'health', 'Congress', 'Americans', 'Today', 'support', '“', 'country', 'bill', 'families', '  ', 'care', 'Senate', 'Thank', 'continue', 'community', 'week', 'America', 'like', 'workers', 'new', 'protect', 'nation', 'working', 'federal', 'communities', 'realDonaldTrump', 'day', 'years', 'women', '\\n ', 'vote', 'As', 'crisis', '–', 'If', 'public', 'state', 'important', 'year', 'great', 'legislation', 'right', 'bipartisan', 'funding', 'In', 'law', 'know', 'ensure', 'businesses', 'pandemic', '\\n \\n', 'Our', 'Democrats', 'safe', 'students', 'proud', 'fight', 'lives', 'economy', 'coronavirus', 'passed', 'family', 'My', 'home', 'office', 'That', 'million', 'government', 'small', 'local', 'colleagues', 'honor', 'discuss', 'pass', 'relief', 'access', 'jobs', 'end', 'way', 'New', '’', 'critical']\n"
     ]
    }
   ],
   "source": [
    "words = list(model.wv.key_to_index)\n",
    "print(words[0:100])"
   ]
  },
  {
   "cell_type": "code",
   "execution_count": 21,
   "metadata": {},
   "outputs": [
    {
     "data": {
      "text/plain": [
       "21"
      ]
     },
     "execution_count": 21,
     "metadata": {},
     "output_type": "execute_result"
    }
   ],
   "source": [
    "# embedding based featurization\n",
    "len(congress_tweets['tokens'][0])"
   ]
  },
  {
   "cell_type": "code",
   "execution_count": 23,
   "metadata": {},
   "outputs": [
    {
     "data": {
      "text/plain": [
       "18"
      ]
     },
     "execution_count": 23,
     "metadata": {},
     "output_type": "execute_result"
    }
   ],
   "source": [
    "doc = [word for word in congress_tweets['tokens'][0] if word in model.wv.key_to_index]\n",
    "len(doc)"
   ]
  },
  {
   "cell_type": "code",
   "execution_count": 25,
   "metadata": {},
   "outputs": [
    {
     "data": {
      "text/plain": [
       "-0.22697909"
      ]
     },
     "execution_count": 25,
     "metadata": {},
     "output_type": "execute_result"
    }
   ],
   "source": [
    "first_vec = []\n",
    "for token in model.wv.__getitem__(doc):\n",
    "    first_vec.append(token[0])\n",
    "numpy.mean(first_vec)"
   ]
  },
  {
   "cell_type": "code",
   "execution_count": 26,
   "metadata": {},
   "outputs": [],
   "source": [
    "def document_vector(word2vec_model, doc):\n",
    "    doc = [word for word in doc if word in model.wv.vocab]\n",
    "    return numpy.mean(word2vec_model.wv.__getitem__(doc), axis=0)"
   ]
  },
  {
   "cell_type": "code",
   "execution_count": null,
   "metadata": {},
   "outputs": [],
   "source": [
    "# Initialize an array for the size of the corpus\n",
    "empty_list_embeddings_means = []\n",
    "for puppy in congress_tweets['tokens']: # append the vector for each document\n",
    "    empty_list_embeddings_means.append(document_vector(model, puppy))\n",
    "    \n",
    "doc_average_embeddings = numpy.array(empty_list_embeddings_means) # list to array"
   ]
  },
  {
   "cell_type": "code",
   "execution_count": null,
   "metadata": {},
   "outputs": [],
   "source": [
    "doc_average_embeddings"
   ]
  },
  {
   "cell_type": "code",
   "execution_count": null,
   "metadata": {},
   "outputs": [],
   "source": [
    "doc_average_embeddings.shape"
   ]
  },
  {
   "cell_type": "markdown",
   "metadata": {},
   "source": [
    "## Classification"
   ]
  },
  {
   "cell_type": "markdown",
   "metadata": {},
   "source": [
    "Either use cross-validation or partition your data with training/validation/test sets for this section. Do the following:\n",
    "\n",
    "* Choose a supervised learning algorithm such as logistic regression, random forest etc. \n",
    "* Train six models. For each of the three dataframes you created in the featurization part, train one model to predict whether the author of the tweet is a Democrat or Republican, and a second model to predict whether the author is a Senator or Representative.\n",
    "* Report the accuracy and other relevant metrics for each of these six models.\n",
    "* Choose the featurization technique associated with your best model. Combine those text features with non-text features. Train two more models: (1) A supervised learning algorithm that uses just the non-text features and (2) a supervised learning algorithm that combines text and non-text features. Report accuracy and other relevant metrics. \n",
    "\n",
    "If time permits, you are encouraged to use hyperparameter tuning or AutoML techniques like TPOT, but are not explicitly required to do so."
   ]
  },
  {
   "cell_type": "markdown",
   "metadata": {},
   "source": [
    "### Train Six Models with Just Text"
   ]
  },
  {
   "cell_type": "code",
   "execution_count": 33,
   "metadata": {},
   "outputs": [],
   "source": [
    "# six models ([engineered features, frequency-based, embedding] * [democrat/republican, senator/representative])\n",
    "\n",
    "#binarizing label for party\n",
    "lb_style = LabelBinarizer()\n",
    "y = congress_tweets['party_binary'] = lb_style.fit_transform(congress_tweets[\"party\"])\n",
    "\n",
    "# train/test split\n",
    "train, test = train_test_split(congress_tweets, test_size=0.2, random_state=42)"
   ]
  },
  {
   "cell_type": "code",
   "execution_count": 34,
   "metadata": {},
   "outputs": [
    {
     "data": {
      "text/html": [
       "<div>\n",
       "<style scoped>\n",
       "    .dataframe tbody tr th:only-of-type {\n",
       "        vertical-align: middle;\n",
       "    }\n",
       "\n",
       "    .dataframe tbody tr th {\n",
       "        vertical-align: top;\n",
       "    }\n",
       "\n",
       "    .dataframe thead th {\n",
       "        text-align: right;\n",
       "    }\n",
       "</style>\n",
       "<table border=\"1\" class=\"dataframe\">\n",
       "  <thead>\n",
       "    <tr style=\"text-align: right;\">\n",
       "      <th></th>\n",
       "      <th>index</th>\n",
       "      <th>tweet_id</th>\n",
       "      <th>screen_name</th>\n",
       "      <th>datetime</th>\n",
       "      <th>text</th>\n",
       "      <th>name_wikipedia</th>\n",
       "      <th>position</th>\n",
       "      <th>joined_congress_date</th>\n",
       "      <th>birthday</th>\n",
       "      <th>gender</th>\n",
       "      <th>state</th>\n",
       "      <th>district_number</th>\n",
       "      <th>party</th>\n",
       "      <th>trump_2016_state_share</th>\n",
       "      <th>clinton_2016_state_share</th>\n",
       "      <th>obama_2012_state_share</th>\n",
       "      <th>romney_2012_state_share</th>\n",
       "      <th>text_original</th>\n",
       "      <th>tokens</th>\n",
       "      <th>party_binary</th>\n",
       "    </tr>\n",
       "  </thead>\n",
       "  <tbody>\n",
       "    <tr>\n",
       "      <th>9254</th>\n",
       "      <td>9254</td>\n",
       "      <td>1.301260e+18</td>\n",
       "      <td>RepBonamici</td>\n",
       "      <td>2020-09-02T16:52:46-04:00</td>\n",
       "      <td>Child care is one of the most pressing challen...</td>\n",
       "      <td>Suzanne Bonamici</td>\n",
       "      <td>Rep</td>\n",
       "      <td>31-Jan-12</td>\n",
       "      <td>10/14/1954</td>\n",
       "      <td>F</td>\n",
       "      <td>OR</td>\n",
       "      <td>1</td>\n",
       "      <td>0</td>\n",
       "      <td>782,403</td>\n",
       "      <td>1,002,106</td>\n",
       "      <td>970,488</td>\n",
       "      <td>754,175</td>\n",
       "      <td>Child care is one of the most pressing challen...</td>\n",
       "      <td>[Child, care, pressing, challenges, face’ve, a...</td>\n",
       "      <td>0</td>\n",
       "    </tr>\n",
       "    <tr>\n",
       "      <th>1561</th>\n",
       "      <td>1561</td>\n",
       "      <td>1.319450e+18</td>\n",
       "      <td>RepGregoryMeeks</td>\n",
       "      <td>2020-10-22T21:35:40-04:00</td>\n",
       "      <td>Trumps tax returns are around the corner, just...</td>\n",
       "      <td>Gregory Meeks</td>\n",
       "      <td>Rep</td>\n",
       "      <td>3-Feb-98</td>\n",
       "      <td>9/25/1953</td>\n",
       "      <td>M</td>\n",
       "      <td>NY</td>\n",
       "      <td>5</td>\n",
       "      <td>0</td>\n",
       "      <td>2,819,533</td>\n",
       "      <td>4,556,118</td>\n",
       "      <td>4,485,741</td>\n",
       "      <td>2,490,431</td>\n",
       "      <td>Trumps tax returns are around the corner, just...</td>\n",
       "      <td>[Trumps, tax, returns, corner, like, healthcar...</td>\n",
       "      <td>0</td>\n",
       "    </tr>\n",
       "    <tr>\n",
       "      <th>1670</th>\n",
       "      <td>1670</td>\n",
       "      <td>1.262360e+18</td>\n",
       "      <td>RepDwightEvans</td>\n",
       "      <td>2020-05-18T08:11:01-04:00</td>\n",
       "      <td>Mayors Move to Address Racial Disparity in Cov...</td>\n",
       "      <td>Dwight Evans</td>\n",
       "      <td>Rep</td>\n",
       "      <td>14-Nov-16</td>\n",
       "      <td>5/16/1954</td>\n",
       "      <td>M</td>\n",
       "      <td>PA</td>\n",
       "      <td>3</td>\n",
       "      <td>0</td>\n",
       "      <td>2,970,733</td>\n",
       "      <td>2,926,441</td>\n",
       "      <td>2,990,274</td>\n",
       "      <td>2,680,434</td>\n",
       "      <td>Mayors Move to Address Racial Disparity in Cov...</td>\n",
       "      <td>[Mayors, Move, Address, Racial, Disparity, Cov...</td>\n",
       "      <td>0</td>\n",
       "    </tr>\n",
       "    <tr>\n",
       "      <th>6087</th>\n",
       "      <td>6087</td>\n",
       "      <td>1.113510e+18</td>\n",
       "      <td>RepSusieLee</td>\n",
       "      <td>2019-04-03T14:47:31-04:00</td>\n",
       "      <td>Domestic &amp;amp; sexual violence remains crimina...</td>\n",
       "      <td>Susie Lee</td>\n",
       "      <td>Rep</td>\n",
       "      <td>3-Jan-19</td>\n",
       "      <td>11/7/1966</td>\n",
       "      <td>F</td>\n",
       "      <td>NV</td>\n",
       "      <td>3</td>\n",
       "      <td>0</td>\n",
       "      <td>512,058</td>\n",
       "      <td>539,260</td>\n",
       "      <td>531,373</td>\n",
       "      <td>463,567</td>\n",
       "      <td>Domestic &amp;amp; sexual violence remains crimina...</td>\n",
       "      <td>[Domestic, sexual, violence, remains, criminal...</td>\n",
       "      <td>0</td>\n",
       "    </tr>\n",
       "    <tr>\n",
       "      <th>6669</th>\n",
       "      <td>6669</td>\n",
       "      <td>1.179350e+18</td>\n",
       "      <td>RepJackBergman</td>\n",
       "      <td>2019-10-02T06:46:26-04:00</td>\n",
       "      <td>Hey northern Michigan’ll be joining The Ron Jo...</td>\n",
       "      <td>Jack Bergman</td>\n",
       "      <td>Rep</td>\n",
       "      <td>3-Jan-19</td>\n",
       "      <td>2/2/1947</td>\n",
       "      <td>M</td>\n",
       "      <td>MI</td>\n",
       "      <td>1</td>\n",
       "      <td>1</td>\n",
       "      <td>2,279,543</td>\n",
       "      <td>2,268,839</td>\n",
       "      <td>2,564,569</td>\n",
       "      <td>2,115,256</td>\n",
       "      <td>Hey northern Michigan, I’ll be joining The Ron...</td>\n",
       "      <td>[Hey, northern, Michigan’ll, joining, The, Ron...</td>\n",
       "      <td>1</td>\n",
       "    </tr>\n",
       "  </tbody>\n",
       "</table>\n",
       "</div>"
      ],
      "text/plain": [
       "      index      tweet_id      screen_name                   datetime  \\\n",
       "9254   9254  1.301260e+18      RepBonamici  2020-09-02T16:52:46-04:00   \n",
       "1561   1561  1.319450e+18  RepGregoryMeeks  2020-10-22T21:35:40-04:00   \n",
       "1670   1670  1.262360e+18   RepDwightEvans  2020-05-18T08:11:01-04:00   \n",
       "6087   6087  1.113510e+18      RepSusieLee  2019-04-03T14:47:31-04:00   \n",
       "6669   6669  1.179350e+18   RepJackBergman  2019-10-02T06:46:26-04:00   \n",
       "\n",
       "                                                   text    name_wikipedia  \\\n",
       "9254  Child care is one of the most pressing challen...  Suzanne Bonamici   \n",
       "1561  Trumps tax returns are around the corner, just...     Gregory Meeks   \n",
       "1670  Mayors Move to Address Racial Disparity in Cov...      Dwight Evans   \n",
       "6087  Domestic &amp; sexual violence remains crimina...         Susie Lee   \n",
       "6669  Hey northern Michigan’ll be joining The Ron Jo...      Jack Bergman   \n",
       "\n",
       "     position joined_congress_date    birthday gender state district_number  \\\n",
       "9254      Rep            31-Jan-12  10/14/1954      F    OR               1   \n",
       "1561      Rep             3-Feb-98   9/25/1953      M    NY               5   \n",
       "1670      Rep            14-Nov-16   5/16/1954      M    PA               3   \n",
       "6087      Rep             3-Jan-19   11/7/1966      F    NV               3   \n",
       "6669      Rep             3-Jan-19    2/2/1947      M    MI               1   \n",
       "\n",
       "      party trump_2016_state_share clinton_2016_state_share  \\\n",
       "9254      0                782,403                1,002,106   \n",
       "1561      0              2,819,533                4,556,118   \n",
       "1670      0              2,970,733                2,926,441   \n",
       "6087      0                512,058                  539,260   \n",
       "6669      1              2,279,543                2,268,839   \n",
       "\n",
       "     obama_2012_state_share romney_2012_state_share  \\\n",
       "9254                970,488                 754,175   \n",
       "1561              4,485,741               2,490,431   \n",
       "1670              2,990,274               2,680,434   \n",
       "6087                531,373                 463,567   \n",
       "6669              2,564,569               2,115,256   \n",
       "\n",
       "                                          text_original  \\\n",
       "9254  Child care is one of the most pressing challen...   \n",
       "1561  Trumps tax returns are around the corner, just...   \n",
       "1670  Mayors Move to Address Racial Disparity in Cov...   \n",
       "6087  Domestic &amp; sexual violence remains crimina...   \n",
       "6669  Hey northern Michigan, I’ll be joining The Ron...   \n",
       "\n",
       "                                                 tokens  party_binary  \n",
       "9254  [Child, care, pressing, challenges, face’ve, a...             0  \n",
       "1561  [Trumps, tax, returns, corner, like, healthcar...             0  \n",
       "1670  [Mayors, Move, Address, Racial, Disparity, Cov...             0  \n",
       "6087  [Domestic, sexual, violence, remains, criminal...             0  \n",
       "6669  [Hey, northern, Michigan’ll, joining, The, Ron...             1  "
      ]
     },
     "execution_count": 34,
     "metadata": {},
     "output_type": "execute_result"
    }
   ],
   "source": [
    "train.head()"
   ]
  },
  {
   "cell_type": "code",
   "execution_count": 36,
   "metadata": {},
   "outputs": [],
   "source": [
    "#associate each document with the class that we want to predict later\n",
    "ct_train_tagged = train.apply(lambda r: TaggedDocument(words=r['tokens'], tags=[r.party_binary]), axis=1)\n",
    "ct_test_tagged = test.apply(lambda r: TaggedDocument(words=r['tokens'], tags=[r.party_binary]), axis=1)"
   ]
  },
  {
   "cell_type": "code",
   "execution_count": 38,
   "metadata": {},
   "outputs": [
    {
     "data": {
      "text/plain": [
       "TaggedDocument(words=['My', 'Twitter', 'Town', 'Hall', 'healthcare', 'begun', 'answering', 'questions', 'live', 'Please', 'hit', 'AskHank'], tags=[0])"
      ]
     },
     "execution_count": 38,
     "metadata": {},
     "output_type": "execute_result"
    }
   ],
   "source": [
    "ct_train_tagged[1]"
   ]
  },
  {
   "cell_type": "code",
   "execution_count": null,
   "metadata": {},
   "outputs": [],
   "source": [
    "#Benjamin's sentiments"
   ]
  },
  {
   "cell_type": "code",
   "execution_count": null,
   "metadata": {},
   "outputs": [],
   "source": [
    "#Taryn's BOW"
   ]
  },
  {
   "cell_type": "code",
   "execution_count": 42,
   "metadata": {},
   "outputs": [
    {
     "name": "stderr",
     "output_type": "stream",
     "text": [
      "100%|██████████| 8000/8000 [00:00<00:00, 43036.05it/s]\n"
     ]
    }
   ],
   "source": [
    "#Irem's word embeddings\n",
    "\n",
    "cores = multiprocessing.cpu_count()\n",
    "model_dbow = Doc2Vec(dm=0, vector_size=300, negative=5, hs=0, min_count=2, sample = 0, workers=cores - 1)\n",
    "model_dbow.build_vocab([x for x in tqdm(ct_train_tagged.values)])"
   ]
  },
  {
   "cell_type": "code",
   "execution_count": 44,
   "metadata": {},
   "outputs": [
    {
     "name": "stderr",
     "output_type": "stream",
     "text": [
      "100%|██████████| 8000/8000 [00:00<00:00, 1471943.85it/s]\n",
      "100%|██████████| 8000/8000 [00:00<00:00, 2513252.34it/s]\n",
      "100%|██████████| 8000/8000 [00:00<00:00, 928508.27it/s]\n",
      "100%|██████████| 8000/8000 [00:00<00:00, 1072369.19it/s]\n",
      "100%|██████████| 8000/8000 [00:00<00:00, 1066811.81it/s]\n",
      "100%|██████████| 8000/8000 [00:00<00:00, 1535250.37it/s]\n",
      "100%|██████████| 8000/8000 [00:00<00:00, 1325371.57it/s]\n",
      "100%|██████████| 8000/8000 [00:00<00:00, 1338643.26it/s]\n",
      "100%|██████████| 8000/8000 [00:00<00:00, 2353705.95it/s]\n",
      "100%|██████████| 8000/8000 [00:00<00:00, 2263062.79it/s]\n",
      "100%|██████████| 8000/8000 [00:00<00:00, 2375366.84it/s]\n",
      "100%|██████████| 8000/8000 [00:00<00:00, 1616146.42it/s]\n",
      "100%|██████████| 8000/8000 [00:00<00:00, 1728184.59it/s]\n",
      "100%|██████████| 8000/8000 [00:00<00:00, 2282303.90it/s]\n",
      "100%|██████████| 8000/8000 [00:00<00:00, 2283701.90it/s]\n",
      "100%|██████████| 8000/8000 [00:00<00:00, 1227571.23it/s]\n",
      "100%|██████████| 8000/8000 [00:00<00:00, 2389406.25it/s]\n",
      "100%|██████████| 8000/8000 [00:00<00:00, 890274.13it/s]\n",
      "100%|██████████| 8000/8000 [00:00<00:00, 2583892.81it/s]\n",
      "100%|██████████| 8000/8000 [00:00<00:00, 2649801.15it/s]\n",
      "100%|██████████| 8000/8000 [00:00<00:00, 2249861.34it/s]\n",
      "100%|██████████| 8000/8000 [00:00<00:00, 2401720.13it/s]\n",
      "100%|██████████| 8000/8000 [00:00<00:00, 2556917.78it/s]\n",
      "100%|██████████| 8000/8000 [00:00<00:00, 2235322.90it/s]\n",
      "100%|██████████| 8000/8000 [00:00<00:00, 2584888.07it/s]\n",
      "100%|██████████| 8000/8000 [00:00<00:00, 2298406.19it/s]\n",
      "100%|██████████| 8000/8000 [00:00<00:00, 2561602.57it/s]\n",
      "100%|██████████| 8000/8000 [00:00<00:00, 1303540.34it/s]\n",
      "100%|██████████| 8000/8000 [00:00<00:00, 2347612.96it/s]\n",
      "100%|██████████| 8000/8000 [00:00<00:00, 1576583.75it/s]\n"
     ]
    }
   ],
   "source": [
    "for epoch in range(30):\n",
    "    model_dbow.train(utils.shuffle([x for x in tqdm(ct_train_tagged.values)]), \n",
    "                     total_examples=len(ct_train_tagged.values), epochs=30)\n",
    "    model_dbow.alpha -= 0.002\n",
    "    model_dbow.min_alpha = model_dbow.alpha"
   ]
  },
  {
   "cell_type": "code",
   "execution_count": 47,
   "metadata": {},
   "outputs": [],
   "source": [
    "def vec_for_learning(model, tagged_docs):\n",
    "    sents = tagged_docs.values\n",
    "    targets, regressors = zip(*[(doc.tags[0], model.infer_vector(doc.words)) for doc in sents])\n",
    "    return targets, regressors"
   ]
  },
  {
   "cell_type": "code",
   "execution_count": 48,
   "metadata": {},
   "outputs": [
    {
     "data": {
      "image/png": "[encoded data removed]",
      "text/plain": [
       "<Figure size 720x504 with 2 Axes>"
      ]
     },
     "metadata": {
      "needs_background": "light"
     },
     "output_type": "display_data"
    }
   ],
   "source": [
    "y_train, X_train = vec_for_learning(model_dbow, ct_train_tagged)\n",
    "y_test, X_test = vec_for_learning(model_dbow, ct_test_tagged)\n",
    "logit_reg = LogisticRegression()\n",
    "logit_model = logit_reg.fit(X_train, y_train)\n",
    "y_pred = logit_model.predict(X_test)\n",
    "\n",
    "cf_matrix = confusion_matrix(y_test, y_pred, normalize = \"true\")\n",
    "\n",
    "df_cm = pd.DataFrame(cf_matrix, range(2),\n",
    "                  range(2))\n",
    "\n",
    "df_cm = df_cm.rename(index=str, columns={0: \"Democrat\", 1: \"Republican\"})\n",
    "df_cm.index = [\"Democrat\", \"Republican\"]\n",
    "plt.figure(figsize = (10,7))\n",
    "sns.set(font_scale=1.4)#for label size\n",
    "sns.heatmap(df_cm, \n",
    "           annot=True,\n",
    "           annot_kws={\"size\": 16},\n",
    "           fmt='g')\n",
    "\n",
    "plt.title('Confusion Matrix')\n",
    "plt.xlabel(\"Predicted Label\")\n",
    "plt.ylabel(\"True Label\")\n",
    "plt.show()"
   ]
  },
  {
   "cell_type": "markdown",
   "metadata": {},
   "source": [
    "### Two Combined Models"
   ]
  },
  {
   "cell_type": "code",
   "execution_count": null,
   "metadata": {},
   "outputs": [],
   "source": [
    "# two models ([best text features + non-text features] * [democrat/republican, senator/representative])\n",
    "..."
   ]
  },
  {
   "cell_type": "markdown",
   "metadata": {},
   "source": [
    "## Discussion Questions"
   ]
  },
  {
   "cell_type": "markdown",
   "metadata": {},
   "source": [
    "1. Why do standard preprocessing techniques need to be further customized to a particular corpus?"
   ]
  },
  {
   "cell_type": "markdown",
   "metadata": {},
   "source": [
    "**Your Answer Here**"
   ]
  },
  {
   "cell_type": "markdown",
   "metadata": {},
   "source": [
    "2. Did you find evidence for the idea that Democrats and Republicans have different sentiments in their tweets? What about Senators and Representatives?"
   ]
  },
  {
   "cell_type": "markdown",
   "metadata": {},
   "source": [
    "**Your Answer Here**"
   ]
  },
  {
   "cell_type": "markdown",
   "metadata": {},
   "source": [
    "3. Why is validating your exploratory and unsupervised learning approaches with a supervised learning algorithm valuable?"
   ]
  },
  {
   "cell_type": "markdown",
   "metadata": {},
   "source": [
    "**Your Answer Here**"
   ]
  },
  {
   "cell_type": "markdown",
   "metadata": {},
   "source": [
    "4. Did text only, non-text only, or text and non-text features together perform the best? What is the intuition behind combining text and non-text features in a supervised learning algorithm?"
   ]
  },
  {
   "cell_type": "markdown",
   "metadata": {},
   "source": [
    "**Your Answer Here**"
   ]
  }
 ],
 "metadata": {
  "kernelspec": {
   "display_name": "Python 3",
   "language": "python",
   "name": "python3"
  },
  "language_info": {
   "codemirror_mode": {
    "name": "ipython",
    "version": 3
   },
   "file_extension": ".py",
   "mimetype": "text/x-python",
   "name": "python",
   "nbconvert_exporter": "python",
   "pygments_lexer": "ipython3",
   "version": "3.8.8"
  }
 },
 "nbformat": 4,
 "nbformat_minor": 4
}
